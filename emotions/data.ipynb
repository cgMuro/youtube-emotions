{
 "metadata": {
  "language_info": {
   "codemirror_mode": {
    "name": "ipython",
    "version": 3
   },
   "file_extension": ".py",
   "mimetype": "text/x-python",
   "name": "python",
   "nbconvert_exporter": "python",
   "pygments_lexer": "ipython3",
   "version": "3.8.5-final"
  },
  "orig_nbformat": 2,
  "kernelspec": {
   "name": "python3",
   "display_name": "Python 3",
   "language": "python"
  }
 },
 "nbformat": 4,
 "nbformat_minor": 2,
 "cells": [
  {
   "cell_type": "code",
   "execution_count": 1,
   "metadata": {},
   "outputs": [],
   "source": [
    "import numpy as np\n",
    "import pandas as pd\n",
    "import matplotlib.pyplot as plt\n",
    "import seaborn as sns\n",
    "\n",
    "sns.set_theme(style=\"darkgrid\")"
   ]
  },
  {
   "source": [
    "# What we're going to do:\n",
    "\n",
    "1. Combine all the datasets together\n",
    "2. Define n emotions\n",
    "3. Check and remove duplicates\n",
    "4. Check the distribution of the categories\n",
    "5. Flatten the distribution"
   ],
   "cell_type": "markdown",
   "metadata": {}
  },
  {
   "source": [
    "## Load dataframes"
   ],
   "cell_type": "markdown",
   "metadata": {}
  },
  {
   "cell_type": "code",
   "execution_count": 2,
   "metadata": {},
   "outputs": [
    {
     "output_type": "execute_result",
     "data": {
      "text/plain": [
       "                      id                 date             user  \\\n",
       "0    1348669486514249730  2021-01-11 16:33:57         Zaquawn5   \n",
       "1    1348662117495312385  2021-01-11 16:04:40  AniruddhaBhakti   \n",
       "2    1348660886723055622  2021-01-11 15:59:46    cheesybreadaj   \n",
       "3    1348652024657833984  2021-01-11 15:24:34         RepetApp   \n",
       "4    1348648574007926785  2021-01-11 15:10:51    Flora34574173   \n",
       "..                   ...                  ...              ...   \n",
       "550  1346637816168673280  2021-01-06 02:00:49  ArabellaPalumbo   \n",
       "551  1346319540234252289  2021-01-05 04:56:06     peculiART927   \n",
       "552  1346319517480148998  2021-01-05 04:56:01     peculiART927   \n",
       "553  1346276466263285761  2021-01-05 02:04:56          kimpita   \n",
       "554  1346192173570650113  2021-01-04 20:29:59          BDimyon   \n",
       "\n",
       "                                                  text  emotion  \n",
       "0    Me angrily drawing something (sorry it doesn’t...    angry  \n",
       "1    Sadguru Shree Aniruddha explains how one shoul...    angry  \n",
       "2    hayden stop looking at my social media i am #a...    angry  \n",
       "3    Damn, my gf calls me by name 😨😱\\n\\n#damn #mygi...    angry  \n",
       "4    It is not within everybody's power to be #angr...    angry  \n",
       "..                                                 ...      ...  \n",
       "550  Faces 3, 4 &amp; 5\\n(Not sure about the lip)\\n...  disgust  \n",
       "551  Inside Out Characters tutorial full vid⬇️\\nhtt...  disgust  \n",
       "552  Inside Out Characters pt. 2\\n(Anger, Fear, &am...  disgust  \n",
       "553  #truth #disgust #shameful \\n\\nBring on January...  disgust  \n",
       "554  Nice work you charlatan who doesnt care any mo...  disgust  \n",
       "\n",
       "[555 rows x 5 columns]"
      ],
      "text/html": "<div>\n<style scoped>\n    .dataframe tbody tr th:only-of-type {\n        vertical-align: middle;\n    }\n\n    .dataframe tbody tr th {\n        vertical-align: top;\n    }\n\n    .dataframe thead th {\n        text-align: right;\n    }\n</style>\n<table border=\"1\" class=\"dataframe\">\n  <thead>\n    <tr style=\"text-align: right;\">\n      <th></th>\n      <th>id</th>\n      <th>date</th>\n      <th>user</th>\n      <th>text</th>\n      <th>emotion</th>\n    </tr>\n  </thead>\n  <tbody>\n    <tr>\n      <th>0</th>\n      <td>1348669486514249730</td>\n      <td>2021-01-11 16:33:57</td>\n      <td>Zaquawn5</td>\n      <td>Me angrily drawing something (sorry it doesn’t...</td>\n      <td>angry</td>\n    </tr>\n    <tr>\n      <th>1</th>\n      <td>1348662117495312385</td>\n      <td>2021-01-11 16:04:40</td>\n      <td>AniruddhaBhakti</td>\n      <td>Sadguru Shree Aniruddha explains how one shoul...</td>\n      <td>angry</td>\n    </tr>\n    <tr>\n      <th>2</th>\n      <td>1348660886723055622</td>\n      <td>2021-01-11 15:59:46</td>\n      <td>cheesybreadaj</td>\n      <td>hayden stop looking at my social media i am #a...</td>\n      <td>angry</td>\n    </tr>\n    <tr>\n      <th>3</th>\n      <td>1348652024657833984</td>\n      <td>2021-01-11 15:24:34</td>\n      <td>RepetApp</td>\n      <td>Damn, my gf calls me by name 😨😱\\n\\n#damn #mygi...</td>\n      <td>angry</td>\n    </tr>\n    <tr>\n      <th>4</th>\n      <td>1348648574007926785</td>\n      <td>2021-01-11 15:10:51</td>\n      <td>Flora34574173</td>\n      <td>It is not within everybody's power to be #angr...</td>\n      <td>angry</td>\n    </tr>\n    <tr>\n      <th>...</th>\n      <td>...</td>\n      <td>...</td>\n      <td>...</td>\n      <td>...</td>\n      <td>...</td>\n    </tr>\n    <tr>\n      <th>550</th>\n      <td>1346637816168673280</td>\n      <td>2021-01-06 02:00:49</td>\n      <td>ArabellaPalumbo</td>\n      <td>Faces 3, 4 &amp;amp; 5\\n(Not sure about the lip)\\n...</td>\n      <td>disgust</td>\n    </tr>\n    <tr>\n      <th>551</th>\n      <td>1346319540234252289</td>\n      <td>2021-01-05 04:56:06</td>\n      <td>peculiART927</td>\n      <td>Inside Out Characters tutorial full vid⬇️\\nhtt...</td>\n      <td>disgust</td>\n    </tr>\n    <tr>\n      <th>552</th>\n      <td>1346319517480148998</td>\n      <td>2021-01-05 04:56:01</td>\n      <td>peculiART927</td>\n      <td>Inside Out Characters pt. 2\\n(Anger, Fear, &amp;am...</td>\n      <td>disgust</td>\n    </tr>\n    <tr>\n      <th>553</th>\n      <td>1346276466263285761</td>\n      <td>2021-01-05 02:04:56</td>\n      <td>kimpita</td>\n      <td>#truth #disgust #shameful \\n\\nBring on January...</td>\n      <td>disgust</td>\n    </tr>\n    <tr>\n      <th>554</th>\n      <td>1346192173570650113</td>\n      <td>2021-01-04 20:29:59</td>\n      <td>BDimyon</td>\n      <td>Nice work you charlatan who doesnt care any mo...</td>\n      <td>disgust</td>\n    </tr>\n  </tbody>\n</table>\n<p>555 rows × 5 columns</p>\n</div>"
     },
     "metadata": {},
     "execution_count": 2
    }
   ],
   "source": [
    "raw_df_0 = pd.read_csv('./data/raw/emotions_0.csv', index_col=0)\n",
    "raw_df_1 = pd.read_csv('./data/raw/emotions_1.csv', index_col=0)\n",
    "raw_df_2 = pd.read_csv('./data/raw/emotions_2.csv', index_col=0)\n",
    "raw_df_3 = pd.read_csv('./data/raw/emotions_3.csv', index_col=0)\n",
    "raw_df_4 = pd.read_csv('./data/raw/emotions_4.csv', index_col=0)\n",
    "raw_df_5 = pd.read_csv('./data/raw/emotions_5.csv', index_col=0)\n",
    "raw_df_6 = pd.read_csv('./data/raw/emotions_6.csv', index_col=0)\n",
    "\n",
    "raw_df_0"
   ]
  },
  {
   "source": [
    "## Combine datasets"
   ],
   "cell_type": "markdown",
   "metadata": {}
  },
  {
   "cell_type": "code",
   "execution_count": 3,
   "metadata": {},
   "outputs": [
    {
     "output_type": "execute_result",
     "data": {
      "text/plain": [
       "                       id                 date             user  \\\n",
       "0     1348669486514249730  2021-01-11 16:33:57         Zaquawn5   \n",
       "1     1348662117495312385  2021-01-11 16:04:40  AniruddhaBhakti   \n",
       "2     1348660886723055622  2021-01-11 15:59:46    cheesybreadaj   \n",
       "3     1348652024657833984  2021-01-11 15:24:34         RepetApp   \n",
       "4     1348648574007926785  2021-01-11 15:10:51    Flora34574173   \n",
       "...                   ...                  ...              ...   \n",
       "6773  1346395201712115712  2021-01-05 09:56:45       KingOfCnut   \n",
       "6774  1346375559169929216  2021-01-05 08:38:42      Miss_FionaM   \n",
       "6775  1346373563473940486  2021-01-05 08:30:46    RShoppingland   \n",
       "6776  1346366881922510851  2021-01-05 08:04:13       1200TECHNO   \n",
       "6777  1346337118470217730  2021-01-05 06:05:57      Draconix_et   \n",
       "\n",
       "                                                   text emotion  \n",
       "0     Me angrily drawing something (sorry it doesn’t...   angry  \n",
       "1     Sadguru Shree Aniruddha explains how one shoul...   angry  \n",
       "2     hayden stop looking at my social media i am #a...   angry  \n",
       "3     Damn, my gf calls me by name 😨😱\\n\\n#damn #mygi...   angry  \n",
       "4     It is not within everybody's power to be #angr...   angry  \n",
       "...                                                 ...     ...  \n",
       "6773  Tag whoever you want, they get it, you don’t 😂...   angry  \n",
       "6774  Really don't need a brainless so called friend...   angry  \n",
       "6775  We are a angry!\\n\\nhttps://t.co/Pel5LBU4h3\\n.\\...   angry  \n",
       "6776  NVM IT IS DOWN AGAIN....... #ihatemylife #iwan...   angry  \n",
       "6777  Now it's the time to add filament sensors to a...   angry  \n",
       "\n",
       "[72186 rows x 5 columns]"
      ],
      "text/html": "<div>\n<style scoped>\n    .dataframe tbody tr th:only-of-type {\n        vertical-align: middle;\n    }\n\n    .dataframe tbody tr th {\n        vertical-align: top;\n    }\n\n    .dataframe thead th {\n        text-align: right;\n    }\n</style>\n<table border=\"1\" class=\"dataframe\">\n  <thead>\n    <tr style=\"text-align: right;\">\n      <th></th>\n      <th>id</th>\n      <th>date</th>\n      <th>user</th>\n      <th>text</th>\n      <th>emotion</th>\n    </tr>\n  </thead>\n  <tbody>\n    <tr>\n      <th>0</th>\n      <td>1348669486514249730</td>\n      <td>2021-01-11 16:33:57</td>\n      <td>Zaquawn5</td>\n      <td>Me angrily drawing something (sorry it doesn’t...</td>\n      <td>angry</td>\n    </tr>\n    <tr>\n      <th>1</th>\n      <td>1348662117495312385</td>\n      <td>2021-01-11 16:04:40</td>\n      <td>AniruddhaBhakti</td>\n      <td>Sadguru Shree Aniruddha explains how one shoul...</td>\n      <td>angry</td>\n    </tr>\n    <tr>\n      <th>2</th>\n      <td>1348660886723055622</td>\n      <td>2021-01-11 15:59:46</td>\n      <td>cheesybreadaj</td>\n      <td>hayden stop looking at my social media i am #a...</td>\n      <td>angry</td>\n    </tr>\n    <tr>\n      <th>3</th>\n      <td>1348652024657833984</td>\n      <td>2021-01-11 15:24:34</td>\n      <td>RepetApp</td>\n      <td>Damn, my gf calls me by name 😨😱\\n\\n#damn #mygi...</td>\n      <td>angry</td>\n    </tr>\n    <tr>\n      <th>4</th>\n      <td>1348648574007926785</td>\n      <td>2021-01-11 15:10:51</td>\n      <td>Flora34574173</td>\n      <td>It is not within everybody's power to be #angr...</td>\n      <td>angry</td>\n    </tr>\n    <tr>\n      <th>...</th>\n      <td>...</td>\n      <td>...</td>\n      <td>...</td>\n      <td>...</td>\n      <td>...</td>\n    </tr>\n    <tr>\n      <th>6773</th>\n      <td>1346395201712115712</td>\n      <td>2021-01-05 09:56:45</td>\n      <td>KingOfCnut</td>\n      <td>Tag whoever you want, they get it, you don’t 😂...</td>\n      <td>angry</td>\n    </tr>\n    <tr>\n      <th>6774</th>\n      <td>1346375559169929216</td>\n      <td>2021-01-05 08:38:42</td>\n      <td>Miss_FionaM</td>\n      <td>Really don't need a brainless so called friend...</td>\n      <td>angry</td>\n    </tr>\n    <tr>\n      <th>6775</th>\n      <td>1346373563473940486</td>\n      <td>2021-01-05 08:30:46</td>\n      <td>RShoppingland</td>\n      <td>We are a angry!\\n\\nhttps://t.co/Pel5LBU4h3\\n.\\...</td>\n      <td>angry</td>\n    </tr>\n    <tr>\n      <th>6776</th>\n      <td>1346366881922510851</td>\n      <td>2021-01-05 08:04:13</td>\n      <td>1200TECHNO</td>\n      <td>NVM IT IS DOWN AGAIN....... #ihatemylife #iwan...</td>\n      <td>angry</td>\n    </tr>\n    <tr>\n      <th>6777</th>\n      <td>1346337118470217730</td>\n      <td>2021-01-05 06:05:57</td>\n      <td>Draconix_et</td>\n      <td>Now it's the time to add filament sensors to a...</td>\n      <td>angry</td>\n    </tr>\n  </tbody>\n</table>\n<p>72186 rows × 5 columns</p>\n</div>"
     },
     "metadata": {},
     "execution_count": 3
    }
   ],
   "source": [
    "df = pd.concat([raw_df_0, raw_df_1, raw_df_2, raw_df_3, raw_df_4, raw_df_5, raw_df_6])\n",
    "\n",
    "df"
   ]
  },
  {
   "source": [
    "## Define n emotions\n",
    "\n",
    "Emotions:\n",
    "* Joy\n",
    "* Love\n",
    "* Disgust\n",
    "* Constructive feedback\n",
    "* Anger/hate"
   ],
   "cell_type": "markdown",
   "metadata": {}
  },
  {
   "cell_type": "code",
   "execution_count": 4,
   "metadata": {},
   "outputs": [
    {
     "output_type": "execute_result",
     "data": {
      "text/plain": [
       "array(['angry', 'joy', 'advice', 'happy', 'love', 'disgust', nan,\n",
       "       'Disgust', 'disgusting', 'Disgusting', 'Advice', 'feedback',\n",
       "       'Feedback', 'anger', 'Anger', 'hate', 'rage', 'Rage', 'Hate',\n",
       "       'dislike', 'Angry'], dtype=object)"
      ]
     },
     "metadata": {},
     "execution_count": 4
    }
   ],
   "source": [
    "df['emotion'].unique()"
   ]
  },
  {
   "cell_type": "code",
   "execution_count": 5,
   "metadata": {},
   "outputs": [
    {
     "output_type": "execute_result",
     "data": {
      "text/plain": [
       "[id                                       1348246009307164679\n",
       " date                                     2021-01-10 12:31:12\n",
       " user                                            software4iot\n",
       " text       #IoT  Internet of Things. IoT Infrastructures:...\n",
       " emotion                                                  NaN\n",
       " Name: 10554, dtype: object,\n",
       " id         love\n",
       " date        NaN\n",
       " user        NaN\n",
       " text        NaN\n",
       " emotion     NaN\n",
       " Name:  #love, dtype: object]"
      ]
     },
     "metadata": {},
     "execution_count": 5
    }
   ],
   "source": [
    "#####\n",
    "\n",
    "# Remove NaN emotions\n",
    "\n",
    "indeces = []\n",
    "\n",
    "for idx, row in enumerate(df['emotion'].isnull()):\n",
    "    if row == True:\n",
    "        indeces.append(idx)\n",
    "\n",
    "[df.iloc[i] for i in indeces]"
   ]
  },
  {
   "cell_type": "code",
   "execution_count": 6,
   "metadata": {},
   "outputs": [
    {
     "output_type": "execute_result",
     "data": {
      "text/plain": [
       "id         0\n",
       "date       1\n",
       "user       1\n",
       "text       1\n",
       "emotion    2\n",
       "dtype: int64"
      ]
     },
     "metadata": {},
     "execution_count": 6
    }
   ],
   "source": [
    "df.isnull().sum()"
   ]
  },
  {
   "cell_type": "code",
   "execution_count": 7,
   "metadata": {},
   "outputs": [
    {
     "output_type": "stream",
     "name": "stdout",
     "text": [
      "id                                       1348245894596943873\ndate                                     2021-01-10 12:30:45\nuser                                           confessionbee\ntext       My ❤️ for him is eternal.\\nWishing him a very ...\nemotion                                                 love\nName: 10555, dtype: object id                                       1348245865002098689\ndate                                     2021-01-10 12:30:38\nuser                                           simplefasting\ntext       There's a lot of information on what to do aro...\nemotion                                                 love\nName: 10556, dtype: object\n"
     ]
    }
   ],
   "source": [
    "df.dropna(inplace=True)\n",
    "\n",
    "print(df.iloc[28248], df.iloc[28249])\n",
    "\n",
    "#####"
   ]
  },
  {
   "cell_type": "code",
   "execution_count": 8,
   "metadata": {},
   "outputs": [
    {
     "output_type": "execute_result",
     "data": {
      "text/plain": [
       "id         0\n",
       "date       0\n",
       "user       0\n",
       "text       0\n",
       "emotion    0\n",
       "dtype: int64"
      ]
     },
     "metadata": {},
     "execution_count": 8
    }
   ],
   "source": [
    "df.isnull().sum()"
   ]
  },
  {
   "cell_type": "code",
   "execution_count": 9,
   "metadata": {},
   "outputs": [
    {
     "output_type": "execute_result",
     "data": {
      "text/plain": [
       "array(['angry', 'joy', 'advice', 'happy', 'love', 'disgust', 'Disgust',\n",
       "       'disgusting', 'Disgusting', 'Advice', 'feedback', 'Feedback',\n",
       "       'anger', 'Anger', 'hate', 'rage', 'Rage', 'Hate', 'dislike',\n",
       "       'Angry'], dtype=object)"
      ]
     },
     "metadata": {},
     "execution_count": 9
    }
   ],
   "source": [
    "df['emotion'].unique()"
   ]
  },
  {
   "cell_type": "code",
   "execution_count": 10,
   "metadata": {},
   "outputs": [
    {
     "output_type": "execute_result",
     "data": {
      "text/plain": [
       "array(['anger/hate', 'joy', 'constructive feedback', 'love', 'disgust'],\n",
       "      dtype=object)"
      ]
     },
     "metadata": {},
     "execution_count": 10
    }
   ],
   "source": [
    "def decode_sentiment(label):\n",
    "    if label == 'happy':\n",
    "        return 'joy'\n",
    "    elif label == 'Disgust' or label == 'disgusting' or label == 'Disgusting':\n",
    "        return 'disgust'\n",
    "    elif label == 'advice' or label == 'Advice' or label == 'feedback' or label == 'Feedback':\n",
    "        return 'constructive feedback'\n",
    "    elif label == 'Anger' or label == 'angry' or label == 'rage' or label == 'Rage' or label == 'Hate' or label == 'hate' or label == 'Angry' or label == 'anger' or label == 'dislike':\n",
    "        return 'anger/hate'\n",
    "    else:\n",
    "        return label\n",
    "\n",
    "\n",
    "df['emotion'] = df['emotion'].apply(lambda x: decode_sentiment(x))\n",
    "\n",
    "df['emotion'].unique()"
   ]
  },
  {
   "cell_type": "code",
   "execution_count": 11,
   "metadata": {},
   "outputs": [
    {
     "output_type": "execute_result",
     "data": {
      "text/plain": [
       "                       id                 date             user  \\\n",
       "0     1348669486514249730  2021-01-11 16:33:57         Zaquawn5   \n",
       "1     1348662117495312385  2021-01-11 16:04:40  AniruddhaBhakti   \n",
       "2     1348660886723055622  2021-01-11 15:59:46    cheesybreadaj   \n",
       "3     1348652024657833984  2021-01-11 15:24:34         RepetApp   \n",
       "4     1348648574007926785  2021-01-11 15:10:51    Flora34574173   \n",
       "...                   ...                  ...              ...   \n",
       "6773  1346395201712115712  2021-01-05 09:56:45       KingOfCnut   \n",
       "6774  1346375559169929216  2021-01-05 08:38:42      Miss_FionaM   \n",
       "6775  1346373563473940486  2021-01-05 08:30:46    RShoppingland   \n",
       "6776  1346366881922510851  2021-01-05 08:04:13       1200TECHNO   \n",
       "6777  1346337118470217730  2021-01-05 06:05:57      Draconix_et   \n",
       "\n",
       "                                                   text     emotion  \n",
       "0     Me angrily drawing something (sorry it doesn’t...  anger/hate  \n",
       "1     Sadguru Shree Aniruddha explains how one shoul...  anger/hate  \n",
       "2     hayden stop looking at my social media i am #a...  anger/hate  \n",
       "3     Damn, my gf calls me by name 😨😱\\n\\n#damn #mygi...  anger/hate  \n",
       "4     It is not within everybody's power to be #angr...  anger/hate  \n",
       "...                                                 ...         ...  \n",
       "6773  Tag whoever you want, they get it, you don’t 😂...  anger/hate  \n",
       "6774  Really don't need a brainless so called friend...  anger/hate  \n",
       "6775  We are a angry!\\n\\nhttps://t.co/Pel5LBU4h3\\n.\\...  anger/hate  \n",
       "6776  NVM IT IS DOWN AGAIN....... #ihatemylife #iwan...  anger/hate  \n",
       "6777  Now it's the time to add filament sensors to a...  anger/hate  \n",
       "\n",
       "[72184 rows x 5 columns]"
      ],
      "text/html": "<div>\n<style scoped>\n    .dataframe tbody tr th:only-of-type {\n        vertical-align: middle;\n    }\n\n    .dataframe tbody tr th {\n        vertical-align: top;\n    }\n\n    .dataframe thead th {\n        text-align: right;\n    }\n</style>\n<table border=\"1\" class=\"dataframe\">\n  <thead>\n    <tr style=\"text-align: right;\">\n      <th></th>\n      <th>id</th>\n      <th>date</th>\n      <th>user</th>\n      <th>text</th>\n      <th>emotion</th>\n    </tr>\n  </thead>\n  <tbody>\n    <tr>\n      <th>0</th>\n      <td>1348669486514249730</td>\n      <td>2021-01-11 16:33:57</td>\n      <td>Zaquawn5</td>\n      <td>Me angrily drawing something (sorry it doesn’t...</td>\n      <td>anger/hate</td>\n    </tr>\n    <tr>\n      <th>1</th>\n      <td>1348662117495312385</td>\n      <td>2021-01-11 16:04:40</td>\n      <td>AniruddhaBhakti</td>\n      <td>Sadguru Shree Aniruddha explains how one shoul...</td>\n      <td>anger/hate</td>\n    </tr>\n    <tr>\n      <th>2</th>\n      <td>1348660886723055622</td>\n      <td>2021-01-11 15:59:46</td>\n      <td>cheesybreadaj</td>\n      <td>hayden stop looking at my social media i am #a...</td>\n      <td>anger/hate</td>\n    </tr>\n    <tr>\n      <th>3</th>\n      <td>1348652024657833984</td>\n      <td>2021-01-11 15:24:34</td>\n      <td>RepetApp</td>\n      <td>Damn, my gf calls me by name 😨😱\\n\\n#damn #mygi...</td>\n      <td>anger/hate</td>\n    </tr>\n    <tr>\n      <th>4</th>\n      <td>1348648574007926785</td>\n      <td>2021-01-11 15:10:51</td>\n      <td>Flora34574173</td>\n      <td>It is not within everybody's power to be #angr...</td>\n      <td>anger/hate</td>\n    </tr>\n    <tr>\n      <th>...</th>\n      <td>...</td>\n      <td>...</td>\n      <td>...</td>\n      <td>...</td>\n      <td>...</td>\n    </tr>\n    <tr>\n      <th>6773</th>\n      <td>1346395201712115712</td>\n      <td>2021-01-05 09:56:45</td>\n      <td>KingOfCnut</td>\n      <td>Tag whoever you want, they get it, you don’t 😂...</td>\n      <td>anger/hate</td>\n    </tr>\n    <tr>\n      <th>6774</th>\n      <td>1346375559169929216</td>\n      <td>2021-01-05 08:38:42</td>\n      <td>Miss_FionaM</td>\n      <td>Really don't need a brainless so called friend...</td>\n      <td>anger/hate</td>\n    </tr>\n    <tr>\n      <th>6775</th>\n      <td>1346373563473940486</td>\n      <td>2021-01-05 08:30:46</td>\n      <td>RShoppingland</td>\n      <td>We are a angry!\\n\\nhttps://t.co/Pel5LBU4h3\\n.\\...</td>\n      <td>anger/hate</td>\n    </tr>\n    <tr>\n      <th>6776</th>\n      <td>1346366881922510851</td>\n      <td>2021-01-05 08:04:13</td>\n      <td>1200TECHNO</td>\n      <td>NVM IT IS DOWN AGAIN....... #ihatemylife #iwan...</td>\n      <td>anger/hate</td>\n    </tr>\n    <tr>\n      <th>6777</th>\n      <td>1346337118470217730</td>\n      <td>2021-01-05 06:05:57</td>\n      <td>Draconix_et</td>\n      <td>Now it's the time to add filament sensors to a...</td>\n      <td>anger/hate</td>\n    </tr>\n  </tbody>\n</table>\n<p>72184 rows × 5 columns</p>\n</div>"
     },
     "metadata": {},
     "execution_count": 11
    }
   ],
   "source": [
    "df"
   ]
  },
  {
   "source": [
    "## Handle duplicates"
   ],
   "cell_type": "markdown",
   "metadata": {}
  },
  {
   "cell_type": "code",
   "execution_count": 12,
   "metadata": {},
   "outputs": [
    {
     "output_type": "execute_result",
     "data": {
      "text/plain": [
       "32374"
      ]
     },
     "metadata": {},
     "execution_count": 12
    }
   ],
   "source": [
    "df.duplicated(subset=['text'], keep='first').sum()"
   ]
  },
  {
   "cell_type": "code",
   "execution_count": 13,
   "metadata": {},
   "outputs": [
    {
     "output_type": "execute_result",
     "data": {
      "text/plain": [
       "                       id                 date             user  \\\n",
       "0     1348669486514249730  2021-01-11 16:33:57         Zaquawn5   \n",
       "1     1348662117495312385  2021-01-11 16:04:40  AniruddhaBhakti   \n",
       "2     1348660886723055622  2021-01-11 15:59:46    cheesybreadaj   \n",
       "3     1348652024657833984  2021-01-11 15:24:34         RepetApp   \n",
       "4     1348648574007926785  2021-01-11 15:10:51    Flora34574173   \n",
       "...                   ...                  ...              ...   \n",
       "6028  1348476212662906881  2021-01-11 03:45:57  mexicanwarofin1   \n",
       "6114  1347829107636252675  2021-01-09 08:54:35   ScottGuillory6   \n",
       "6119  1347785149044310016  2021-01-09 05:59:54          jikm1nn   \n",
       "6155  1347577693898829827  2021-01-08 16:15:33      ecarr_becky   \n",
       "6158  1347559094345994241  2021-01-08 15:01:39   T_O_Foundation   \n",
       "\n",
       "                                                   text     emotion  \n",
       "0     Me angrily drawing something (sorry it doesn’t...  anger/hate  \n",
       "1     Sadguru Shree Aniruddha explains how one shoul...  anger/hate  \n",
       "2     hayden stop looking at my social media i am #a...  anger/hate  \n",
       "3     Damn, my gf calls me by name 😨😱\\n\\n#damn #mygi...  anger/hate  \n",
       "4     It is not within everybody's power to be #angr...  anger/hate  \n",
       "...                                                 ...         ...  \n",
       "6028  a lot of indigenous and mestizo people are ups...  anger/hate  \n",
       "6114  If you think these people are angry, just wait...  anger/hate  \n",
       "6119                           my dms broke i am #angry  anger/hate  \n",
       "6155  The divide will continue to grow in this count...  anger/hate  \n",
       "6158  Betsy DeVos resigns, and many #educators call ...  anger/hate  \n",
       "\n",
       "[39810 rows x 5 columns]"
      ],
      "text/html": "<div>\n<style scoped>\n    .dataframe tbody tr th:only-of-type {\n        vertical-align: middle;\n    }\n\n    .dataframe tbody tr th {\n        vertical-align: top;\n    }\n\n    .dataframe thead th {\n        text-align: right;\n    }\n</style>\n<table border=\"1\" class=\"dataframe\">\n  <thead>\n    <tr style=\"text-align: right;\">\n      <th></th>\n      <th>id</th>\n      <th>date</th>\n      <th>user</th>\n      <th>text</th>\n      <th>emotion</th>\n    </tr>\n  </thead>\n  <tbody>\n    <tr>\n      <th>0</th>\n      <td>1348669486514249730</td>\n      <td>2021-01-11 16:33:57</td>\n      <td>Zaquawn5</td>\n      <td>Me angrily drawing something (sorry it doesn’t...</td>\n      <td>anger/hate</td>\n    </tr>\n    <tr>\n      <th>1</th>\n      <td>1348662117495312385</td>\n      <td>2021-01-11 16:04:40</td>\n      <td>AniruddhaBhakti</td>\n      <td>Sadguru Shree Aniruddha explains how one shoul...</td>\n      <td>anger/hate</td>\n    </tr>\n    <tr>\n      <th>2</th>\n      <td>1348660886723055622</td>\n      <td>2021-01-11 15:59:46</td>\n      <td>cheesybreadaj</td>\n      <td>hayden stop looking at my social media i am #a...</td>\n      <td>anger/hate</td>\n    </tr>\n    <tr>\n      <th>3</th>\n      <td>1348652024657833984</td>\n      <td>2021-01-11 15:24:34</td>\n      <td>RepetApp</td>\n      <td>Damn, my gf calls me by name 😨😱\\n\\n#damn #mygi...</td>\n      <td>anger/hate</td>\n    </tr>\n    <tr>\n      <th>4</th>\n      <td>1348648574007926785</td>\n      <td>2021-01-11 15:10:51</td>\n      <td>Flora34574173</td>\n      <td>It is not within everybody's power to be #angr...</td>\n      <td>anger/hate</td>\n    </tr>\n    <tr>\n      <th>...</th>\n      <td>...</td>\n      <td>...</td>\n      <td>...</td>\n      <td>...</td>\n      <td>...</td>\n    </tr>\n    <tr>\n      <th>6028</th>\n      <td>1348476212662906881</td>\n      <td>2021-01-11 03:45:57</td>\n      <td>mexicanwarofin1</td>\n      <td>a lot of indigenous and mestizo people are ups...</td>\n      <td>anger/hate</td>\n    </tr>\n    <tr>\n      <th>6114</th>\n      <td>1347829107636252675</td>\n      <td>2021-01-09 08:54:35</td>\n      <td>ScottGuillory6</td>\n      <td>If you think these people are angry, just wait...</td>\n      <td>anger/hate</td>\n    </tr>\n    <tr>\n      <th>6119</th>\n      <td>1347785149044310016</td>\n      <td>2021-01-09 05:59:54</td>\n      <td>jikm1nn</td>\n      <td>my dms broke i am #angry</td>\n      <td>anger/hate</td>\n    </tr>\n    <tr>\n      <th>6155</th>\n      <td>1347577693898829827</td>\n      <td>2021-01-08 16:15:33</td>\n      <td>ecarr_becky</td>\n      <td>The divide will continue to grow in this count...</td>\n      <td>anger/hate</td>\n    </tr>\n    <tr>\n      <th>6158</th>\n      <td>1347559094345994241</td>\n      <td>2021-01-08 15:01:39</td>\n      <td>T_O_Foundation</td>\n      <td>Betsy DeVos resigns, and many #educators call ...</td>\n      <td>anger/hate</td>\n    </tr>\n  </tbody>\n</table>\n<p>39810 rows × 5 columns</p>\n</div>"
     },
     "metadata": {},
     "execution_count": 13
    }
   ],
   "source": [
    "# Drop duplicates\n",
    "df.drop_duplicates(subset=['text'], keep='first')"
   ]
  },
  {
   "source": [
    "## Explore categories distribution"
   ],
   "cell_type": "markdown",
   "metadata": {}
  },
  {
   "cell_type": "code",
   "execution_count": 14,
   "metadata": {},
   "outputs": [
    {
     "output_type": "display_data",
     "data": {
      "text/plain": "<Figure size 800x600 with 1 Axes>",
      "image/svg+xml": "<?xml version=\"1.0\" encoding=\"utf-8\" standalone=\"no\"?>\n<!DOCTYPE svg PUBLIC \"-//W3C//DTD SVG 1.1//EN\"\n  \"http://www.w3.org/Graphics/SVG/1.1/DTD/svg11.dtd\">\n<!-- Created with matplotlib (https://matplotlib.org/) -->\n<svg height=\"375.357187pt\" version=\"1.1\" viewBox=\"0 0 515.859531 375.357187\" width=\"515.859531pt\" xmlns=\"http://www.w3.org/2000/svg\" xmlns:xlink=\"http://www.w3.org/1999/xlink\">\n <metadata>\n  <rdf:RDF xmlns:cc=\"http://creativecommons.org/ns#\" xmlns:dc=\"http://purl.org/dc/elements/1.1/\" xmlns:rdf=\"http://www.w3.org/1999/02/22-rdf-syntax-ns#\">\n   <cc:Work>\n    <dc:type rdf:resource=\"http://purl.org/dc/dcmitype/StillImage\"/>\n    <dc:date>2021-01-12T18:58:55.824160</dc:date>\n    <dc:format>image/svg+xml</dc:format>\n    <dc:creator>\n     <cc:Agent>\n      <dc:title>Matplotlib v3.3.2, https://matplotlib.org/</dc:title>\n     </cc:Agent>\n    </dc:creator>\n   </cc:Work>\n  </rdf:RDF>\n </metadata>\n <defs>\n  <style type=\"text/css\">*{stroke-linecap:butt;stroke-linejoin:round;}</style>\n </defs>\n <g id=\"figure_1\">\n  <g id=\"patch_1\">\n   <path d=\"M 0 375.357187 \nL 515.859531 375.357187 \nL 515.859531 0 \nL 0 0 \nz\n\" style=\"fill:#ffffff;\"/>\n  </g>\n  <g id=\"axes_1\">\n   <g id=\"patch_2\">\n    <path d=\"M 62.259531 333.36 \nL 508.659531 333.36 \nL 508.659531 7.2 \nL 62.259531 7.2 \nz\n\" style=\"fill:#eaeaf2;\"/>\n   </g>\n   <g id=\"matplotlib.axis_1\">\n    <g id=\"xtick_1\">\n     <g id=\"text_1\">\n      <!-- anger/hate -->\n      <g style=\"fill:#262626;\" transform=\"translate(80.602656 350.867656)scale(0.11 -0.11)\">\n       <defs>\n        <path d=\"M 40.4375 6.390625 \nQ 35.546875 2.25 31.03125 0.53125 \nQ 26.515625 -1.171875 21.34375 -1.171875 \nQ 12.796875 -1.171875 8.203125 3 \nQ 3.609375 7.171875 3.609375 13.671875 \nQ 3.609375 17.484375 5.34375 20.625 \nQ 7.078125 23.78125 9.890625 25.6875 \nQ 12.703125 27.59375 16.21875 28.5625 \nQ 18.796875 29.25 24.03125 29.890625 \nQ 34.671875 31.15625 39.703125 32.90625 \nQ 39.75 34.71875 39.75 35.203125 \nQ 39.75 40.578125 37.25 42.78125 \nQ 33.890625 45.75 27.25 45.75 \nQ 21.046875 45.75 18.09375 43.578125 \nQ 15.140625 41.40625 13.71875 35.890625 \nL 5.125 37.0625 \nQ 6.296875 42.578125 8.984375 45.96875 \nQ 11.671875 49.359375 16.75 51.1875 \nQ 21.828125 53.03125 28.515625 53.03125 \nQ 35.15625 53.03125 39.296875 51.46875 \nQ 43.453125 49.90625 45.40625 47.53125 \nQ 47.359375 45.171875 48.140625 41.546875 \nQ 48.578125 39.3125 48.578125 33.453125 \nL 48.578125 21.734375 \nQ 48.578125 9.46875 49.140625 6.21875 \nQ 49.703125 2.984375 51.375 0 \nL 42.1875 0 \nQ 40.828125 2.734375 40.4375 6.390625 \nz\nM 39.703125 26.03125 \nQ 34.90625 24.078125 25.34375 22.703125 \nQ 19.921875 21.921875 17.671875 20.9375 \nQ 15.4375 19.96875 14.203125 18.09375 \nQ 12.984375 16.21875 12.984375 13.921875 \nQ 12.984375 10.40625 15.640625 8.0625 \nQ 18.3125 5.71875 23.4375 5.71875 \nQ 28.515625 5.71875 32.46875 7.9375 \nQ 36.421875 10.15625 38.28125 14.015625 \nQ 39.703125 17 39.703125 22.796875 \nz\n\" id=\"ArialMT-97\"/>\n        <path d=\"M 6.59375 0 \nL 6.59375 51.859375 \nL 14.5 51.859375 \nL 14.5 44.484375 \nQ 20.21875 53.03125 31 53.03125 \nQ 35.6875 53.03125 39.625 51.34375 \nQ 43.5625 49.65625 45.515625 46.921875 \nQ 47.46875 44.1875 48.25 40.4375 \nQ 48.734375 37.984375 48.734375 31.890625 \nL 48.734375 0 \nL 39.9375 0 \nL 39.9375 31.546875 \nQ 39.9375 36.921875 38.90625 39.578125 \nQ 37.890625 42.234375 35.28125 43.8125 \nQ 32.671875 45.40625 29.15625 45.40625 \nQ 23.53125 45.40625 19.453125 41.84375 \nQ 15.375 38.28125 15.375 28.328125 \nL 15.375 0 \nz\n\" id=\"ArialMT-110\"/>\n        <path d=\"M 4.984375 -4.296875 \nL 13.53125 -5.5625 \nQ 14.0625 -9.515625 16.5 -11.328125 \nQ 19.78125 -13.765625 25.4375 -13.765625 \nQ 31.546875 -13.765625 34.859375 -11.328125 \nQ 38.1875 -8.890625 39.359375 -4.5 \nQ 40.046875 -1.8125 39.984375 6.78125 \nQ 34.234375 0 25.640625 0 \nQ 14.9375 0 9.078125 7.71875 \nQ 3.21875 15.4375 3.21875 26.21875 \nQ 3.21875 33.640625 5.90625 39.90625 \nQ 8.59375 46.1875 13.6875 49.609375 \nQ 18.796875 53.03125 25.6875 53.03125 \nQ 34.859375 53.03125 40.828125 45.609375 \nL 40.828125 51.859375 \nL 48.921875 51.859375 \nL 48.921875 7.03125 \nQ 48.921875 -5.078125 46.453125 -10.125 \nQ 44 -15.1875 38.640625 -18.109375 \nQ 33.296875 -21.046875 25.484375 -21.046875 \nQ 16.21875 -21.046875 10.5 -16.875 \nQ 4.78125 -12.703125 4.984375 -4.296875 \nz\nM 12.25 26.859375 \nQ 12.25 16.65625 16.296875 11.96875 \nQ 20.359375 7.28125 26.46875 7.28125 \nQ 32.515625 7.28125 36.609375 11.9375 \nQ 40.71875 16.609375 40.71875 26.5625 \nQ 40.71875 36.078125 36.5 40.90625 \nQ 32.28125 45.75 26.3125 45.75 \nQ 20.453125 45.75 16.34375 40.984375 \nQ 12.25 36.234375 12.25 26.859375 \nz\n\" id=\"ArialMT-103\"/>\n        <path d=\"M 42.09375 16.703125 \nL 51.171875 15.578125 \nQ 49.03125 7.625 43.21875 3.21875 \nQ 37.40625 -1.171875 28.375 -1.171875 \nQ 17 -1.171875 10.328125 5.828125 \nQ 3.65625 12.84375 3.65625 25.484375 \nQ 3.65625 38.578125 10.390625 45.796875 \nQ 17.140625 53.03125 27.875 53.03125 \nQ 38.28125 53.03125 44.875 45.953125 \nQ 51.46875 38.875 51.46875 26.03125 \nQ 51.46875 25.25 51.421875 23.6875 \nL 12.75 23.6875 \nQ 13.234375 15.140625 17.578125 10.59375 \nQ 21.921875 6.0625 28.421875 6.0625 \nQ 33.25 6.0625 36.671875 8.59375 \nQ 40.09375 11.140625 42.09375 16.703125 \nz\nM 13.234375 30.90625 \nL 42.1875 30.90625 \nQ 41.609375 37.453125 38.875 40.71875 \nQ 34.671875 45.796875 27.984375 45.796875 \nQ 21.921875 45.796875 17.796875 41.75 \nQ 13.671875 37.703125 13.234375 30.90625 \nz\n\" id=\"ArialMT-101\"/>\n        <path d=\"M 6.5 0 \nL 6.5 51.859375 \nL 14.40625 51.859375 \nL 14.40625 44 \nQ 17.4375 49.515625 20 51.265625 \nQ 22.5625 53.03125 25.640625 53.03125 \nQ 30.078125 53.03125 34.671875 50.203125 \nL 31.640625 42.046875 \nQ 28.421875 43.953125 25.203125 43.953125 \nQ 22.3125 43.953125 20.015625 42.21875 \nQ 17.71875 40.484375 16.75 37.40625 \nQ 15.28125 32.71875 15.28125 27.15625 \nL 15.28125 0 \nz\n\" id=\"ArialMT-114\"/>\n        <path d=\"M 0 -1.21875 \nL 20.75 72.796875 \nL 27.78125 72.796875 \nL 7.078125 -1.21875 \nz\n\" id=\"ArialMT-47\"/>\n        <path d=\"M 6.59375 0 \nL 6.59375 71.578125 \nL 15.375 71.578125 \nL 15.375 45.90625 \nQ 21.53125 53.03125 30.90625 53.03125 \nQ 36.671875 53.03125 40.921875 50.75 \nQ 45.171875 48.484375 47 44.484375 \nQ 48.828125 40.484375 48.828125 32.859375 \nL 48.828125 0 \nL 40.046875 0 \nL 40.046875 32.859375 \nQ 40.046875 39.453125 37.1875 42.453125 \nQ 34.328125 45.453125 29.109375 45.453125 \nQ 25.203125 45.453125 21.75 43.421875 \nQ 18.3125 41.40625 16.84375 37.9375 \nQ 15.375 34.46875 15.375 28.375 \nL 15.375 0 \nz\n\" id=\"ArialMT-104\"/>\n        <path d=\"M 25.78125 7.859375 \nL 27.046875 0.09375 \nQ 23.34375 -0.6875 20.40625 -0.6875 \nQ 15.625 -0.6875 12.984375 0.828125 \nQ 10.359375 2.34375 9.28125 4.8125 \nQ 8.203125 7.28125 8.203125 15.1875 \nL 8.203125 45.015625 \nL 1.765625 45.015625 \nL 1.765625 51.859375 \nL 8.203125 51.859375 \nL 8.203125 64.703125 \nL 16.9375 69.96875 \nL 16.9375 51.859375 \nL 25.78125 51.859375 \nL 25.78125 45.015625 \nL 16.9375 45.015625 \nL 16.9375 14.703125 \nQ 16.9375 10.9375 17.40625 9.859375 \nQ 17.875 8.796875 18.921875 8.15625 \nQ 19.96875 7.515625 21.921875 7.515625 \nQ 23.390625 7.515625 25.78125 7.859375 \nz\n\" id=\"ArialMT-116\"/>\n       </defs>\n       <use xlink:href=\"#ArialMT-97\"/>\n       <use x=\"55.615234\" xlink:href=\"#ArialMT-110\"/>\n       <use x=\"111.230469\" xlink:href=\"#ArialMT-103\"/>\n       <use x=\"166.845703\" xlink:href=\"#ArialMT-101\"/>\n       <use x=\"222.460938\" xlink:href=\"#ArialMT-114\"/>\n       <use x=\"255.761719\" xlink:href=\"#ArialMT-47\"/>\n       <use x=\"283.544922\" xlink:href=\"#ArialMT-104\"/>\n       <use x=\"339.160156\" xlink:href=\"#ArialMT-97\"/>\n       <use x=\"394.775391\" xlink:href=\"#ArialMT-116\"/>\n       <use x=\"422.558594\" xlink:href=\"#ArialMT-101\"/>\n      </g>\n     </g>\n    </g>\n    <g id=\"xtick_2\">\n     <g id=\"text_2\">\n      <!-- joy -->\n      <g style=\"fill:#262626;\" transform=\"translate(189.148984 350.733594)scale(0.11 -0.11)\">\n       <defs>\n        <path d=\"M 6.546875 61.375 \nL 6.546875 71.578125 \nL 15.328125 71.578125 \nL 15.328125 61.375 \nz\nM -4.59375 -20.125 \nL -2.9375 -12.640625 \nQ -0.296875 -13.328125 1.21875 -13.328125 \nQ 3.90625 -13.328125 5.21875 -11.546875 \nQ 6.546875 -9.765625 6.546875 -2.640625 \nL 6.546875 51.859375 \nL 15.328125 51.859375 \nL 15.328125 -2.828125 \nQ 15.328125 -12.40625 12.84375 -16.15625 \nQ 9.671875 -21.046875 2.296875 -21.046875 \nQ -1.265625 -21.046875 -4.59375 -20.125 \nz\n\" id=\"ArialMT-106\"/>\n        <path d=\"M 3.328125 25.921875 \nQ 3.328125 40.328125 11.328125 47.265625 \nQ 18.015625 53.03125 27.640625 53.03125 \nQ 38.328125 53.03125 45.109375 46.015625 \nQ 51.90625 39.015625 51.90625 26.65625 \nQ 51.90625 16.65625 48.90625 10.90625 \nQ 45.90625 5.171875 40.15625 2 \nQ 34.421875 -1.171875 27.640625 -1.171875 \nQ 16.75 -1.171875 10.03125 5.8125 \nQ 3.328125 12.796875 3.328125 25.921875 \nz\nM 12.359375 25.921875 \nQ 12.359375 15.96875 16.703125 11.015625 \nQ 21.046875 6.0625 27.640625 6.0625 \nQ 34.1875 6.0625 38.53125 11.03125 \nQ 42.875 16.015625 42.875 26.21875 \nQ 42.875 35.84375 38.5 40.796875 \nQ 34.125 45.75 27.640625 45.75 \nQ 21.046875 45.75 16.703125 40.8125 \nQ 12.359375 35.890625 12.359375 25.921875 \nz\n\" id=\"ArialMT-111\"/>\n        <path d=\"M 6.203125 -19.96875 \nL 5.21875 -11.71875 \nQ 8.109375 -12.5 10.25 -12.5 \nQ 13.1875 -12.5 14.9375 -11.515625 \nQ 16.703125 -10.546875 17.828125 -8.796875 \nQ 18.65625 -7.46875 20.515625 -2.25 \nQ 20.75 -1.515625 21.296875 -0.09375 \nL 1.609375 51.859375 \nL 11.078125 51.859375 \nL 21.875 21.828125 \nQ 23.96875 16.109375 25.640625 9.8125 \nQ 27.15625 15.875 29.25 21.625 \nL 40.328125 51.859375 \nL 49.125 51.859375 \nL 29.390625 -0.875 \nQ 26.21875 -9.421875 24.46875 -12.640625 \nQ 22.125 -17 19.09375 -19.015625 \nQ 16.0625 -21.046875 11.859375 -21.046875 \nQ 9.328125 -21.046875 6.203125 -19.96875 \nz\n\" id=\"ArialMT-121\"/>\n       </defs>\n       <use xlink:href=\"#ArialMT-106\"/>\n       <use x=\"22.216797\" xlink:href=\"#ArialMT-111\"/>\n       <use x=\"77.832031\" xlink:href=\"#ArialMT-121\"/>\n      </g>\n     </g>\n    </g>\n    <g id=\"xtick_3\">\n     <g id=\"text_3\">\n      <!-- constructive feedback -->\n      <g style=\"fill:#262626;\" transform=\"translate(232.267656 350.733594)scale(0.11 -0.11)\">\n       <defs>\n        <path d=\"M 40.4375 19 \nL 49.078125 17.875 \nQ 47.65625 8.9375 41.8125 3.875 \nQ 35.984375 -1.171875 27.484375 -1.171875 \nQ 16.84375 -1.171875 10.375 5.78125 \nQ 3.90625 12.75 3.90625 25.734375 \nQ 3.90625 34.125 6.6875 40.421875 \nQ 9.46875 46.734375 15.15625 49.875 \nQ 20.84375 53.03125 27.546875 53.03125 \nQ 35.984375 53.03125 41.359375 48.75 \nQ 46.734375 44.484375 48.25 36.625 \nL 39.703125 35.296875 \nQ 38.484375 40.53125 35.375 43.15625 \nQ 32.28125 45.796875 27.875 45.796875 \nQ 21.234375 45.796875 17.078125 41.03125 \nQ 12.9375 36.28125 12.9375 25.984375 \nQ 12.9375 15.53125 16.9375 10.796875 \nQ 20.953125 6.0625 27.390625 6.0625 \nQ 32.5625 6.0625 36.03125 9.234375 \nQ 39.5 12.40625 40.4375 19 \nz\n\" id=\"ArialMT-99\"/>\n        <path d=\"M 3.078125 15.484375 \nL 11.765625 16.84375 \nQ 12.5 11.625 15.84375 8.84375 \nQ 19.1875 6.0625 25.203125 6.0625 \nQ 31.25 6.0625 34.171875 8.515625 \nQ 37.109375 10.984375 37.109375 14.3125 \nQ 37.109375 17.28125 34.515625 19 \nQ 32.71875 20.171875 25.53125 21.96875 \nQ 15.875 24.421875 12.140625 26.203125 \nQ 8.40625 27.984375 6.46875 31.125 \nQ 4.546875 34.28125 4.546875 38.09375 \nQ 4.546875 41.546875 6.125 44.5 \nQ 7.71875 47.46875 10.453125 49.421875 \nQ 12.5 50.921875 16.03125 51.96875 \nQ 19.578125 53.03125 23.640625 53.03125 \nQ 29.734375 53.03125 34.34375 51.265625 \nQ 38.96875 49.515625 41.15625 46.5 \nQ 43.359375 43.5 44.1875 38.484375 \nL 35.59375 37.3125 \nQ 35.015625 41.3125 32.203125 43.546875 \nQ 29.390625 45.796875 24.265625 45.796875 \nQ 18.21875 45.796875 15.625 43.796875 \nQ 13.03125 41.796875 13.03125 39.109375 \nQ 13.03125 37.40625 14.109375 36.03125 \nQ 15.1875 34.625 17.484375 33.6875 \nQ 18.796875 33.203125 25.25 31.453125 \nQ 34.578125 28.953125 38.25 27.359375 \nQ 41.9375 25.78125 44.03125 22.75 \nQ 46.140625 19.734375 46.140625 15.234375 \nQ 46.140625 10.84375 43.578125 6.953125 \nQ 41.015625 3.078125 36.171875 0.953125 \nQ 31.34375 -1.171875 25.25 -1.171875 \nQ 15.140625 -1.171875 9.84375 3.03125 \nQ 4.546875 7.234375 3.078125 15.484375 \nz\n\" id=\"ArialMT-115\"/>\n        <path d=\"M 40.578125 0 \nL 40.578125 7.625 \nQ 34.515625 -1.171875 24.125 -1.171875 \nQ 19.53125 -1.171875 15.546875 0.578125 \nQ 11.578125 2.34375 9.640625 5 \nQ 7.71875 7.671875 6.9375 11.53125 \nQ 6.390625 14.109375 6.390625 19.734375 \nL 6.390625 51.859375 \nL 15.1875 51.859375 \nL 15.1875 23.09375 \nQ 15.1875 16.21875 15.71875 13.8125 \nQ 16.546875 10.359375 19.234375 8.375 \nQ 21.921875 6.390625 25.875 6.390625 \nQ 29.828125 6.390625 33.296875 8.421875 \nQ 36.765625 10.453125 38.203125 13.9375 \nQ 39.65625 17.4375 39.65625 24.078125 \nL 39.65625 51.859375 \nL 48.4375 51.859375 \nL 48.4375 0 \nz\n\" id=\"ArialMT-117\"/>\n        <path d=\"M 6.640625 61.46875 \nL 6.640625 71.578125 \nL 15.4375 71.578125 \nL 15.4375 61.46875 \nz\nM 6.640625 0 \nL 6.640625 51.859375 \nL 15.4375 51.859375 \nL 15.4375 0 \nz\n\" id=\"ArialMT-105\"/>\n        <path d=\"M 21 0 \nL 1.265625 51.859375 \nL 10.546875 51.859375 \nL 21.6875 20.796875 \nQ 23.484375 15.765625 25 10.359375 \nQ 26.171875 14.453125 28.265625 20.21875 \nL 39.796875 51.859375 \nL 48.828125 51.859375 \nL 29.203125 0 \nz\n\" id=\"ArialMT-118\"/>\n        <path id=\"ArialMT-32\"/>\n        <path d=\"M 8.6875 0 \nL 8.6875 45.015625 \nL 0.921875 45.015625 \nL 0.921875 51.859375 \nL 8.6875 51.859375 \nL 8.6875 57.375 \nQ 8.6875 62.59375 9.625 65.140625 \nQ 10.890625 68.5625 14.078125 70.671875 \nQ 17.28125 72.796875 23.046875 72.796875 \nQ 26.765625 72.796875 31.25 71.921875 \nL 29.9375 64.265625 \nQ 27.203125 64.75 24.75 64.75 \nQ 20.75 64.75 19.09375 63.03125 \nQ 17.4375 61.328125 17.4375 56.640625 \nL 17.4375 51.859375 \nL 27.546875 51.859375 \nL 27.546875 45.015625 \nL 17.4375 45.015625 \nL 17.4375 0 \nz\n\" id=\"ArialMT-102\"/>\n        <path d=\"M 40.234375 0 \nL 40.234375 6.546875 \nQ 35.296875 -1.171875 25.734375 -1.171875 \nQ 19.53125 -1.171875 14.328125 2.25 \nQ 9.125 5.671875 6.265625 11.796875 \nQ 3.421875 17.921875 3.421875 25.875 \nQ 3.421875 33.640625 6 39.96875 \nQ 8.59375 46.296875 13.765625 49.65625 \nQ 18.953125 53.03125 25.34375 53.03125 \nQ 30.03125 53.03125 33.6875 51.046875 \nQ 37.359375 49.078125 39.65625 45.90625 \nL 39.65625 71.578125 \nL 48.390625 71.578125 \nL 48.390625 0 \nz\nM 12.453125 25.875 \nQ 12.453125 15.921875 16.640625 10.984375 \nQ 20.84375 6.0625 26.5625 6.0625 \nQ 32.328125 6.0625 36.34375 10.765625 \nQ 40.375 15.484375 40.375 25.140625 \nQ 40.375 35.796875 36.265625 40.765625 \nQ 32.171875 45.75 26.171875 45.75 \nQ 20.3125 45.75 16.375 40.96875 \nQ 12.453125 36.1875 12.453125 25.875 \nz\n\" id=\"ArialMT-100\"/>\n        <path d=\"M 14.703125 0 \nL 6.546875 0 \nL 6.546875 71.578125 \nL 15.328125 71.578125 \nL 15.328125 46.046875 \nQ 20.90625 53.03125 29.546875 53.03125 \nQ 34.328125 53.03125 38.59375 51.09375 \nQ 42.875 49.171875 45.625 45.671875 \nQ 48.390625 42.1875 49.953125 37.25 \nQ 51.515625 32.328125 51.515625 26.703125 \nQ 51.515625 13.375 44.921875 6.09375 \nQ 38.328125 -1.171875 29.109375 -1.171875 \nQ 19.921875 -1.171875 14.703125 6.5 \nz\nM 14.59375 26.3125 \nQ 14.59375 17 17.140625 12.84375 \nQ 21.296875 6.0625 28.375 6.0625 \nQ 34.125 6.0625 38.328125 11.0625 \nQ 42.53125 16.0625 42.53125 25.984375 \nQ 42.53125 36.140625 38.5 40.96875 \nQ 34.46875 45.796875 28.765625 45.796875 \nQ 23 45.796875 18.796875 40.796875 \nQ 14.59375 35.796875 14.59375 26.3125 \nz\n\" id=\"ArialMT-98\"/>\n        <path d=\"M 6.640625 0 \nL 6.640625 71.578125 \nL 15.4375 71.578125 \nL 15.4375 30.765625 \nL 36.234375 51.859375 \nL 47.609375 51.859375 \nL 27.78125 32.625 \nL 49.609375 0 \nL 38.765625 0 \nL 21.625 26.515625 \nL 15.4375 20.5625 \nL 15.4375 0 \nz\n\" id=\"ArialMT-107\"/>\n       </defs>\n       <use xlink:href=\"#ArialMT-99\"/>\n       <use x=\"50\" xlink:href=\"#ArialMT-111\"/>\n       <use x=\"105.615234\" xlink:href=\"#ArialMT-110\"/>\n       <use x=\"161.230469\" xlink:href=\"#ArialMT-115\"/>\n       <use x=\"211.230469\" xlink:href=\"#ArialMT-116\"/>\n       <use x=\"239.013672\" xlink:href=\"#ArialMT-114\"/>\n       <use x=\"272.314453\" xlink:href=\"#ArialMT-117\"/>\n       <use x=\"327.929688\" xlink:href=\"#ArialMT-99\"/>\n       <use x=\"377.929688\" xlink:href=\"#ArialMT-116\"/>\n       <use x=\"405.712891\" xlink:href=\"#ArialMT-105\"/>\n       <use x=\"427.929688\" xlink:href=\"#ArialMT-118\"/>\n       <use x=\"477.929688\" xlink:href=\"#ArialMT-101\"/>\n       <use x=\"533.544922\" xlink:href=\"#ArialMT-32\"/>\n       <use x=\"561.328125\" xlink:href=\"#ArialMT-102\"/>\n       <use x=\"589.111328\" xlink:href=\"#ArialMT-101\"/>\n       <use x=\"644.726562\" xlink:href=\"#ArialMT-101\"/>\n       <use x=\"700.341797\" xlink:href=\"#ArialMT-100\"/>\n       <use x=\"755.957031\" xlink:href=\"#ArialMT-98\"/>\n       <use x=\"811.572266\" xlink:href=\"#ArialMT-97\"/>\n       <use x=\"867.1875\" xlink:href=\"#ArialMT-99\"/>\n       <use x=\"917.1875\" xlink:href=\"#ArialMT-107\"/>\n      </g>\n     </g>\n    </g>\n    <g id=\"xtick_4\">\n     <g id=\"text_4\">\n      <!-- love -->\n      <g style=\"fill:#262626;\" transform=\"translate(364.650469 350.733594)scale(0.11 -0.11)\">\n       <defs>\n        <path d=\"M 6.390625 0 \nL 6.390625 71.578125 \nL 15.1875 71.578125 \nL 15.1875 0 \nz\n\" id=\"ArialMT-108\"/>\n       </defs>\n       <use xlink:href=\"#ArialMT-108\"/>\n       <use x=\"22.216797\" xlink:href=\"#ArialMT-111\"/>\n       <use x=\"77.832031\" xlink:href=\"#ArialMT-118\"/>\n       <use x=\"127.832031\" xlink:href=\"#ArialMT-101\"/>\n      </g>\n     </g>\n    </g>\n    <g id=\"xtick_5\">\n     <g id=\"text_5\">\n      <!-- disgust -->\n      <g style=\"fill:#262626;\" transform=\"translate(446.593984 350.733594)scale(0.11 -0.11)\">\n       <use xlink:href=\"#ArialMT-100\"/>\n       <use x=\"55.615234\" xlink:href=\"#ArialMT-105\"/>\n       <use x=\"77.832031\" xlink:href=\"#ArialMT-115\"/>\n       <use x=\"127.832031\" xlink:href=\"#ArialMT-103\"/>\n       <use x=\"183.447266\" xlink:href=\"#ArialMT-117\"/>\n       <use x=\"239.0625\" xlink:href=\"#ArialMT-115\"/>\n       <use x=\"289.0625\" xlink:href=\"#ArialMT-116\"/>\n      </g>\n     </g>\n    </g>\n    <g id=\"text_6\">\n     <!-- emotion -->\n     <g style=\"fill:#262626;\" transform=\"translate(264.115469 365.772187)scale(0.12 -0.12)\">\n      <defs>\n       <path d=\"M 6.59375 0 \nL 6.59375 51.859375 \nL 14.453125 51.859375 \nL 14.453125 44.578125 \nQ 16.890625 48.390625 20.9375 50.703125 \nQ 25 53.03125 30.171875 53.03125 \nQ 35.9375 53.03125 39.625 50.640625 \nQ 43.3125 48.25 44.828125 43.953125 \nQ 50.984375 53.03125 60.84375 53.03125 \nQ 68.5625 53.03125 72.703125 48.75 \nQ 76.859375 44.484375 76.859375 35.59375 \nL 76.859375 0 \nL 68.109375 0 \nL 68.109375 32.671875 \nQ 68.109375 37.9375 67.25 40.25 \nQ 66.40625 42.578125 64.15625 43.984375 \nQ 61.921875 45.40625 58.890625 45.40625 \nQ 53.421875 45.40625 49.796875 41.765625 \nQ 46.1875 38.140625 46.1875 30.125 \nL 46.1875 0 \nL 37.40625 0 \nL 37.40625 33.6875 \nQ 37.40625 39.546875 35.25 42.46875 \nQ 33.109375 45.40625 28.21875 45.40625 \nQ 24.515625 45.40625 21.359375 43.453125 \nQ 18.21875 41.5 16.796875 37.734375 \nQ 15.375 33.984375 15.375 26.90625 \nL 15.375 0 \nz\n\" id=\"ArialMT-109\"/>\n      </defs>\n      <use xlink:href=\"#ArialMT-101\"/>\n      <use x=\"55.615234\" xlink:href=\"#ArialMT-109\"/>\n      <use x=\"138.916016\" xlink:href=\"#ArialMT-111\"/>\n      <use x=\"194.53125\" xlink:href=\"#ArialMT-116\"/>\n      <use x=\"222.314453\" xlink:href=\"#ArialMT-105\"/>\n      <use x=\"244.53125\" xlink:href=\"#ArialMT-111\"/>\n      <use x=\"300.146484\" xlink:href=\"#ArialMT-110\"/>\n     </g>\n    </g>\n   </g>\n   <g id=\"matplotlib.axis_2\">\n    <g id=\"ytick_1\">\n     <g id=\"line2d_1\">\n      <path clip-path=\"url(#p86704a74b7)\" d=\"M 62.259531 333.36 \nL 508.659531 333.36 \n\" style=\"fill:none;stroke:#ffffff;stroke-linecap:round;\"/>\n     </g>\n     <g id=\"text_7\">\n      <!-- 0 -->\n      <g style=\"fill:#262626;\" transform=\"translate(46.6425 337.296797)scale(0.11 -0.11)\">\n       <defs>\n        <path d=\"M 4.15625 35.296875 \nQ 4.15625 48 6.765625 55.734375 \nQ 9.375 63.484375 14.515625 67.671875 \nQ 19.671875 71.875 27.484375 71.875 \nQ 33.25 71.875 37.59375 69.546875 \nQ 41.9375 67.234375 44.765625 62.859375 \nQ 47.609375 58.5 49.21875 52.21875 \nQ 50.828125 45.953125 50.828125 35.296875 \nQ 50.828125 22.703125 48.234375 14.96875 \nQ 45.65625 7.234375 40.5 3 \nQ 35.359375 -1.21875 27.484375 -1.21875 \nQ 17.140625 -1.21875 11.234375 6.203125 \nQ 4.15625 15.140625 4.15625 35.296875 \nz\nM 13.1875 35.296875 \nQ 13.1875 17.671875 17.3125 11.828125 \nQ 21.4375 6 27.484375 6 \nQ 33.546875 6 37.671875 11.859375 \nQ 41.796875 17.71875 41.796875 35.296875 \nQ 41.796875 52.984375 37.671875 58.78125 \nQ 33.546875 64.59375 27.390625 64.59375 \nQ 21.34375 64.59375 17.71875 59.46875 \nQ 13.1875 52.9375 13.1875 35.296875 \nz\n\" id=\"ArialMT-48\"/>\n       </defs>\n       <use xlink:href=\"#ArialMT-48\"/>\n      </g>\n     </g>\n    </g>\n    <g id=\"ytick_2\">\n     <g id=\"line2d_2\">\n      <path clip-path=\"url(#p86704a74b7)\" d=\"M 62.259531 278.101778 \nL 508.659531 278.101778 \n\" style=\"fill:none;stroke:#ffffff;stroke-linecap:round;\"/>\n     </g>\n     <g id=\"text_8\">\n      <!-- 5000 -->\n      <g style=\"fill:#262626;\" transform=\"translate(28.291406 282.038574)scale(0.11 -0.11)\">\n       <defs>\n        <path d=\"M 4.15625 18.75 \nL 13.375 19.53125 \nQ 14.40625 12.796875 18.140625 9.390625 \nQ 21.875 6 27.15625 6 \nQ 33.5 6 37.890625 10.78125 \nQ 42.28125 15.578125 42.28125 23.484375 \nQ 42.28125 31 38.0625 35.34375 \nQ 33.84375 39.703125 27 39.703125 \nQ 22.75 39.703125 19.328125 37.765625 \nQ 15.921875 35.84375 13.96875 32.765625 \nL 5.71875 33.84375 \nL 12.640625 70.609375 \nL 48.25 70.609375 \nL 48.25 62.203125 \nL 19.671875 62.203125 \nL 15.828125 42.96875 \nQ 22.265625 47.46875 29.34375 47.46875 \nQ 38.71875 47.46875 45.15625 40.96875 \nQ 51.609375 34.46875 51.609375 24.265625 \nQ 51.609375 14.546875 45.953125 7.46875 \nQ 39.0625 -1.21875 27.15625 -1.21875 \nQ 17.390625 -1.21875 11.203125 4.25 \nQ 5.03125 9.71875 4.15625 18.75 \nz\n\" id=\"ArialMT-53\"/>\n       </defs>\n       <use xlink:href=\"#ArialMT-53\"/>\n       <use x=\"55.615234\" xlink:href=\"#ArialMT-48\"/>\n       <use x=\"111.230469\" xlink:href=\"#ArialMT-48\"/>\n       <use x=\"166.845703\" xlink:href=\"#ArialMT-48\"/>\n      </g>\n     </g>\n    </g>\n    <g id=\"ytick_3\">\n     <g id=\"line2d_3\">\n      <path clip-path=\"url(#p86704a74b7)\" d=\"M 62.259531 222.843555 \nL 508.659531 222.843555 \n\" style=\"fill:none;stroke:#ffffff;stroke-linecap:round;\"/>\n     </g>\n     <g id=\"text_9\">\n      <!-- 10000 -->\n      <g style=\"fill:#262626;\" transform=\"translate(22.174375 226.780352)scale(0.11 -0.11)\">\n       <defs>\n        <path d=\"M 37.25 0 \nL 28.46875 0 \nL 28.46875 56 \nQ 25.296875 52.984375 20.140625 49.953125 \nQ 14.984375 46.921875 10.890625 45.40625 \nL 10.890625 53.90625 \nQ 18.265625 57.375 23.78125 62.296875 \nQ 29.296875 67.234375 31.59375 71.875 \nL 37.25 71.875 \nz\n\" id=\"ArialMT-49\"/>\n       </defs>\n       <use xlink:href=\"#ArialMT-49\"/>\n       <use x=\"55.615234\" xlink:href=\"#ArialMT-48\"/>\n       <use x=\"111.230469\" xlink:href=\"#ArialMT-48\"/>\n       <use x=\"166.845703\" xlink:href=\"#ArialMT-48\"/>\n       <use x=\"222.460938\" xlink:href=\"#ArialMT-48\"/>\n      </g>\n     </g>\n    </g>\n    <g id=\"ytick_4\">\n     <g id=\"line2d_4\">\n      <path clip-path=\"url(#p86704a74b7)\" d=\"M 62.259531 167.585333 \nL 508.659531 167.585333 \n\" style=\"fill:none;stroke:#ffffff;stroke-linecap:round;\"/>\n     </g>\n     <g id=\"text_10\">\n      <!-- 15000 -->\n      <g style=\"fill:#262626;\" transform=\"translate(22.174375 171.52213)scale(0.11 -0.11)\">\n       <use xlink:href=\"#ArialMT-49\"/>\n       <use x=\"55.615234\" xlink:href=\"#ArialMT-53\"/>\n       <use x=\"111.230469\" xlink:href=\"#ArialMT-48\"/>\n       <use x=\"166.845703\" xlink:href=\"#ArialMT-48\"/>\n       <use x=\"222.460938\" xlink:href=\"#ArialMT-48\"/>\n      </g>\n     </g>\n    </g>\n    <g id=\"ytick_5\">\n     <g id=\"line2d_5\">\n      <path clip-path=\"url(#p86704a74b7)\" d=\"M 62.259531 112.32711 \nL 508.659531 112.32711 \n\" style=\"fill:none;stroke:#ffffff;stroke-linecap:round;\"/>\n     </g>\n     <g id=\"text_11\">\n      <!-- 20000 -->\n      <g style=\"fill:#262626;\" transform=\"translate(22.174375 116.263907)scale(0.11 -0.11)\">\n       <defs>\n        <path d=\"M 50.34375 8.453125 \nL 50.34375 0 \nL 3.03125 0 \nQ 2.9375 3.171875 4.046875 6.109375 \nQ 5.859375 10.9375 9.828125 15.625 \nQ 13.8125 20.3125 21.34375 26.46875 \nQ 33.015625 36.03125 37.109375 41.625 \nQ 41.21875 47.21875 41.21875 52.203125 \nQ 41.21875 57.421875 37.46875 61 \nQ 33.734375 64.59375 27.734375 64.59375 \nQ 21.390625 64.59375 17.578125 60.78125 \nQ 13.765625 56.984375 13.71875 50.25 \nL 4.6875 51.171875 \nQ 5.609375 61.28125 11.65625 66.578125 \nQ 17.71875 71.875 27.9375 71.875 \nQ 38.234375 71.875 44.234375 66.15625 \nQ 50.25 60.453125 50.25 52 \nQ 50.25 47.703125 48.484375 43.546875 \nQ 46.734375 39.40625 42.65625 34.8125 \nQ 38.578125 30.21875 29.109375 22.21875 \nQ 21.1875 15.578125 18.9375 13.203125 \nQ 16.703125 10.84375 15.234375 8.453125 \nz\n\" id=\"ArialMT-50\"/>\n       </defs>\n       <use xlink:href=\"#ArialMT-50\"/>\n       <use x=\"55.615234\" xlink:href=\"#ArialMT-48\"/>\n       <use x=\"111.230469\" xlink:href=\"#ArialMT-48\"/>\n       <use x=\"166.845703\" xlink:href=\"#ArialMT-48\"/>\n       <use x=\"222.460938\" xlink:href=\"#ArialMT-48\"/>\n      </g>\n     </g>\n    </g>\n    <g id=\"ytick_6\">\n     <g id=\"line2d_6\">\n      <path clip-path=\"url(#p86704a74b7)\" d=\"M 62.259531 57.068888 \nL 508.659531 57.068888 \n\" style=\"fill:none;stroke:#ffffff;stroke-linecap:round;\"/>\n     </g>\n     <g id=\"text_12\">\n      <!-- 25000 -->\n      <g style=\"fill:#262626;\" transform=\"translate(22.174375 61.005685)scale(0.11 -0.11)\">\n       <use xlink:href=\"#ArialMT-50\"/>\n       <use x=\"55.615234\" xlink:href=\"#ArialMT-53\"/>\n       <use x=\"111.230469\" xlink:href=\"#ArialMT-48\"/>\n       <use x=\"166.845703\" xlink:href=\"#ArialMT-48\"/>\n       <use x=\"222.460938\" xlink:href=\"#ArialMT-48\"/>\n      </g>\n     </g>\n    </g>\n    <g id=\"text_13\">\n     <!-- count -->\n     <g style=\"fill:#262626;\" transform=\"translate(15.789375 184.956562)rotate(-90)scale(0.12 -0.12)\">\n      <use xlink:href=\"#ArialMT-99\"/>\n      <use x=\"50\" xlink:href=\"#ArialMT-111\"/>\n      <use x=\"105.615234\" xlink:href=\"#ArialMT-117\"/>\n      <use x=\"161.230469\" xlink:href=\"#ArialMT-110\"/>\n      <use x=\"216.845703\" xlink:href=\"#ArialMT-116\"/>\n     </g>\n    </g>\n   </g>\n   <g id=\"patch_3\">\n    <path clip-path=\"url(#p86704a74b7)\" d=\"M 71.187531 333.36 \nL 142.611531 333.36 \nL 142.611531 235.785031 \nL 71.187531 235.785031 \nz\n\" style=\"fill:#5875a4;stroke:#ffffff;stroke-linejoin:miter;\"/>\n   </g>\n   <g id=\"patch_4\">\n    <path clip-path=\"url(#p86704a74b7)\" d=\"M 160.467531 333.36 \nL 231.891531 333.36 \nL 231.891531 22.731429 \nL 160.467531 22.731429 \nz\n\" style=\"fill:#cc8963;stroke:#ffffff;stroke-linejoin:miter;\"/>\n   </g>\n   <g id=\"patch_5\">\n    <path clip-path=\"url(#p86704a74b7)\" d=\"M 249.747531 333.36 \nL 321.171531 333.36 \nL 321.171531 215.858916 \nL 249.747531 215.858916 \nz\n\" style=\"fill:#5f9e6e;stroke:#ffffff;stroke-linejoin:miter;\"/>\n   </g>\n   <g id=\"patch_6\">\n    <path clip-path=\"url(#p86704a74b7)\" d=\"M 339.027531 333.36 \nL 410.451531 333.36 \nL 410.451531 130.617582 \nL 339.027531 130.617582 \nz\n\" style=\"fill:#b55d60;stroke:#ffffff;stroke-linejoin:miter;\"/>\n   </g>\n   <g id=\"patch_7\">\n    <path clip-path=\"url(#p86704a74b7)\" d=\"M 428.307531 333.36 \nL 499.731531 333.36 \nL 499.731531 264.055137 \nL 428.307531 264.055137 \nz\n\" style=\"fill:#857aab;stroke:#ffffff;stroke-linejoin:miter;\"/>\n   </g>\n   <g id=\"patch_8\">\n    <path d=\"M 62.259531 333.36 \nL 62.259531 7.2 \n\" style=\"fill:none;stroke:#ffffff;stroke-linecap:square;stroke-linejoin:miter;stroke-width:1.25;\"/>\n   </g>\n   <g id=\"patch_9\">\n    <path d=\"M 508.659531 333.36 \nL 508.659531 7.2 \n\" style=\"fill:none;stroke:#ffffff;stroke-linecap:square;stroke-linejoin:miter;stroke-width:1.25;\"/>\n   </g>\n   <g id=\"patch_10\">\n    <path d=\"M 62.259531 333.36 \nL 508.659531 333.36 \n\" style=\"fill:none;stroke:#ffffff;stroke-linecap:square;stroke-linejoin:miter;stroke-width:1.25;\"/>\n   </g>\n   <g id=\"patch_11\">\n    <path d=\"M 62.259531 7.2 \nL 508.659531 7.2 \n\" style=\"fill:none;stroke:#ffffff;stroke-linecap:square;stroke-linejoin:miter;stroke-width:1.25;\"/>\n   </g>\n  </g>\n </g>\n <defs>\n  <clipPath id=\"p86704a74b7\">\n   <rect height=\"326.16\" width=\"446.4\" x=\"62.259531\" y=\"7.2\"/>\n  </clipPath>\n </defs>\n</svg>\n",
      "image/png": "[encoded data removed]"
     },
     "metadata": {}
    }
   ],
   "source": [
    "plt.figure(figsize=(8, 6), dpi=100)\n",
    "sns.countplot(x='emotion', data=df)\n",
    "plt.show()"
   ]
  },
  {
   "cell_type": "code",
   "execution_count": 15,
   "metadata": {},
   "outputs": [
    {
     "output_type": "execute_result",
     "data": {
      "text/plain": [
       "emotion\n",
       "anger/hate                8829\n",
       "constructive feedback    10632\n",
       "disgust                   6271\n",
       "joy                      28107\n",
       "love                     18345\n",
       "Name: text, dtype: int64"
      ]
     },
     "metadata": {},
     "execution_count": 15
    }
   ],
   "source": [
    "df.groupby('emotion').count().text"
   ]
  },
  {
   "source": [
    "## Flatten distribution\n",
    "\n",
    "Since there is a disproportionate amount of rows with the \"joy\" label, I will remove around 15000 rows"
   ],
   "cell_type": "markdown",
   "metadata": {}
  },
  {
   "cell_type": "code",
   "execution_count": 16,
   "metadata": {},
   "outputs": [
    {
     "output_type": "execute_result",
     "data": {
      "text/plain": [
       "                        id                 date             user  \\\n",
       "100    1348673300860383232  2021-01-11 16:49:06      hamutal1505   \n",
       "101    1348673233256652800  2021-01-11 16:48:50      LucidMadeIt   \n",
       "102    1348671857109704715  2021-01-11 16:43:22    MassageEnvyHI   \n",
       "103    1348671751320981505  2021-01-11 16:42:57        lou_bitch   \n",
       "104    1348671114185113609  2021-01-11 16:40:25   mvvenkataraman   \n",
       "...                    ...                  ...              ...   \n",
       "16820  1346066610470211584  2021-01-04 12:11:03  HoodrichClement   \n",
       "16821  1346066110492250112  2021-01-04 12:09:04     happytakepon   \n",
       "16822  1346065738189189122  2021-01-04 12:07:35       LivingCozy   \n",
       "16823  1346065721025994752  2021-01-04 12:07:31     boakye_wasty   \n",
       "16824  1346065244842430465  2021-01-04 12:05:37        JayeetaJg   \n",
       "\n",
       "                                                    text emotion  \n",
       "100    @StarbucksKorea I love this #collab between #s...     joy  \n",
       "101    Premiering at 11am cst!! Set a reminder now! C...     joy  \n",
       "102    We love reading your reviews 💜🌺🌴💪 #massageenvy...     joy  \n",
       "103    Lots of pigeon visiting the garden this mornin...     joy  \n",
       "104    #If rain's stay is #longer,\\n\\nHearts will sin...     joy  \n",
       "...                                                  ...     ...  \n",
       "16820  📷 Double Exposure 💯💯💪 #hoodrichphotography #li...     joy  \n",
       "16821  Work started today. I was very busy,but I felt...     joy  \n",
       "16822  #Happy and beautiful #Monday! After two wonder...     joy  \n",
       "16823  #HAPPY NEW YEAR#\\n\\nLet's start the year with ...     joy  \n",
       "16824  Smile Is The Best Curve On Our Face....😘😘 \\n\\n...     joy  \n",
       "\n",
       "[28107 rows x 5 columns]"
      ],
      "text/html": "<div>\n<style scoped>\n    .dataframe tbody tr th:only-of-type {\n        vertical-align: middle;\n    }\n\n    .dataframe tbody tr th {\n        vertical-align: top;\n    }\n\n    .dataframe thead th {\n        text-align: right;\n    }\n</style>\n<table border=\"1\" class=\"dataframe\">\n  <thead>\n    <tr style=\"text-align: right;\">\n      <th></th>\n      <th>id</th>\n      <th>date</th>\n      <th>user</th>\n      <th>text</th>\n      <th>emotion</th>\n    </tr>\n  </thead>\n  <tbody>\n    <tr>\n      <th>100</th>\n      <td>1348673300860383232</td>\n      <td>2021-01-11 16:49:06</td>\n      <td>hamutal1505</td>\n      <td>@StarbucksKorea I love this #collab between #s...</td>\n      <td>joy</td>\n    </tr>\n    <tr>\n      <th>101</th>\n      <td>1348673233256652800</td>\n      <td>2021-01-11 16:48:50</td>\n      <td>LucidMadeIt</td>\n      <td>Premiering at 11am cst!! Set a reminder now! C...</td>\n      <td>joy</td>\n    </tr>\n    <tr>\n      <th>102</th>\n      <td>1348671857109704715</td>\n      <td>2021-01-11 16:43:22</td>\n      <td>MassageEnvyHI</td>\n      <td>We love reading your reviews 💜🌺🌴💪 #massageenvy...</td>\n      <td>joy</td>\n    </tr>\n    <tr>\n      <th>103</th>\n      <td>1348671751320981505</td>\n      <td>2021-01-11 16:42:57</td>\n      <td>lou_bitch</td>\n      <td>Lots of pigeon visiting the garden this mornin...</td>\n      <td>joy</td>\n    </tr>\n    <tr>\n      <th>104</th>\n      <td>1348671114185113609</td>\n      <td>2021-01-11 16:40:25</td>\n      <td>mvvenkataraman</td>\n      <td>#If rain's stay is #longer,\\n\\nHearts will sin...</td>\n      <td>joy</td>\n    </tr>\n    <tr>\n      <th>...</th>\n      <td>...</td>\n      <td>...</td>\n      <td>...</td>\n      <td>...</td>\n      <td>...</td>\n    </tr>\n    <tr>\n      <th>16820</th>\n      <td>1346066610470211584</td>\n      <td>2021-01-04 12:11:03</td>\n      <td>HoodrichClement</td>\n      <td>📷 Double Exposure 💯💯💪 #hoodrichphotography #li...</td>\n      <td>joy</td>\n    </tr>\n    <tr>\n      <th>16821</th>\n      <td>1346066110492250112</td>\n      <td>2021-01-04 12:09:04</td>\n      <td>happytakepon</td>\n      <td>Work started today. I was very busy,but I felt...</td>\n      <td>joy</td>\n    </tr>\n    <tr>\n      <th>16822</th>\n      <td>1346065738189189122</td>\n      <td>2021-01-04 12:07:35</td>\n      <td>LivingCozy</td>\n      <td>#Happy and beautiful #Monday! After two wonder...</td>\n      <td>joy</td>\n    </tr>\n    <tr>\n      <th>16823</th>\n      <td>1346065721025994752</td>\n      <td>2021-01-04 12:07:31</td>\n      <td>boakye_wasty</td>\n      <td>#HAPPY NEW YEAR#\\n\\nLet's start the year with ...</td>\n      <td>joy</td>\n    </tr>\n    <tr>\n      <th>16824</th>\n      <td>1346065244842430465</td>\n      <td>2021-01-04 12:05:37</td>\n      <td>JayeetaJg</td>\n      <td>Smile Is The Best Curve On Our Face....😘😘 \\n\\n...</td>\n      <td>joy</td>\n    </tr>\n  </tbody>\n</table>\n<p>28107 rows × 5 columns</p>\n</div>"
     },
     "metadata": {},
     "execution_count": 16
    }
   ],
   "source": [
    "# Create joy dataset\n",
    "joy_df = df[df['emotion'] == 'joy']\n",
    "\n",
    "joy_df"
   ]
  },
  {
   "cell_type": "code",
   "execution_count": 17,
   "metadata": {},
   "outputs": [
    {
     "output_type": "execute_result",
     "data": {
      "text/plain": [
       "                        id                 date             user  \\\n",
       "15000  1348583689781981184  2021-01-11 10:53:01      suswatibasu   \n",
       "15001  1346864763645681664  2021-01-06 17:02:37   AskDrCovington   \n",
       "15002  1346524927478947840  2021-01-05 18:32:14  Xikombi16743841   \n",
       "15003  1346369936877379584  2021-01-05 08:16:21    _AnthonyHeath   \n",
       "15004  1347557789565071365  2021-01-08 14:56:28        strauss51   \n",
       "...                    ...                  ...              ...   \n",
       "28102  1346471343915585538  2021-01-05 14:59:19    braintickler_   \n",
       "28103  1346497129112592391  2021-01-05 16:41:46      TrevHaworth   \n",
       "28104  1346647081482653696  2021-01-06 02:37:38    MelissaChipps   \n",
       "28105  1347554565097353218  2021-01-08 14:43:39    MysticWhiteRo   \n",
       "28106  1346751887324884992  2021-01-06 09:34:06          SRDHAIN   \n",
       "\n",
       "                                                    text emotion  \n",
       "15000  Hi all, I'm look for people to record a short ...     joy  \n",
       "15001  For the #love of #OccupationalTherapy - #OT365...     joy  \n",
       "15002  #Happy birthday baby sister!!!\\n🎂🎂🥂❤❤ https://...     joy  \n",
       "15003  ⛪️ Matthew 11:28 ❤️\\n\\n#GodWins #GodIsGood #jo...     joy  \n",
       "15004  It’s always fun to crank up the music, dance a...     joy  \n",
       "...                                                  ...     ...  \n",
       "28102  JOKE OF THE DAY : I'd like to start a diet, bu...     joy  \n",
       "28103  6 months gone, 6 to go in my year of health.\\n...     joy  \n",
       "28104  Coaching with Melissa \\n386-569-5188 \\n\\n#wing...     joy  \n",
       "28105  Get out of your head and get into your heart. ...     joy  \n",
       "28106  Prem Rawat \\n\\n#PremRawat #Hindi #Bhajan #song...     joy  \n",
       "\n",
       "[13107 rows x 5 columns]"
      ],
      "text/html": "<div>\n<style scoped>\n    .dataframe tbody tr th:only-of-type {\n        vertical-align: middle;\n    }\n\n    .dataframe tbody tr th {\n        vertical-align: top;\n    }\n\n    .dataframe thead th {\n        text-align: right;\n    }\n</style>\n<table border=\"1\" class=\"dataframe\">\n  <thead>\n    <tr style=\"text-align: right;\">\n      <th></th>\n      <th>id</th>\n      <th>date</th>\n      <th>user</th>\n      <th>text</th>\n      <th>emotion</th>\n    </tr>\n  </thead>\n  <tbody>\n    <tr>\n      <th>15000</th>\n      <td>1348583689781981184</td>\n      <td>2021-01-11 10:53:01</td>\n      <td>suswatibasu</td>\n      <td>Hi all, I'm look for people to record a short ...</td>\n      <td>joy</td>\n    </tr>\n    <tr>\n      <th>15001</th>\n      <td>1346864763645681664</td>\n      <td>2021-01-06 17:02:37</td>\n      <td>AskDrCovington</td>\n      <td>For the #love of #OccupationalTherapy - #OT365...</td>\n      <td>joy</td>\n    </tr>\n    <tr>\n      <th>15002</th>\n      <td>1346524927478947840</td>\n      <td>2021-01-05 18:32:14</td>\n      <td>Xikombi16743841</td>\n      <td>#Happy birthday baby sister!!!\\n🎂🎂🥂❤❤ https://...</td>\n      <td>joy</td>\n    </tr>\n    <tr>\n      <th>15003</th>\n      <td>1346369936877379584</td>\n      <td>2021-01-05 08:16:21</td>\n      <td>_AnthonyHeath</td>\n      <td>⛪️ Matthew 11:28 ❤️\\n\\n#GodWins #GodIsGood #jo...</td>\n      <td>joy</td>\n    </tr>\n    <tr>\n      <th>15004</th>\n      <td>1347557789565071365</td>\n      <td>2021-01-08 14:56:28</td>\n      <td>strauss51</td>\n      <td>It’s always fun to crank up the music, dance a...</td>\n      <td>joy</td>\n    </tr>\n    <tr>\n      <th>...</th>\n      <td>...</td>\n      <td>...</td>\n      <td>...</td>\n      <td>...</td>\n      <td>...</td>\n    </tr>\n    <tr>\n      <th>28102</th>\n      <td>1346471343915585538</td>\n      <td>2021-01-05 14:59:19</td>\n      <td>braintickler_</td>\n      <td>JOKE OF THE DAY : I'd like to start a diet, bu...</td>\n      <td>joy</td>\n    </tr>\n    <tr>\n      <th>28103</th>\n      <td>1346497129112592391</td>\n      <td>2021-01-05 16:41:46</td>\n      <td>TrevHaworth</td>\n      <td>6 months gone, 6 to go in my year of health.\\n...</td>\n      <td>joy</td>\n    </tr>\n    <tr>\n      <th>28104</th>\n      <td>1346647081482653696</td>\n      <td>2021-01-06 02:37:38</td>\n      <td>MelissaChipps</td>\n      <td>Coaching with Melissa \\n386-569-5188 \\n\\n#wing...</td>\n      <td>joy</td>\n    </tr>\n    <tr>\n      <th>28105</th>\n      <td>1347554565097353218</td>\n      <td>2021-01-08 14:43:39</td>\n      <td>MysticWhiteRo</td>\n      <td>Get out of your head and get into your heart. ...</td>\n      <td>joy</td>\n    </tr>\n    <tr>\n      <th>28106</th>\n      <td>1346751887324884992</td>\n      <td>2021-01-06 09:34:06</td>\n      <td>SRDHAIN</td>\n      <td>Prem Rawat \\n\\n#PremRawat #Hindi #Bhajan #song...</td>\n      <td>joy</td>\n    </tr>\n  </tbody>\n</table>\n<p>13107 rows × 5 columns</p>\n</div>"
     },
     "metadata": {},
     "execution_count": 17
    }
   ],
   "source": [
    "# Shuffle dataset\n",
    "joy_df = joy_df.sample(frac=1).reset_index(drop=True)\n",
    "\n",
    "# Remove 15000 examples from joy dataset\n",
    "joy_df = joy_df[15000:]\n",
    "\n",
    "joy_df"
   ]
  },
  {
   "cell_type": "code",
   "execution_count": 18,
   "metadata": {},
   "outputs": [
    {
     "output_type": "execute_result",
     "data": {
      "text/plain": [
       "emotion\n",
       "anger/hate                8829\n",
       "constructive feedback    10632\n",
       "disgust                   6271\n",
       "love                     18345\n",
       "Name: text, dtype: int64"
      ]
     },
     "metadata": {},
     "execution_count": 18
    }
   ],
   "source": [
    "# Remove joy from original df\n",
    "df = df[df['emotion'] != 'joy']\n",
    "\n",
    "df.groupby('emotion').count().text"
   ]
  },
  {
   "cell_type": "code",
   "execution_count": 19,
   "metadata": {},
   "outputs": [
    {
     "output_type": "execute_result",
     "data": {
      "text/plain": [
       "                        id                 date             user  \\\n",
       "0      1348669486514249730  2021-01-11 16:33:57         Zaquawn5   \n",
       "1      1348662117495312385  2021-01-11 16:04:40  AniruddhaBhakti   \n",
       "2      1348660886723055622  2021-01-11 15:59:46    cheesybreadaj   \n",
       "3      1348652024657833984  2021-01-11 15:24:34         RepetApp   \n",
       "4      1348648574007926785  2021-01-11 15:10:51    Flora34574173   \n",
       "...                    ...                  ...              ...   \n",
       "28102  1346471343915585538  2021-01-05 14:59:19    braintickler_   \n",
       "28103  1346497129112592391  2021-01-05 16:41:46      TrevHaworth   \n",
       "28104  1346647081482653696  2021-01-06 02:37:38    MelissaChipps   \n",
       "28105  1347554565097353218  2021-01-08 14:43:39    MysticWhiteRo   \n",
       "28106  1346751887324884992  2021-01-06 09:34:06          SRDHAIN   \n",
       "\n",
       "                                                    text     emotion  \n",
       "0      Me angrily drawing something (sorry it doesn’t...  anger/hate  \n",
       "1      Sadguru Shree Aniruddha explains how one shoul...  anger/hate  \n",
       "2      hayden stop looking at my social media i am #a...  anger/hate  \n",
       "3      Damn, my gf calls me by name 😨😱\\n\\n#damn #mygi...  anger/hate  \n",
       "4      It is not within everybody's power to be #angr...  anger/hate  \n",
       "...                                                  ...         ...  \n",
       "28102  JOKE OF THE DAY : I'd like to start a diet, bu...         joy  \n",
       "28103  6 months gone, 6 to go in my year of health.\\n...         joy  \n",
       "28104  Coaching with Melissa \\n386-569-5188 \\n\\n#wing...         joy  \n",
       "28105  Get out of your head and get into your heart. ...         joy  \n",
       "28106  Prem Rawat \\n\\n#PremRawat #Hindi #Bhajan #song...         joy  \n",
       "\n",
       "[57184 rows x 5 columns]"
      ],
      "text/html": "<div>\n<style scoped>\n    .dataframe tbody tr th:only-of-type {\n        vertical-align: middle;\n    }\n\n    .dataframe tbody tr th {\n        vertical-align: top;\n    }\n\n    .dataframe thead th {\n        text-align: right;\n    }\n</style>\n<table border=\"1\" class=\"dataframe\">\n  <thead>\n    <tr style=\"text-align: right;\">\n      <th></th>\n      <th>id</th>\n      <th>date</th>\n      <th>user</th>\n      <th>text</th>\n      <th>emotion</th>\n    </tr>\n  </thead>\n  <tbody>\n    <tr>\n      <th>0</th>\n      <td>1348669486514249730</td>\n      <td>2021-01-11 16:33:57</td>\n      <td>Zaquawn5</td>\n      <td>Me angrily drawing something (sorry it doesn’t...</td>\n      <td>anger/hate</td>\n    </tr>\n    <tr>\n      <th>1</th>\n      <td>1348662117495312385</td>\n      <td>2021-01-11 16:04:40</td>\n      <td>AniruddhaBhakti</td>\n      <td>Sadguru Shree Aniruddha explains how one shoul...</td>\n      <td>anger/hate</td>\n    </tr>\n    <tr>\n      <th>2</th>\n      <td>1348660886723055622</td>\n      <td>2021-01-11 15:59:46</td>\n      <td>cheesybreadaj</td>\n      <td>hayden stop looking at my social media i am #a...</td>\n      <td>anger/hate</td>\n    </tr>\n    <tr>\n      <th>3</th>\n      <td>1348652024657833984</td>\n      <td>2021-01-11 15:24:34</td>\n      <td>RepetApp</td>\n      <td>Damn, my gf calls me by name 😨😱\\n\\n#damn #mygi...</td>\n      <td>anger/hate</td>\n    </tr>\n    <tr>\n      <th>4</th>\n      <td>1348648574007926785</td>\n      <td>2021-01-11 15:10:51</td>\n      <td>Flora34574173</td>\n      <td>It is not within everybody's power to be #angr...</td>\n      <td>anger/hate</td>\n    </tr>\n    <tr>\n      <th>...</th>\n      <td>...</td>\n      <td>...</td>\n      <td>...</td>\n      <td>...</td>\n      <td>...</td>\n    </tr>\n    <tr>\n      <th>28102</th>\n      <td>1346471343915585538</td>\n      <td>2021-01-05 14:59:19</td>\n      <td>braintickler_</td>\n      <td>JOKE OF THE DAY : I'd like to start a diet, bu...</td>\n      <td>joy</td>\n    </tr>\n    <tr>\n      <th>28103</th>\n      <td>1346497129112592391</td>\n      <td>2021-01-05 16:41:46</td>\n      <td>TrevHaworth</td>\n      <td>6 months gone, 6 to go in my year of health.\\n...</td>\n      <td>joy</td>\n    </tr>\n    <tr>\n      <th>28104</th>\n      <td>1346647081482653696</td>\n      <td>2021-01-06 02:37:38</td>\n      <td>MelissaChipps</td>\n      <td>Coaching with Melissa \\n386-569-5188 \\n\\n#wing...</td>\n      <td>joy</td>\n    </tr>\n    <tr>\n      <th>28105</th>\n      <td>1347554565097353218</td>\n      <td>2021-01-08 14:43:39</td>\n      <td>MysticWhiteRo</td>\n      <td>Get out of your head and get into your heart. ...</td>\n      <td>joy</td>\n    </tr>\n    <tr>\n      <th>28106</th>\n      <td>1346751887324884992</td>\n      <td>2021-01-06 09:34:06</td>\n      <td>SRDHAIN</td>\n      <td>Prem Rawat \\n\\n#PremRawat #Hindi #Bhajan #song...</td>\n      <td>joy</td>\n    </tr>\n  </tbody>\n</table>\n<p>57184 rows × 5 columns</p>\n</div>"
     },
     "metadata": {},
     "execution_count": 19
    }
   ],
   "source": [
    "# Add new joy df to original df\n",
    "df = pd.concat([df, joy_df])\n",
    "\n",
    "df"
   ]
  },
  {
   "cell_type": "code",
   "execution_count": 20,
   "metadata": {},
   "outputs": [
    {
     "output_type": "display_data",
     "data": {
      "text/plain": "<Figure size 800x600 with 1 Axes>",
      "image/svg+xml": "<?xml version=\"1.0\" encoding=\"utf-8\" standalone=\"no\"?>\n<!DOCTYPE svg PUBLIC \"-//W3C//DTD SVG 1.1//EN\"\n  \"http://www.w3.org/Graphics/SVG/1.1/DTD/svg11.dtd\">\n<!-- Created with matplotlib (https://matplotlib.org/) -->\n<svg height=\"375.357187pt\" version=\"1.1\" viewBox=\"0 0 515.859531 375.357187\" width=\"515.859531pt\" xmlns=\"http://www.w3.org/2000/svg\" xmlns:xlink=\"http://www.w3.org/1999/xlink\">\n <metadata>\n  <rdf:RDF xmlns:cc=\"http://creativecommons.org/ns#\" xmlns:dc=\"http://purl.org/dc/elements/1.1/\" xmlns:rdf=\"http://www.w3.org/1999/02/22-rdf-syntax-ns#\">\n   <cc:Work>\n    <dc:type rdf:resource=\"http://purl.org/dc/dcmitype/StillImage\"/>\n    <dc:date>2021-01-12T18:58:57.748454</dc:date>\n    <dc:format>image/svg+xml</dc:format>\n    <dc:creator>\n     <cc:Agent>\n      <dc:title>Matplotlib v3.3.2, https://matplotlib.org/</dc:title>\n     </cc:Agent>\n    </dc:creator>\n   </cc:Work>\n  </rdf:RDF>\n </metadata>\n <defs>\n  <style type=\"text/css\">*{stroke-linecap:butt;stroke-linejoin:round;}</style>\n </defs>\n <g id=\"figure_1\">\n  <g id=\"patch_1\">\n   <path d=\"M 0 375.357187 \nL 515.859531 375.357187 \nL 515.859531 0 \nL 0 0 \nz\n\" style=\"fill:#ffffff;\"/>\n  </g>\n  <g id=\"axes_1\">\n   <g id=\"patch_2\">\n    <path d=\"M 62.259531 333.36 \nL 508.659531 333.36 \nL 508.659531 7.2 \nL 62.259531 7.2 \nz\n\" style=\"fill:#eaeaf2;\"/>\n   </g>\n   <g id=\"matplotlib.axis_1\">\n    <g id=\"xtick_1\">\n     <g id=\"text_1\">\n      <!-- anger/hate -->\n      <g style=\"fill:#262626;\" transform=\"translate(80.602656 350.867656)scale(0.11 -0.11)\">\n       <defs>\n        <path d=\"M 40.4375 6.390625 \nQ 35.546875 2.25 31.03125 0.53125 \nQ 26.515625 -1.171875 21.34375 -1.171875 \nQ 12.796875 -1.171875 8.203125 3 \nQ 3.609375 7.171875 3.609375 13.671875 \nQ 3.609375 17.484375 5.34375 20.625 \nQ 7.078125 23.78125 9.890625 25.6875 \nQ 12.703125 27.59375 16.21875 28.5625 \nQ 18.796875 29.25 24.03125 29.890625 \nQ 34.671875 31.15625 39.703125 32.90625 \nQ 39.75 34.71875 39.75 35.203125 \nQ 39.75 40.578125 37.25 42.78125 \nQ 33.890625 45.75 27.25 45.75 \nQ 21.046875 45.75 18.09375 43.578125 \nQ 15.140625 41.40625 13.71875 35.890625 \nL 5.125 37.0625 \nQ 6.296875 42.578125 8.984375 45.96875 \nQ 11.671875 49.359375 16.75 51.1875 \nQ 21.828125 53.03125 28.515625 53.03125 \nQ 35.15625 53.03125 39.296875 51.46875 \nQ 43.453125 49.90625 45.40625 47.53125 \nQ 47.359375 45.171875 48.140625 41.546875 \nQ 48.578125 39.3125 48.578125 33.453125 \nL 48.578125 21.734375 \nQ 48.578125 9.46875 49.140625 6.21875 \nQ 49.703125 2.984375 51.375 0 \nL 42.1875 0 \nQ 40.828125 2.734375 40.4375 6.390625 \nz\nM 39.703125 26.03125 \nQ 34.90625 24.078125 25.34375 22.703125 \nQ 19.921875 21.921875 17.671875 20.9375 \nQ 15.4375 19.96875 14.203125 18.09375 \nQ 12.984375 16.21875 12.984375 13.921875 \nQ 12.984375 10.40625 15.640625 8.0625 \nQ 18.3125 5.71875 23.4375 5.71875 \nQ 28.515625 5.71875 32.46875 7.9375 \nQ 36.421875 10.15625 38.28125 14.015625 \nQ 39.703125 17 39.703125 22.796875 \nz\n\" id=\"ArialMT-97\"/>\n        <path d=\"M 6.59375 0 \nL 6.59375 51.859375 \nL 14.5 51.859375 \nL 14.5 44.484375 \nQ 20.21875 53.03125 31 53.03125 \nQ 35.6875 53.03125 39.625 51.34375 \nQ 43.5625 49.65625 45.515625 46.921875 \nQ 47.46875 44.1875 48.25 40.4375 \nQ 48.734375 37.984375 48.734375 31.890625 \nL 48.734375 0 \nL 39.9375 0 \nL 39.9375 31.546875 \nQ 39.9375 36.921875 38.90625 39.578125 \nQ 37.890625 42.234375 35.28125 43.8125 \nQ 32.671875 45.40625 29.15625 45.40625 \nQ 23.53125 45.40625 19.453125 41.84375 \nQ 15.375 38.28125 15.375 28.328125 \nL 15.375 0 \nz\n\" id=\"ArialMT-110\"/>\n        <path d=\"M 4.984375 -4.296875 \nL 13.53125 -5.5625 \nQ 14.0625 -9.515625 16.5 -11.328125 \nQ 19.78125 -13.765625 25.4375 -13.765625 \nQ 31.546875 -13.765625 34.859375 -11.328125 \nQ 38.1875 -8.890625 39.359375 -4.5 \nQ 40.046875 -1.8125 39.984375 6.78125 \nQ 34.234375 0 25.640625 0 \nQ 14.9375 0 9.078125 7.71875 \nQ 3.21875 15.4375 3.21875 26.21875 \nQ 3.21875 33.640625 5.90625 39.90625 \nQ 8.59375 46.1875 13.6875 49.609375 \nQ 18.796875 53.03125 25.6875 53.03125 \nQ 34.859375 53.03125 40.828125 45.609375 \nL 40.828125 51.859375 \nL 48.921875 51.859375 \nL 48.921875 7.03125 \nQ 48.921875 -5.078125 46.453125 -10.125 \nQ 44 -15.1875 38.640625 -18.109375 \nQ 33.296875 -21.046875 25.484375 -21.046875 \nQ 16.21875 -21.046875 10.5 -16.875 \nQ 4.78125 -12.703125 4.984375 -4.296875 \nz\nM 12.25 26.859375 \nQ 12.25 16.65625 16.296875 11.96875 \nQ 20.359375 7.28125 26.46875 7.28125 \nQ 32.515625 7.28125 36.609375 11.9375 \nQ 40.71875 16.609375 40.71875 26.5625 \nQ 40.71875 36.078125 36.5 40.90625 \nQ 32.28125 45.75 26.3125 45.75 \nQ 20.453125 45.75 16.34375 40.984375 \nQ 12.25 36.234375 12.25 26.859375 \nz\n\" id=\"ArialMT-103\"/>\n        <path d=\"M 42.09375 16.703125 \nL 51.171875 15.578125 \nQ 49.03125 7.625 43.21875 3.21875 \nQ 37.40625 -1.171875 28.375 -1.171875 \nQ 17 -1.171875 10.328125 5.828125 \nQ 3.65625 12.84375 3.65625 25.484375 \nQ 3.65625 38.578125 10.390625 45.796875 \nQ 17.140625 53.03125 27.875 53.03125 \nQ 38.28125 53.03125 44.875 45.953125 \nQ 51.46875 38.875 51.46875 26.03125 \nQ 51.46875 25.25 51.421875 23.6875 \nL 12.75 23.6875 \nQ 13.234375 15.140625 17.578125 10.59375 \nQ 21.921875 6.0625 28.421875 6.0625 \nQ 33.25 6.0625 36.671875 8.59375 \nQ 40.09375 11.140625 42.09375 16.703125 \nz\nM 13.234375 30.90625 \nL 42.1875 30.90625 \nQ 41.609375 37.453125 38.875 40.71875 \nQ 34.671875 45.796875 27.984375 45.796875 \nQ 21.921875 45.796875 17.796875 41.75 \nQ 13.671875 37.703125 13.234375 30.90625 \nz\n\" id=\"ArialMT-101\"/>\n        <path d=\"M 6.5 0 \nL 6.5 51.859375 \nL 14.40625 51.859375 \nL 14.40625 44 \nQ 17.4375 49.515625 20 51.265625 \nQ 22.5625 53.03125 25.640625 53.03125 \nQ 30.078125 53.03125 34.671875 50.203125 \nL 31.640625 42.046875 \nQ 28.421875 43.953125 25.203125 43.953125 \nQ 22.3125 43.953125 20.015625 42.21875 \nQ 17.71875 40.484375 16.75 37.40625 \nQ 15.28125 32.71875 15.28125 27.15625 \nL 15.28125 0 \nz\n\" id=\"ArialMT-114\"/>\n        <path d=\"M 0 -1.21875 \nL 20.75 72.796875 \nL 27.78125 72.796875 \nL 7.078125 -1.21875 \nz\n\" id=\"ArialMT-47\"/>\n        <path d=\"M 6.59375 0 \nL 6.59375 71.578125 \nL 15.375 71.578125 \nL 15.375 45.90625 \nQ 21.53125 53.03125 30.90625 53.03125 \nQ 36.671875 53.03125 40.921875 50.75 \nQ 45.171875 48.484375 47 44.484375 \nQ 48.828125 40.484375 48.828125 32.859375 \nL 48.828125 0 \nL 40.046875 0 \nL 40.046875 32.859375 \nQ 40.046875 39.453125 37.1875 42.453125 \nQ 34.328125 45.453125 29.109375 45.453125 \nQ 25.203125 45.453125 21.75 43.421875 \nQ 18.3125 41.40625 16.84375 37.9375 \nQ 15.375 34.46875 15.375 28.375 \nL 15.375 0 \nz\n\" id=\"ArialMT-104\"/>\n        <path d=\"M 25.78125 7.859375 \nL 27.046875 0.09375 \nQ 23.34375 -0.6875 20.40625 -0.6875 \nQ 15.625 -0.6875 12.984375 0.828125 \nQ 10.359375 2.34375 9.28125 4.8125 \nQ 8.203125 7.28125 8.203125 15.1875 \nL 8.203125 45.015625 \nL 1.765625 45.015625 \nL 1.765625 51.859375 \nL 8.203125 51.859375 \nL 8.203125 64.703125 \nL 16.9375 69.96875 \nL 16.9375 51.859375 \nL 25.78125 51.859375 \nL 25.78125 45.015625 \nL 16.9375 45.015625 \nL 16.9375 14.703125 \nQ 16.9375 10.9375 17.40625 9.859375 \nQ 17.875 8.796875 18.921875 8.15625 \nQ 19.96875 7.515625 21.921875 7.515625 \nQ 23.390625 7.515625 25.78125 7.859375 \nz\n\" id=\"ArialMT-116\"/>\n       </defs>\n       <use xlink:href=\"#ArialMT-97\"/>\n       <use x=\"55.615234\" xlink:href=\"#ArialMT-110\"/>\n       <use x=\"111.230469\" xlink:href=\"#ArialMT-103\"/>\n       <use x=\"166.845703\" xlink:href=\"#ArialMT-101\"/>\n       <use x=\"222.460938\" xlink:href=\"#ArialMT-114\"/>\n       <use x=\"255.761719\" xlink:href=\"#ArialMT-47\"/>\n       <use x=\"283.544922\" xlink:href=\"#ArialMT-104\"/>\n       <use x=\"339.160156\" xlink:href=\"#ArialMT-97\"/>\n       <use x=\"394.775391\" xlink:href=\"#ArialMT-116\"/>\n       <use x=\"422.558594\" xlink:href=\"#ArialMT-101\"/>\n      </g>\n     </g>\n    </g>\n    <g id=\"xtick_2\">\n     <g id=\"text_2\">\n      <!-- constructive feedback -->\n      <g style=\"fill:#262626;\" transform=\"translate(142.987656 350.733594)scale(0.11 -0.11)\">\n       <defs>\n        <path d=\"M 40.4375 19 \nL 49.078125 17.875 \nQ 47.65625 8.9375 41.8125 3.875 \nQ 35.984375 -1.171875 27.484375 -1.171875 \nQ 16.84375 -1.171875 10.375 5.78125 \nQ 3.90625 12.75 3.90625 25.734375 \nQ 3.90625 34.125 6.6875 40.421875 \nQ 9.46875 46.734375 15.15625 49.875 \nQ 20.84375 53.03125 27.546875 53.03125 \nQ 35.984375 53.03125 41.359375 48.75 \nQ 46.734375 44.484375 48.25 36.625 \nL 39.703125 35.296875 \nQ 38.484375 40.53125 35.375 43.15625 \nQ 32.28125 45.796875 27.875 45.796875 \nQ 21.234375 45.796875 17.078125 41.03125 \nQ 12.9375 36.28125 12.9375 25.984375 \nQ 12.9375 15.53125 16.9375 10.796875 \nQ 20.953125 6.0625 27.390625 6.0625 \nQ 32.5625 6.0625 36.03125 9.234375 \nQ 39.5 12.40625 40.4375 19 \nz\n\" id=\"ArialMT-99\"/>\n        <path d=\"M 3.328125 25.921875 \nQ 3.328125 40.328125 11.328125 47.265625 \nQ 18.015625 53.03125 27.640625 53.03125 \nQ 38.328125 53.03125 45.109375 46.015625 \nQ 51.90625 39.015625 51.90625 26.65625 \nQ 51.90625 16.65625 48.90625 10.90625 \nQ 45.90625 5.171875 40.15625 2 \nQ 34.421875 -1.171875 27.640625 -1.171875 \nQ 16.75 -1.171875 10.03125 5.8125 \nQ 3.328125 12.796875 3.328125 25.921875 \nz\nM 12.359375 25.921875 \nQ 12.359375 15.96875 16.703125 11.015625 \nQ 21.046875 6.0625 27.640625 6.0625 \nQ 34.1875 6.0625 38.53125 11.03125 \nQ 42.875 16.015625 42.875 26.21875 \nQ 42.875 35.84375 38.5 40.796875 \nQ 34.125 45.75 27.640625 45.75 \nQ 21.046875 45.75 16.703125 40.8125 \nQ 12.359375 35.890625 12.359375 25.921875 \nz\n\" id=\"ArialMT-111\"/>\n        <path d=\"M 3.078125 15.484375 \nL 11.765625 16.84375 \nQ 12.5 11.625 15.84375 8.84375 \nQ 19.1875 6.0625 25.203125 6.0625 \nQ 31.25 6.0625 34.171875 8.515625 \nQ 37.109375 10.984375 37.109375 14.3125 \nQ 37.109375 17.28125 34.515625 19 \nQ 32.71875 20.171875 25.53125 21.96875 \nQ 15.875 24.421875 12.140625 26.203125 \nQ 8.40625 27.984375 6.46875 31.125 \nQ 4.546875 34.28125 4.546875 38.09375 \nQ 4.546875 41.546875 6.125 44.5 \nQ 7.71875 47.46875 10.453125 49.421875 \nQ 12.5 50.921875 16.03125 51.96875 \nQ 19.578125 53.03125 23.640625 53.03125 \nQ 29.734375 53.03125 34.34375 51.265625 \nQ 38.96875 49.515625 41.15625 46.5 \nQ 43.359375 43.5 44.1875 38.484375 \nL 35.59375 37.3125 \nQ 35.015625 41.3125 32.203125 43.546875 \nQ 29.390625 45.796875 24.265625 45.796875 \nQ 18.21875 45.796875 15.625 43.796875 \nQ 13.03125 41.796875 13.03125 39.109375 \nQ 13.03125 37.40625 14.109375 36.03125 \nQ 15.1875 34.625 17.484375 33.6875 \nQ 18.796875 33.203125 25.25 31.453125 \nQ 34.578125 28.953125 38.25 27.359375 \nQ 41.9375 25.78125 44.03125 22.75 \nQ 46.140625 19.734375 46.140625 15.234375 \nQ 46.140625 10.84375 43.578125 6.953125 \nQ 41.015625 3.078125 36.171875 0.953125 \nQ 31.34375 -1.171875 25.25 -1.171875 \nQ 15.140625 -1.171875 9.84375 3.03125 \nQ 4.546875 7.234375 3.078125 15.484375 \nz\n\" id=\"ArialMT-115\"/>\n        <path d=\"M 40.578125 0 \nL 40.578125 7.625 \nQ 34.515625 -1.171875 24.125 -1.171875 \nQ 19.53125 -1.171875 15.546875 0.578125 \nQ 11.578125 2.34375 9.640625 5 \nQ 7.71875 7.671875 6.9375 11.53125 \nQ 6.390625 14.109375 6.390625 19.734375 \nL 6.390625 51.859375 \nL 15.1875 51.859375 \nL 15.1875 23.09375 \nQ 15.1875 16.21875 15.71875 13.8125 \nQ 16.546875 10.359375 19.234375 8.375 \nQ 21.921875 6.390625 25.875 6.390625 \nQ 29.828125 6.390625 33.296875 8.421875 \nQ 36.765625 10.453125 38.203125 13.9375 \nQ 39.65625 17.4375 39.65625 24.078125 \nL 39.65625 51.859375 \nL 48.4375 51.859375 \nL 48.4375 0 \nz\n\" id=\"ArialMT-117\"/>\n        <path d=\"M 6.640625 61.46875 \nL 6.640625 71.578125 \nL 15.4375 71.578125 \nL 15.4375 61.46875 \nz\nM 6.640625 0 \nL 6.640625 51.859375 \nL 15.4375 51.859375 \nL 15.4375 0 \nz\n\" id=\"ArialMT-105\"/>\n        <path d=\"M 21 0 \nL 1.265625 51.859375 \nL 10.546875 51.859375 \nL 21.6875 20.796875 \nQ 23.484375 15.765625 25 10.359375 \nQ 26.171875 14.453125 28.265625 20.21875 \nL 39.796875 51.859375 \nL 48.828125 51.859375 \nL 29.203125 0 \nz\n\" id=\"ArialMT-118\"/>\n        <path id=\"ArialMT-32\"/>\n        <path d=\"M 8.6875 0 \nL 8.6875 45.015625 \nL 0.921875 45.015625 \nL 0.921875 51.859375 \nL 8.6875 51.859375 \nL 8.6875 57.375 \nQ 8.6875 62.59375 9.625 65.140625 \nQ 10.890625 68.5625 14.078125 70.671875 \nQ 17.28125 72.796875 23.046875 72.796875 \nQ 26.765625 72.796875 31.25 71.921875 \nL 29.9375 64.265625 \nQ 27.203125 64.75 24.75 64.75 \nQ 20.75 64.75 19.09375 63.03125 \nQ 17.4375 61.328125 17.4375 56.640625 \nL 17.4375 51.859375 \nL 27.546875 51.859375 \nL 27.546875 45.015625 \nL 17.4375 45.015625 \nL 17.4375 0 \nz\n\" id=\"ArialMT-102\"/>\n        <path d=\"M 40.234375 0 \nL 40.234375 6.546875 \nQ 35.296875 -1.171875 25.734375 -1.171875 \nQ 19.53125 -1.171875 14.328125 2.25 \nQ 9.125 5.671875 6.265625 11.796875 \nQ 3.421875 17.921875 3.421875 25.875 \nQ 3.421875 33.640625 6 39.96875 \nQ 8.59375 46.296875 13.765625 49.65625 \nQ 18.953125 53.03125 25.34375 53.03125 \nQ 30.03125 53.03125 33.6875 51.046875 \nQ 37.359375 49.078125 39.65625 45.90625 \nL 39.65625 71.578125 \nL 48.390625 71.578125 \nL 48.390625 0 \nz\nM 12.453125 25.875 \nQ 12.453125 15.921875 16.640625 10.984375 \nQ 20.84375 6.0625 26.5625 6.0625 \nQ 32.328125 6.0625 36.34375 10.765625 \nQ 40.375 15.484375 40.375 25.140625 \nQ 40.375 35.796875 36.265625 40.765625 \nQ 32.171875 45.75 26.171875 45.75 \nQ 20.3125 45.75 16.375 40.96875 \nQ 12.453125 36.1875 12.453125 25.875 \nz\n\" id=\"ArialMT-100\"/>\n        <path d=\"M 14.703125 0 \nL 6.546875 0 \nL 6.546875 71.578125 \nL 15.328125 71.578125 \nL 15.328125 46.046875 \nQ 20.90625 53.03125 29.546875 53.03125 \nQ 34.328125 53.03125 38.59375 51.09375 \nQ 42.875 49.171875 45.625 45.671875 \nQ 48.390625 42.1875 49.953125 37.25 \nQ 51.515625 32.328125 51.515625 26.703125 \nQ 51.515625 13.375 44.921875 6.09375 \nQ 38.328125 -1.171875 29.109375 -1.171875 \nQ 19.921875 -1.171875 14.703125 6.5 \nz\nM 14.59375 26.3125 \nQ 14.59375 17 17.140625 12.84375 \nQ 21.296875 6.0625 28.375 6.0625 \nQ 34.125 6.0625 38.328125 11.0625 \nQ 42.53125 16.0625 42.53125 25.984375 \nQ 42.53125 36.140625 38.5 40.96875 \nQ 34.46875 45.796875 28.765625 45.796875 \nQ 23 45.796875 18.796875 40.796875 \nQ 14.59375 35.796875 14.59375 26.3125 \nz\n\" id=\"ArialMT-98\"/>\n        <path d=\"M 6.640625 0 \nL 6.640625 71.578125 \nL 15.4375 71.578125 \nL 15.4375 30.765625 \nL 36.234375 51.859375 \nL 47.609375 51.859375 \nL 27.78125 32.625 \nL 49.609375 0 \nL 38.765625 0 \nL 21.625 26.515625 \nL 15.4375 20.5625 \nL 15.4375 0 \nz\n\" id=\"ArialMT-107\"/>\n       </defs>\n       <use xlink:href=\"#ArialMT-99\"/>\n       <use x=\"50\" xlink:href=\"#ArialMT-111\"/>\n       <use x=\"105.615234\" xlink:href=\"#ArialMT-110\"/>\n       <use x=\"161.230469\" xlink:href=\"#ArialMT-115\"/>\n       <use x=\"211.230469\" xlink:href=\"#ArialMT-116\"/>\n       <use x=\"239.013672\" xlink:href=\"#ArialMT-114\"/>\n       <use x=\"272.314453\" xlink:href=\"#ArialMT-117\"/>\n       <use x=\"327.929688\" xlink:href=\"#ArialMT-99\"/>\n       <use x=\"377.929688\" xlink:href=\"#ArialMT-116\"/>\n       <use x=\"405.712891\" xlink:href=\"#ArialMT-105\"/>\n       <use x=\"427.929688\" xlink:href=\"#ArialMT-118\"/>\n       <use x=\"477.929688\" xlink:href=\"#ArialMT-101\"/>\n       <use x=\"533.544922\" xlink:href=\"#ArialMT-32\"/>\n       <use x=\"561.328125\" xlink:href=\"#ArialMT-102\"/>\n       <use x=\"589.111328\" xlink:href=\"#ArialMT-101\"/>\n       <use x=\"644.726562\" xlink:href=\"#ArialMT-101\"/>\n       <use x=\"700.341797\" xlink:href=\"#ArialMT-100\"/>\n       <use x=\"755.957031\" xlink:href=\"#ArialMT-98\"/>\n       <use x=\"811.572266\" xlink:href=\"#ArialMT-97\"/>\n       <use x=\"867.1875\" xlink:href=\"#ArialMT-99\"/>\n       <use x=\"917.1875\" xlink:href=\"#ArialMT-107\"/>\n      </g>\n     </g>\n    </g>\n    <g id=\"xtick_3\">\n     <g id=\"text_3\">\n      <!-- love -->\n      <g style=\"fill:#262626;\" transform=\"translate(275.370469 350.733594)scale(0.11 -0.11)\">\n       <defs>\n        <path d=\"M 6.390625 0 \nL 6.390625 71.578125 \nL 15.1875 71.578125 \nL 15.1875 0 \nz\n\" id=\"ArialMT-108\"/>\n       </defs>\n       <use xlink:href=\"#ArialMT-108\"/>\n       <use x=\"22.216797\" xlink:href=\"#ArialMT-111\"/>\n       <use x=\"77.832031\" xlink:href=\"#ArialMT-118\"/>\n       <use x=\"127.832031\" xlink:href=\"#ArialMT-101\"/>\n      </g>\n     </g>\n    </g>\n    <g id=\"xtick_4\">\n     <g id=\"text_4\">\n      <!-- disgust -->\n      <g style=\"fill:#262626;\" transform=\"translate(357.313984 350.733594)scale(0.11 -0.11)\">\n       <use xlink:href=\"#ArialMT-100\"/>\n       <use x=\"55.615234\" xlink:href=\"#ArialMT-105\"/>\n       <use x=\"77.832031\" xlink:href=\"#ArialMT-115\"/>\n       <use x=\"127.832031\" xlink:href=\"#ArialMT-103\"/>\n       <use x=\"183.447266\" xlink:href=\"#ArialMT-117\"/>\n       <use x=\"239.0625\" xlink:href=\"#ArialMT-115\"/>\n       <use x=\"289.0625\" xlink:href=\"#ArialMT-116\"/>\n      </g>\n     </g>\n    </g>\n    <g id=\"xtick_5\">\n     <g id=\"text_5\">\n      <!-- joy -->\n      <g style=\"fill:#262626;\" transform=\"translate(456.988984 350.733594)scale(0.11 -0.11)\">\n       <defs>\n        <path d=\"M 6.546875 61.375 \nL 6.546875 71.578125 \nL 15.328125 71.578125 \nL 15.328125 61.375 \nz\nM -4.59375 -20.125 \nL -2.9375 -12.640625 \nQ -0.296875 -13.328125 1.21875 -13.328125 \nQ 3.90625 -13.328125 5.21875 -11.546875 \nQ 6.546875 -9.765625 6.546875 -2.640625 \nL 6.546875 51.859375 \nL 15.328125 51.859375 \nL 15.328125 -2.828125 \nQ 15.328125 -12.40625 12.84375 -16.15625 \nQ 9.671875 -21.046875 2.296875 -21.046875 \nQ -1.265625 -21.046875 -4.59375 -20.125 \nz\n\" id=\"ArialMT-106\"/>\n        <path d=\"M 6.203125 -19.96875 \nL 5.21875 -11.71875 \nQ 8.109375 -12.5 10.25 -12.5 \nQ 13.1875 -12.5 14.9375 -11.515625 \nQ 16.703125 -10.546875 17.828125 -8.796875 \nQ 18.65625 -7.46875 20.515625 -2.25 \nQ 20.75 -1.515625 21.296875 -0.09375 \nL 1.609375 51.859375 \nL 11.078125 51.859375 \nL 21.875 21.828125 \nQ 23.96875 16.109375 25.640625 9.8125 \nQ 27.15625 15.875 29.25 21.625 \nL 40.328125 51.859375 \nL 49.125 51.859375 \nL 29.390625 -0.875 \nQ 26.21875 -9.421875 24.46875 -12.640625 \nQ 22.125 -17 19.09375 -19.015625 \nQ 16.0625 -21.046875 11.859375 -21.046875 \nQ 9.328125 -21.046875 6.203125 -19.96875 \nz\n\" id=\"ArialMT-121\"/>\n       </defs>\n       <use xlink:href=\"#ArialMT-106\"/>\n       <use x=\"22.216797\" xlink:href=\"#ArialMT-111\"/>\n       <use x=\"77.832031\" xlink:href=\"#ArialMT-121\"/>\n      </g>\n     </g>\n    </g>\n    <g id=\"text_6\">\n     <!-- emotion -->\n     <g style=\"fill:#262626;\" transform=\"translate(264.115469 365.772187)scale(0.12 -0.12)\">\n      <defs>\n       <path d=\"M 6.59375 0 \nL 6.59375 51.859375 \nL 14.453125 51.859375 \nL 14.453125 44.578125 \nQ 16.890625 48.390625 20.9375 50.703125 \nQ 25 53.03125 30.171875 53.03125 \nQ 35.9375 53.03125 39.625 50.640625 \nQ 43.3125 48.25 44.828125 43.953125 \nQ 50.984375 53.03125 60.84375 53.03125 \nQ 68.5625 53.03125 72.703125 48.75 \nQ 76.859375 44.484375 76.859375 35.59375 \nL 76.859375 0 \nL 68.109375 0 \nL 68.109375 32.671875 \nQ 68.109375 37.9375 67.25 40.25 \nQ 66.40625 42.578125 64.15625 43.984375 \nQ 61.921875 45.40625 58.890625 45.40625 \nQ 53.421875 45.40625 49.796875 41.765625 \nQ 46.1875 38.140625 46.1875 30.125 \nL 46.1875 0 \nL 37.40625 0 \nL 37.40625 33.6875 \nQ 37.40625 39.546875 35.25 42.46875 \nQ 33.109375 45.40625 28.21875 45.40625 \nQ 24.515625 45.40625 21.359375 43.453125 \nQ 18.21875 41.5 16.796875 37.734375 \nQ 15.375 33.984375 15.375 26.90625 \nL 15.375 0 \nz\n\" id=\"ArialMT-109\"/>\n      </defs>\n      <use xlink:href=\"#ArialMT-101\"/>\n      <use x=\"55.615234\" xlink:href=\"#ArialMT-109\"/>\n      <use x=\"138.916016\" xlink:href=\"#ArialMT-111\"/>\n      <use x=\"194.53125\" xlink:href=\"#ArialMT-116\"/>\n      <use x=\"222.314453\" xlink:href=\"#ArialMT-105\"/>\n      <use x=\"244.53125\" xlink:href=\"#ArialMT-111\"/>\n      <use x=\"300.146484\" xlink:href=\"#ArialMT-110\"/>\n     </g>\n    </g>\n   </g>\n   <g id=\"matplotlib.axis_2\">\n    <g id=\"ytick_1\">\n     <g id=\"line2d_1\">\n      <path clip-path=\"url(#p8aa6dae605)\" d=\"M 62.259531 333.36 \nL 508.659531 333.36 \n\" style=\"fill:none;stroke:#ffffff;stroke-linecap:round;\"/>\n     </g>\n     <g id=\"text_7\">\n      <!-- 0 -->\n      <g style=\"fill:#262626;\" transform=\"translate(46.6425 337.296797)scale(0.11 -0.11)\">\n       <defs>\n        <path d=\"M 4.15625 35.296875 \nQ 4.15625 48 6.765625 55.734375 \nQ 9.375 63.484375 14.515625 67.671875 \nQ 19.671875 71.875 27.484375 71.875 \nQ 33.25 71.875 37.59375 69.546875 \nQ 41.9375 67.234375 44.765625 62.859375 \nQ 47.609375 58.5 49.21875 52.21875 \nQ 50.828125 45.953125 50.828125 35.296875 \nQ 50.828125 22.703125 48.234375 14.96875 \nQ 45.65625 7.234375 40.5 3 \nQ 35.359375 -1.21875 27.484375 -1.21875 \nQ 17.140625 -1.21875 11.234375 6.203125 \nQ 4.15625 15.140625 4.15625 35.296875 \nz\nM 13.1875 35.296875 \nQ 13.1875 17.671875 17.3125 11.828125 \nQ 21.4375 6 27.484375 6 \nQ 33.546875 6 37.671875 11.859375 \nQ 41.796875 17.71875 41.796875 35.296875 \nQ 41.796875 52.984375 37.671875 58.78125 \nQ 33.546875 64.59375 27.390625 64.59375 \nQ 21.34375 64.59375 17.71875 59.46875 \nQ 13.1875 52.9375 13.1875 35.296875 \nz\n\" id=\"ArialMT-48\"/>\n       </defs>\n       <use xlink:href=\"#ArialMT-48\"/>\n      </g>\n     </g>\n    </g>\n    <g id=\"ytick_2\">\n     <g id=\"line2d_2\">\n      <path clip-path=\"url(#p8aa6dae605)\" d=\"M 62.259531 291.028497 \nL 508.659531 291.028497 \n\" style=\"fill:none;stroke:#ffffff;stroke-linecap:round;\"/>\n     </g>\n     <g id=\"text_8\">\n      <!-- 2500 -->\n      <g style=\"fill:#262626;\" transform=\"translate(28.291406 294.965294)scale(0.11 -0.11)\">\n       <defs>\n        <path d=\"M 50.34375 8.453125 \nL 50.34375 0 \nL 3.03125 0 \nQ 2.9375 3.171875 4.046875 6.109375 \nQ 5.859375 10.9375 9.828125 15.625 \nQ 13.8125 20.3125 21.34375 26.46875 \nQ 33.015625 36.03125 37.109375 41.625 \nQ 41.21875 47.21875 41.21875 52.203125 \nQ 41.21875 57.421875 37.46875 61 \nQ 33.734375 64.59375 27.734375 64.59375 \nQ 21.390625 64.59375 17.578125 60.78125 \nQ 13.765625 56.984375 13.71875 50.25 \nL 4.6875 51.171875 \nQ 5.609375 61.28125 11.65625 66.578125 \nQ 17.71875 71.875 27.9375 71.875 \nQ 38.234375 71.875 44.234375 66.15625 \nQ 50.25 60.453125 50.25 52 \nQ 50.25 47.703125 48.484375 43.546875 \nQ 46.734375 39.40625 42.65625 34.8125 \nQ 38.578125 30.21875 29.109375 22.21875 \nQ 21.1875 15.578125 18.9375 13.203125 \nQ 16.703125 10.84375 15.234375 8.453125 \nz\n\" id=\"ArialMT-50\"/>\n        <path d=\"M 4.15625 18.75 \nL 13.375 19.53125 \nQ 14.40625 12.796875 18.140625 9.390625 \nQ 21.875 6 27.15625 6 \nQ 33.5 6 37.890625 10.78125 \nQ 42.28125 15.578125 42.28125 23.484375 \nQ 42.28125 31 38.0625 35.34375 \nQ 33.84375 39.703125 27 39.703125 \nQ 22.75 39.703125 19.328125 37.765625 \nQ 15.921875 35.84375 13.96875 32.765625 \nL 5.71875 33.84375 \nL 12.640625 70.609375 \nL 48.25 70.609375 \nL 48.25 62.203125 \nL 19.671875 62.203125 \nL 15.828125 42.96875 \nQ 22.265625 47.46875 29.34375 47.46875 \nQ 38.71875 47.46875 45.15625 40.96875 \nQ 51.609375 34.46875 51.609375 24.265625 \nQ 51.609375 14.546875 45.953125 7.46875 \nQ 39.0625 -1.21875 27.15625 -1.21875 \nQ 17.390625 -1.21875 11.203125 4.25 \nQ 5.03125 9.71875 4.15625 18.75 \nz\n\" id=\"ArialMT-53\"/>\n       </defs>\n       <use xlink:href=\"#ArialMT-50\"/>\n       <use x=\"55.615234\" xlink:href=\"#ArialMT-53\"/>\n       <use x=\"111.230469\" xlink:href=\"#ArialMT-48\"/>\n       <use x=\"166.845703\" xlink:href=\"#ArialMT-48\"/>\n      </g>\n     </g>\n    </g>\n    <g id=\"ytick_3\">\n     <g id=\"line2d_3\">\n      <path clip-path=\"url(#p8aa6dae605)\" d=\"M 62.259531 248.696993 \nL 508.659531 248.696993 \n\" style=\"fill:none;stroke:#ffffff;stroke-linecap:round;\"/>\n     </g>\n     <g id=\"text_9\">\n      <!-- 5000 -->\n      <g style=\"fill:#262626;\" transform=\"translate(28.291406 252.63379)scale(0.11 -0.11)\">\n       <use xlink:href=\"#ArialMT-53\"/>\n       <use x=\"55.615234\" xlink:href=\"#ArialMT-48\"/>\n       <use x=\"111.230469\" xlink:href=\"#ArialMT-48\"/>\n       <use x=\"166.845703\" xlink:href=\"#ArialMT-48\"/>\n      </g>\n     </g>\n    </g>\n    <g id=\"ytick_4\">\n     <g id=\"line2d_4\">\n      <path clip-path=\"url(#p8aa6dae605)\" d=\"M 62.259531 206.36549 \nL 508.659531 206.36549 \n\" style=\"fill:none;stroke:#ffffff;stroke-linecap:round;\"/>\n     </g>\n     <g id=\"text_10\">\n      <!-- 7500 -->\n      <g style=\"fill:#262626;\" transform=\"translate(28.291406 210.302287)scale(0.11 -0.11)\">\n       <defs>\n        <path d=\"M 4.734375 62.203125 \nL 4.734375 70.65625 \nL 51.078125 70.65625 \nL 51.078125 63.8125 \nQ 44.234375 56.546875 37.515625 44.484375 \nQ 30.8125 32.421875 27.15625 19.671875 \nQ 24.515625 10.6875 23.78125 0 \nL 14.75 0 \nQ 14.890625 8.453125 18.0625 20.40625 \nQ 21.234375 32.375 27.171875 43.484375 \nQ 33.109375 54.59375 39.796875 62.203125 \nz\n\" id=\"ArialMT-55\"/>\n       </defs>\n       <use xlink:href=\"#ArialMT-55\"/>\n       <use x=\"55.615234\" xlink:href=\"#ArialMT-53\"/>\n       <use x=\"111.230469\" xlink:href=\"#ArialMT-48\"/>\n       <use x=\"166.845703\" xlink:href=\"#ArialMT-48\"/>\n      </g>\n     </g>\n    </g>\n    <g id=\"ytick_5\">\n     <g id=\"line2d_5\">\n      <path clip-path=\"url(#p8aa6dae605)\" d=\"M 62.259531 164.033987 \nL 508.659531 164.033987 \n\" style=\"fill:none;stroke:#ffffff;stroke-linecap:round;\"/>\n     </g>\n     <g id=\"text_11\">\n      <!-- 10000 -->\n      <g style=\"fill:#262626;\" transform=\"translate(22.174375 167.970784)scale(0.11 -0.11)\">\n       <defs>\n        <path d=\"M 37.25 0 \nL 28.46875 0 \nL 28.46875 56 \nQ 25.296875 52.984375 20.140625 49.953125 \nQ 14.984375 46.921875 10.890625 45.40625 \nL 10.890625 53.90625 \nQ 18.265625 57.375 23.78125 62.296875 \nQ 29.296875 67.234375 31.59375 71.875 \nL 37.25 71.875 \nz\n\" id=\"ArialMT-49\"/>\n       </defs>\n       <use xlink:href=\"#ArialMT-49\"/>\n       <use x=\"55.615234\" xlink:href=\"#ArialMT-48\"/>\n       <use x=\"111.230469\" xlink:href=\"#ArialMT-48\"/>\n       <use x=\"166.845703\" xlink:href=\"#ArialMT-48\"/>\n       <use x=\"222.460938\" xlink:href=\"#ArialMT-48\"/>\n      </g>\n     </g>\n    </g>\n    <g id=\"ytick_6\">\n     <g id=\"line2d_6\">\n      <path clip-path=\"url(#p8aa6dae605)\" d=\"M 62.259531 121.702483 \nL 508.659531 121.702483 \n\" style=\"fill:none;stroke:#ffffff;stroke-linecap:round;\"/>\n     </g>\n     <g id=\"text_12\">\n      <!-- 12500 -->\n      <g style=\"fill:#262626;\" transform=\"translate(22.174375 125.63928)scale(0.11 -0.11)\">\n       <use xlink:href=\"#ArialMT-49\"/>\n       <use x=\"55.615234\" xlink:href=\"#ArialMT-50\"/>\n       <use x=\"111.230469\" xlink:href=\"#ArialMT-53\"/>\n       <use x=\"166.845703\" xlink:href=\"#ArialMT-48\"/>\n       <use x=\"222.460938\" xlink:href=\"#ArialMT-48\"/>\n      </g>\n     </g>\n    </g>\n    <g id=\"ytick_7\">\n     <g id=\"line2d_7\">\n      <path clip-path=\"url(#p8aa6dae605)\" d=\"M 62.259531 79.37098 \nL 508.659531 79.37098 \n\" style=\"fill:none;stroke:#ffffff;stroke-linecap:round;\"/>\n     </g>\n     <g id=\"text_13\">\n      <!-- 15000 -->\n      <g style=\"fill:#262626;\" transform=\"translate(22.174375 83.307777)scale(0.11 -0.11)\">\n       <use xlink:href=\"#ArialMT-49\"/>\n       <use x=\"55.615234\" xlink:href=\"#ArialMT-53\"/>\n       <use x=\"111.230469\" xlink:href=\"#ArialMT-48\"/>\n       <use x=\"166.845703\" xlink:href=\"#ArialMT-48\"/>\n       <use x=\"222.460938\" xlink:href=\"#ArialMT-48\"/>\n      </g>\n     </g>\n    </g>\n    <g id=\"ytick_8\">\n     <g id=\"line2d_8\">\n      <path clip-path=\"url(#p8aa6dae605)\" d=\"M 62.259531 37.039477 \nL 508.659531 37.039477 \n\" style=\"fill:none;stroke:#ffffff;stroke-linecap:round;\"/>\n     </g>\n     <g id=\"text_14\">\n      <!-- 17500 -->\n      <g style=\"fill:#262626;\" transform=\"translate(22.174375 40.976274)scale(0.11 -0.11)\">\n       <use xlink:href=\"#ArialMT-49\"/>\n       <use x=\"55.615234\" xlink:href=\"#ArialMT-55\"/>\n       <use x=\"111.230469\" xlink:href=\"#ArialMT-53\"/>\n       <use x=\"166.845703\" xlink:href=\"#ArialMT-48\"/>\n       <use x=\"222.460938\" xlink:href=\"#ArialMT-48\"/>\n      </g>\n     </g>\n    </g>\n    <g id=\"text_15\">\n     <!-- count -->\n     <g style=\"fill:#262626;\" transform=\"translate(15.789375 184.956562)rotate(-90)scale(0.12 -0.12)\">\n      <use xlink:href=\"#ArialMT-99\"/>\n      <use x=\"50\" xlink:href=\"#ArialMT-111\"/>\n      <use x=\"105.615234\" xlink:href=\"#ArialMT-117\"/>\n      <use x=\"161.230469\" xlink:href=\"#ArialMT-110\"/>\n      <use x=\"216.845703\" xlink:href=\"#ArialMT-116\"/>\n     </g>\n    </g>\n   </g>\n   <g id=\"patch_3\">\n    <path clip-path=\"url(#p8aa6dae605)\" d=\"M 71.187531 333.36 \nL 142.611531 333.36 \nL 142.611531 183.862063 \nL 71.187531 183.862063 \nz\n\" style=\"fill:#5875a4;stroke:#ffffff;stroke-linejoin:miter;\"/>\n   </g>\n   <g id=\"patch_4\">\n    <path clip-path=\"url(#p8aa6dae605)\" d=\"M 160.467531 333.36 \nL 231.891531 333.36 \nL 231.891531 153.332583 \nL 160.467531 153.332583 \nz\n\" style=\"fill:#cc8963;stroke:#ffffff;stroke-linejoin:miter;\"/>\n   </g>\n   <g id=\"patch_5\">\n    <path clip-path=\"url(#p8aa6dae605)\" d=\"M 249.747531 333.36 \nL 321.171531 333.36 \nL 321.171531 22.731429 \nL 249.747531 22.731429 \nz\n\" style=\"fill:#5f9e6e;stroke:#ffffff;stroke-linejoin:miter;\"/>\n   </g>\n   <g id=\"patch_6\">\n    <path clip-path=\"url(#p8aa6dae605)\" d=\"M 339.027531 333.36 \nL 410.451531 333.36 \nL 410.451531 227.175657 \nL 339.027531 227.175657 \nz\n\" style=\"fill:#b55d60;stroke:#ffffff;stroke-linejoin:miter;\"/>\n   </g>\n   <g id=\"patch_7\">\n    <path clip-path=\"url(#p8aa6dae605)\" d=\"M 428.307531 333.36 \nL 499.731531 333.36 \nL 499.731531 111.424394 \nL 428.307531 111.424394 \nz\n\" style=\"fill:#857aab;stroke:#ffffff;stroke-linejoin:miter;\"/>\n   </g>\n   <g id=\"patch_8\">\n    <path d=\"M 62.259531 333.36 \nL 62.259531 7.2 \n\" style=\"fill:none;stroke:#ffffff;stroke-linecap:square;stroke-linejoin:miter;stroke-width:1.25;\"/>\n   </g>\n   <g id=\"patch_9\">\n    <path d=\"M 508.659531 333.36 \nL 508.659531 7.2 \n\" style=\"fill:none;stroke:#ffffff;stroke-linecap:square;stroke-linejoin:miter;stroke-width:1.25;\"/>\n   </g>\n   <g id=\"patch_10\">\n    <path d=\"M 62.259531 333.36 \nL 508.659531 333.36 \n\" style=\"fill:none;stroke:#ffffff;stroke-linecap:square;stroke-linejoin:miter;stroke-width:1.25;\"/>\n   </g>\n   <g id=\"patch_11\">\n    <path d=\"M 62.259531 7.2 \nL 508.659531 7.2 \n\" style=\"fill:none;stroke:#ffffff;stroke-linecap:square;stroke-linejoin:miter;stroke-width:1.25;\"/>\n   </g>\n  </g>\n </g>\n <defs>\n  <clipPath id=\"p8aa6dae605\">\n   <rect height=\"326.16\" width=\"446.4\" x=\"62.259531\" y=\"7.2\"/>\n  </clipPath>\n </defs>\n</svg>\n",
      "image/png": "[encoded data removed]"
     },
     "metadata": {}
    }
   ],
   "source": [
    "plt.figure(figsize=(8, 6), dpi=100)\n",
    "sns.countplot(x='emotion', data=df)\n",
    "plt.show()"
   ]
  },
  {
   "cell_type": "code",
   "execution_count": 21,
   "metadata": {},
   "outputs": [
    {
     "output_type": "execute_result",
     "data": {
      "text/plain": [
       "emotion\n",
       "anger/hate                8829\n",
       "constructive feedback    10632\n",
       "disgust                   6271\n",
       "joy                      13107\n",
       "love                     18345\n",
       "Name: text, dtype: int64"
      ]
     },
     "metadata": {},
     "execution_count": 21
    }
   ],
   "source": [
    "df.groupby('emotion').count().text"
   ]
  },
  {
   "source": [
    "### Now same thing with love label"
   ],
   "cell_type": "markdown",
   "metadata": {}
  },
  {
   "cell_type": "code",
   "execution_count": 22,
   "metadata": {},
   "outputs": [
    {
     "output_type": "execute_result",
     "data": {
      "text/plain": [
       "                        id                 date             user  \\\n",
       "0      1348669486514249730  2021-01-11 16:33:57         Zaquawn5   \n",
       "1      1348662117495312385  2021-01-11 16:04:40  AniruddhaBhakti   \n",
       "2      1348660886723055622  2021-01-11 15:59:46    cheesybreadaj   \n",
       "3      1348652024657833984  2021-01-11 15:24:34         RepetApp   \n",
       "4      1348648574007926785  2021-01-11 15:10:51    Flora34574173   \n",
       "...                    ...                  ...              ...   \n",
       "18340  1347955849214398464  2021-01-09 17:18:12   provivirpanama   \n",
       "18341  1348056106661150721  2021-01-09 23:56:36  Ricardo20417711   \n",
       "18342  1348510377554882560  2021-01-11 06:01:42          ImFeet1   \n",
       "18343  1347967649003790337  2021-01-09 18:05:06  JBCookieCutters   \n",
       "18344  1348607490280181763  2021-01-11 12:27:36    SevenShepherd   \n",
       "\n",
       "                                                    text     emotion  \n",
       "0      Me angrily drawing something (sorry it doesn’t...  anger/hate  \n",
       "1      Sadguru Shree Aniruddha explains how one shoul...  anger/hate  \n",
       "2      hayden stop looking at my social media i am #a...  anger/hate  \n",
       "3      Damn, my gf calls me by name 😨😱\\n\\n#damn #mygi...  anger/hate  \n",
       "4      It is not within everybody's power to be #angr...  anger/hate  \n",
       "...                                                  ...         ...  \n",
       "18340  #panama #pty #panamacity #507 #travel #venezue...        love  \n",
       "18341  Chalk artist https://t.co/y6TgOMCf8s via @YouT...        love  \n",
       "18342  @XXL Please subscribe to my @YouTube\\nfollow m...        love  \n",
       "18343  I Love You 263-090 Latte Art Stencil now avail...        love  \n",
       "18344  \"Jesus saith unto him, Thou hast said: neverth...        love  \n",
       "\n",
       "[52184 rows x 5 columns]"
      ],
      "text/html": "<div>\n<style scoped>\n    .dataframe tbody tr th:only-of-type {\n        vertical-align: middle;\n    }\n\n    .dataframe tbody tr th {\n        vertical-align: top;\n    }\n\n    .dataframe thead th {\n        text-align: right;\n    }\n</style>\n<table border=\"1\" class=\"dataframe\">\n  <thead>\n    <tr style=\"text-align: right;\">\n      <th></th>\n      <th>id</th>\n      <th>date</th>\n      <th>user</th>\n      <th>text</th>\n      <th>emotion</th>\n    </tr>\n  </thead>\n  <tbody>\n    <tr>\n      <th>0</th>\n      <td>1348669486514249730</td>\n      <td>2021-01-11 16:33:57</td>\n      <td>Zaquawn5</td>\n      <td>Me angrily drawing something (sorry it doesn’t...</td>\n      <td>anger/hate</td>\n    </tr>\n    <tr>\n      <th>1</th>\n      <td>1348662117495312385</td>\n      <td>2021-01-11 16:04:40</td>\n      <td>AniruddhaBhakti</td>\n      <td>Sadguru Shree Aniruddha explains how one shoul...</td>\n      <td>anger/hate</td>\n    </tr>\n    <tr>\n      <th>2</th>\n      <td>1348660886723055622</td>\n      <td>2021-01-11 15:59:46</td>\n      <td>cheesybreadaj</td>\n      <td>hayden stop looking at my social media i am #a...</td>\n      <td>anger/hate</td>\n    </tr>\n    <tr>\n      <th>3</th>\n      <td>1348652024657833984</td>\n      <td>2021-01-11 15:24:34</td>\n      <td>RepetApp</td>\n      <td>Damn, my gf calls me by name 😨😱\\n\\n#damn #mygi...</td>\n      <td>anger/hate</td>\n    </tr>\n    <tr>\n      <th>4</th>\n      <td>1348648574007926785</td>\n      <td>2021-01-11 15:10:51</td>\n      <td>Flora34574173</td>\n      <td>It is not within everybody's power to be #angr...</td>\n      <td>anger/hate</td>\n    </tr>\n    <tr>\n      <th>...</th>\n      <td>...</td>\n      <td>...</td>\n      <td>...</td>\n      <td>...</td>\n      <td>...</td>\n    </tr>\n    <tr>\n      <th>18340</th>\n      <td>1347955849214398464</td>\n      <td>2021-01-09 17:18:12</td>\n      <td>provivirpanama</td>\n      <td>#panama #pty #panamacity #507 #travel #venezue...</td>\n      <td>love</td>\n    </tr>\n    <tr>\n      <th>18341</th>\n      <td>1348056106661150721</td>\n      <td>2021-01-09 23:56:36</td>\n      <td>Ricardo20417711</td>\n      <td>Chalk artist https://t.co/y6TgOMCf8s via @YouT...</td>\n      <td>love</td>\n    </tr>\n    <tr>\n      <th>18342</th>\n      <td>1348510377554882560</td>\n      <td>2021-01-11 06:01:42</td>\n      <td>ImFeet1</td>\n      <td>@XXL Please subscribe to my @YouTube\\nfollow m...</td>\n      <td>love</td>\n    </tr>\n    <tr>\n      <th>18343</th>\n      <td>1347967649003790337</td>\n      <td>2021-01-09 18:05:06</td>\n      <td>JBCookieCutters</td>\n      <td>I Love You 263-090 Latte Art Stencil now avail...</td>\n      <td>love</td>\n    </tr>\n    <tr>\n      <th>18344</th>\n      <td>1348607490280181763</td>\n      <td>2021-01-11 12:27:36</td>\n      <td>SevenShepherd</td>\n      <td>\"Jesus saith unto him, Thou hast said: neverth...</td>\n      <td>love</td>\n    </tr>\n  </tbody>\n</table>\n<p>52184 rows × 5 columns</p>\n</div>"
     },
     "metadata": {},
     "execution_count": 22
    }
   ],
   "source": [
    "# Create love dataset\n",
    "love_df = df[df['emotion'] == 'love']\n",
    "\n",
    "# Shuffle dataset\n",
    "love_df = love_df.sample(frac=1).reset_index(drop=True)\n",
    "\n",
    "# Remove 5000 examples from joy dataset\n",
    "love_df = love_df[5000:]\n",
    "\n",
    "# Remove joy from original df\n",
    "df = df[df['emotion'] != 'love']\n",
    "\n",
    "# Add new joy df to original df\n",
    "df = pd.concat([df, love_df])\n",
    "\n",
    "df"
   ]
  },
  {
   "cell_type": "code",
   "execution_count": 23,
   "metadata": {},
   "outputs": [
    {
     "output_type": "display_data",
     "data": {
      "text/plain": "<Figure size 800x600 with 1 Axes>",
      "image/svg+xml": "<?xml version=\"1.0\" encoding=\"utf-8\" standalone=\"no\"?>\n<!DOCTYPE svg PUBLIC \"-//W3C//DTD SVG 1.1//EN\"\n  \"http://www.w3.org/Graphics/SVG/1.1/DTD/svg11.dtd\">\n<!-- Created with matplotlib (https://matplotlib.org/) -->\n<svg height=\"379.008844pt\" version=\"1.1\" viewBox=\"0 0 515.859531 379.008844\" width=\"515.859531pt\" xmlns=\"http://www.w3.org/2000/svg\" xmlns:xlink=\"http://www.w3.org/1999/xlink\">\n <metadata>\n  <rdf:RDF xmlns:cc=\"http://creativecommons.org/ns#\" xmlns:dc=\"http://purl.org/dc/elements/1.1/\" xmlns:rdf=\"http://www.w3.org/1999/02/22-rdf-syntax-ns#\">\n   <cc:Work>\n    <dc:type rdf:resource=\"http://purl.org/dc/dcmitype/StillImage\"/>\n    <dc:date>2021-01-12T18:58:58.742818</dc:date>\n    <dc:format>image/svg+xml</dc:format>\n    <dc:creator>\n     <cc:Agent>\n      <dc:title>Matplotlib v3.3.2, https://matplotlib.org/</dc:title>\n     </cc:Agent>\n    </dc:creator>\n   </cc:Work>\n  </rdf:RDF>\n </metadata>\n <defs>\n  <style type=\"text/css\">*{stroke-linecap:butt;stroke-linejoin:round;}</style>\n </defs>\n <g id=\"figure_1\">\n  <g id=\"patch_1\">\n   <path d=\"M 0 379.008844 \nL 515.859531 379.008844 \nL 515.859531 0 \nL 0 0 \nz\n\" style=\"fill:#ffffff;\"/>\n  </g>\n  <g id=\"axes_1\">\n   <g id=\"patch_2\">\n    <path d=\"M 62.259531 337.011656 \nL 508.659531 337.011656 \nL 508.659531 10.851656 \nL 62.259531 10.851656 \nz\n\" style=\"fill:#eaeaf2;\"/>\n   </g>\n   <g id=\"matplotlib.axis_1\">\n    <g id=\"xtick_1\">\n     <g id=\"text_1\">\n      <!-- anger/hate -->\n      <g style=\"fill:#262626;\" transform=\"translate(80.602656 354.519313)scale(0.11 -0.11)\">\n       <defs>\n        <path d=\"M 40.4375 6.390625 \nQ 35.546875 2.25 31.03125 0.53125 \nQ 26.515625 -1.171875 21.34375 -1.171875 \nQ 12.796875 -1.171875 8.203125 3 \nQ 3.609375 7.171875 3.609375 13.671875 \nQ 3.609375 17.484375 5.34375 20.625 \nQ 7.078125 23.78125 9.890625 25.6875 \nQ 12.703125 27.59375 16.21875 28.5625 \nQ 18.796875 29.25 24.03125 29.890625 \nQ 34.671875 31.15625 39.703125 32.90625 \nQ 39.75 34.71875 39.75 35.203125 \nQ 39.75 40.578125 37.25 42.78125 \nQ 33.890625 45.75 27.25 45.75 \nQ 21.046875 45.75 18.09375 43.578125 \nQ 15.140625 41.40625 13.71875 35.890625 \nL 5.125 37.0625 \nQ 6.296875 42.578125 8.984375 45.96875 \nQ 11.671875 49.359375 16.75 51.1875 \nQ 21.828125 53.03125 28.515625 53.03125 \nQ 35.15625 53.03125 39.296875 51.46875 \nQ 43.453125 49.90625 45.40625 47.53125 \nQ 47.359375 45.171875 48.140625 41.546875 \nQ 48.578125 39.3125 48.578125 33.453125 \nL 48.578125 21.734375 \nQ 48.578125 9.46875 49.140625 6.21875 \nQ 49.703125 2.984375 51.375 0 \nL 42.1875 0 \nQ 40.828125 2.734375 40.4375 6.390625 \nz\nM 39.703125 26.03125 \nQ 34.90625 24.078125 25.34375 22.703125 \nQ 19.921875 21.921875 17.671875 20.9375 \nQ 15.4375 19.96875 14.203125 18.09375 \nQ 12.984375 16.21875 12.984375 13.921875 \nQ 12.984375 10.40625 15.640625 8.0625 \nQ 18.3125 5.71875 23.4375 5.71875 \nQ 28.515625 5.71875 32.46875 7.9375 \nQ 36.421875 10.15625 38.28125 14.015625 \nQ 39.703125 17 39.703125 22.796875 \nz\n\" id=\"ArialMT-97\"/>\n        <path d=\"M 6.59375 0 \nL 6.59375 51.859375 \nL 14.5 51.859375 \nL 14.5 44.484375 \nQ 20.21875 53.03125 31 53.03125 \nQ 35.6875 53.03125 39.625 51.34375 \nQ 43.5625 49.65625 45.515625 46.921875 \nQ 47.46875 44.1875 48.25 40.4375 \nQ 48.734375 37.984375 48.734375 31.890625 \nL 48.734375 0 \nL 39.9375 0 \nL 39.9375 31.546875 \nQ 39.9375 36.921875 38.90625 39.578125 \nQ 37.890625 42.234375 35.28125 43.8125 \nQ 32.671875 45.40625 29.15625 45.40625 \nQ 23.53125 45.40625 19.453125 41.84375 \nQ 15.375 38.28125 15.375 28.328125 \nL 15.375 0 \nz\n\" id=\"ArialMT-110\"/>\n        <path d=\"M 4.984375 -4.296875 \nL 13.53125 -5.5625 \nQ 14.0625 -9.515625 16.5 -11.328125 \nQ 19.78125 -13.765625 25.4375 -13.765625 \nQ 31.546875 -13.765625 34.859375 -11.328125 \nQ 38.1875 -8.890625 39.359375 -4.5 \nQ 40.046875 -1.8125 39.984375 6.78125 \nQ 34.234375 0 25.640625 0 \nQ 14.9375 0 9.078125 7.71875 \nQ 3.21875 15.4375 3.21875 26.21875 \nQ 3.21875 33.640625 5.90625 39.90625 \nQ 8.59375 46.1875 13.6875 49.609375 \nQ 18.796875 53.03125 25.6875 53.03125 \nQ 34.859375 53.03125 40.828125 45.609375 \nL 40.828125 51.859375 \nL 48.921875 51.859375 \nL 48.921875 7.03125 \nQ 48.921875 -5.078125 46.453125 -10.125 \nQ 44 -15.1875 38.640625 -18.109375 \nQ 33.296875 -21.046875 25.484375 -21.046875 \nQ 16.21875 -21.046875 10.5 -16.875 \nQ 4.78125 -12.703125 4.984375 -4.296875 \nz\nM 12.25 26.859375 \nQ 12.25 16.65625 16.296875 11.96875 \nQ 20.359375 7.28125 26.46875 7.28125 \nQ 32.515625 7.28125 36.609375 11.9375 \nQ 40.71875 16.609375 40.71875 26.5625 \nQ 40.71875 36.078125 36.5 40.90625 \nQ 32.28125 45.75 26.3125 45.75 \nQ 20.453125 45.75 16.34375 40.984375 \nQ 12.25 36.234375 12.25 26.859375 \nz\n\" id=\"ArialMT-103\"/>\n        <path d=\"M 42.09375 16.703125 \nL 51.171875 15.578125 \nQ 49.03125 7.625 43.21875 3.21875 \nQ 37.40625 -1.171875 28.375 -1.171875 \nQ 17 -1.171875 10.328125 5.828125 \nQ 3.65625 12.84375 3.65625 25.484375 \nQ 3.65625 38.578125 10.390625 45.796875 \nQ 17.140625 53.03125 27.875 53.03125 \nQ 38.28125 53.03125 44.875 45.953125 \nQ 51.46875 38.875 51.46875 26.03125 \nQ 51.46875 25.25 51.421875 23.6875 \nL 12.75 23.6875 \nQ 13.234375 15.140625 17.578125 10.59375 \nQ 21.921875 6.0625 28.421875 6.0625 \nQ 33.25 6.0625 36.671875 8.59375 \nQ 40.09375 11.140625 42.09375 16.703125 \nz\nM 13.234375 30.90625 \nL 42.1875 30.90625 \nQ 41.609375 37.453125 38.875 40.71875 \nQ 34.671875 45.796875 27.984375 45.796875 \nQ 21.921875 45.796875 17.796875 41.75 \nQ 13.671875 37.703125 13.234375 30.90625 \nz\n\" id=\"ArialMT-101\"/>\n        <path d=\"M 6.5 0 \nL 6.5 51.859375 \nL 14.40625 51.859375 \nL 14.40625 44 \nQ 17.4375 49.515625 20 51.265625 \nQ 22.5625 53.03125 25.640625 53.03125 \nQ 30.078125 53.03125 34.671875 50.203125 \nL 31.640625 42.046875 \nQ 28.421875 43.953125 25.203125 43.953125 \nQ 22.3125 43.953125 20.015625 42.21875 \nQ 17.71875 40.484375 16.75 37.40625 \nQ 15.28125 32.71875 15.28125 27.15625 \nL 15.28125 0 \nz\n\" id=\"ArialMT-114\"/>\n        <path d=\"M 0 -1.21875 \nL 20.75 72.796875 \nL 27.78125 72.796875 \nL 7.078125 -1.21875 \nz\n\" id=\"ArialMT-47\"/>\n        <path d=\"M 6.59375 0 \nL 6.59375 71.578125 \nL 15.375 71.578125 \nL 15.375 45.90625 \nQ 21.53125 53.03125 30.90625 53.03125 \nQ 36.671875 53.03125 40.921875 50.75 \nQ 45.171875 48.484375 47 44.484375 \nQ 48.828125 40.484375 48.828125 32.859375 \nL 48.828125 0 \nL 40.046875 0 \nL 40.046875 32.859375 \nQ 40.046875 39.453125 37.1875 42.453125 \nQ 34.328125 45.453125 29.109375 45.453125 \nQ 25.203125 45.453125 21.75 43.421875 \nQ 18.3125 41.40625 16.84375 37.9375 \nQ 15.375 34.46875 15.375 28.375 \nL 15.375 0 \nz\n\" id=\"ArialMT-104\"/>\n        <path d=\"M 25.78125 7.859375 \nL 27.046875 0.09375 \nQ 23.34375 -0.6875 20.40625 -0.6875 \nQ 15.625 -0.6875 12.984375 0.828125 \nQ 10.359375 2.34375 9.28125 4.8125 \nQ 8.203125 7.28125 8.203125 15.1875 \nL 8.203125 45.015625 \nL 1.765625 45.015625 \nL 1.765625 51.859375 \nL 8.203125 51.859375 \nL 8.203125 64.703125 \nL 16.9375 69.96875 \nL 16.9375 51.859375 \nL 25.78125 51.859375 \nL 25.78125 45.015625 \nL 16.9375 45.015625 \nL 16.9375 14.703125 \nQ 16.9375 10.9375 17.40625 9.859375 \nQ 17.875 8.796875 18.921875 8.15625 \nQ 19.96875 7.515625 21.921875 7.515625 \nQ 23.390625 7.515625 25.78125 7.859375 \nz\n\" id=\"ArialMT-116\"/>\n       </defs>\n       <use xlink:href=\"#ArialMT-97\"/>\n       <use x=\"55.615234\" xlink:href=\"#ArialMT-110\"/>\n       <use x=\"111.230469\" xlink:href=\"#ArialMT-103\"/>\n       <use x=\"166.845703\" xlink:href=\"#ArialMT-101\"/>\n       <use x=\"222.460938\" xlink:href=\"#ArialMT-114\"/>\n       <use x=\"255.761719\" xlink:href=\"#ArialMT-47\"/>\n       <use x=\"283.544922\" xlink:href=\"#ArialMT-104\"/>\n       <use x=\"339.160156\" xlink:href=\"#ArialMT-97\"/>\n       <use x=\"394.775391\" xlink:href=\"#ArialMT-116\"/>\n       <use x=\"422.558594\" xlink:href=\"#ArialMT-101\"/>\n      </g>\n     </g>\n    </g>\n    <g id=\"xtick_2\">\n     <g id=\"text_2\">\n      <!-- constructive feedback -->\n      <g style=\"fill:#262626;\" transform=\"translate(142.987656 354.38525)scale(0.11 -0.11)\">\n       <defs>\n        <path d=\"M 40.4375 19 \nL 49.078125 17.875 \nQ 47.65625 8.9375 41.8125 3.875 \nQ 35.984375 -1.171875 27.484375 -1.171875 \nQ 16.84375 -1.171875 10.375 5.78125 \nQ 3.90625 12.75 3.90625 25.734375 \nQ 3.90625 34.125 6.6875 40.421875 \nQ 9.46875 46.734375 15.15625 49.875 \nQ 20.84375 53.03125 27.546875 53.03125 \nQ 35.984375 53.03125 41.359375 48.75 \nQ 46.734375 44.484375 48.25 36.625 \nL 39.703125 35.296875 \nQ 38.484375 40.53125 35.375 43.15625 \nQ 32.28125 45.796875 27.875 45.796875 \nQ 21.234375 45.796875 17.078125 41.03125 \nQ 12.9375 36.28125 12.9375 25.984375 \nQ 12.9375 15.53125 16.9375 10.796875 \nQ 20.953125 6.0625 27.390625 6.0625 \nQ 32.5625 6.0625 36.03125 9.234375 \nQ 39.5 12.40625 40.4375 19 \nz\n\" id=\"ArialMT-99\"/>\n        <path d=\"M 3.328125 25.921875 \nQ 3.328125 40.328125 11.328125 47.265625 \nQ 18.015625 53.03125 27.640625 53.03125 \nQ 38.328125 53.03125 45.109375 46.015625 \nQ 51.90625 39.015625 51.90625 26.65625 \nQ 51.90625 16.65625 48.90625 10.90625 \nQ 45.90625 5.171875 40.15625 2 \nQ 34.421875 -1.171875 27.640625 -1.171875 \nQ 16.75 -1.171875 10.03125 5.8125 \nQ 3.328125 12.796875 3.328125 25.921875 \nz\nM 12.359375 25.921875 \nQ 12.359375 15.96875 16.703125 11.015625 \nQ 21.046875 6.0625 27.640625 6.0625 \nQ 34.1875 6.0625 38.53125 11.03125 \nQ 42.875 16.015625 42.875 26.21875 \nQ 42.875 35.84375 38.5 40.796875 \nQ 34.125 45.75 27.640625 45.75 \nQ 21.046875 45.75 16.703125 40.8125 \nQ 12.359375 35.890625 12.359375 25.921875 \nz\n\" id=\"ArialMT-111\"/>\n        <path d=\"M 3.078125 15.484375 \nL 11.765625 16.84375 \nQ 12.5 11.625 15.84375 8.84375 \nQ 19.1875 6.0625 25.203125 6.0625 \nQ 31.25 6.0625 34.171875 8.515625 \nQ 37.109375 10.984375 37.109375 14.3125 \nQ 37.109375 17.28125 34.515625 19 \nQ 32.71875 20.171875 25.53125 21.96875 \nQ 15.875 24.421875 12.140625 26.203125 \nQ 8.40625 27.984375 6.46875 31.125 \nQ 4.546875 34.28125 4.546875 38.09375 \nQ 4.546875 41.546875 6.125 44.5 \nQ 7.71875 47.46875 10.453125 49.421875 \nQ 12.5 50.921875 16.03125 51.96875 \nQ 19.578125 53.03125 23.640625 53.03125 \nQ 29.734375 53.03125 34.34375 51.265625 \nQ 38.96875 49.515625 41.15625 46.5 \nQ 43.359375 43.5 44.1875 38.484375 \nL 35.59375 37.3125 \nQ 35.015625 41.3125 32.203125 43.546875 \nQ 29.390625 45.796875 24.265625 45.796875 \nQ 18.21875 45.796875 15.625 43.796875 \nQ 13.03125 41.796875 13.03125 39.109375 \nQ 13.03125 37.40625 14.109375 36.03125 \nQ 15.1875 34.625 17.484375 33.6875 \nQ 18.796875 33.203125 25.25 31.453125 \nQ 34.578125 28.953125 38.25 27.359375 \nQ 41.9375 25.78125 44.03125 22.75 \nQ 46.140625 19.734375 46.140625 15.234375 \nQ 46.140625 10.84375 43.578125 6.953125 \nQ 41.015625 3.078125 36.171875 0.953125 \nQ 31.34375 -1.171875 25.25 -1.171875 \nQ 15.140625 -1.171875 9.84375 3.03125 \nQ 4.546875 7.234375 3.078125 15.484375 \nz\n\" id=\"ArialMT-115\"/>\n        <path d=\"M 40.578125 0 \nL 40.578125 7.625 \nQ 34.515625 -1.171875 24.125 -1.171875 \nQ 19.53125 -1.171875 15.546875 0.578125 \nQ 11.578125 2.34375 9.640625 5 \nQ 7.71875 7.671875 6.9375 11.53125 \nQ 6.390625 14.109375 6.390625 19.734375 \nL 6.390625 51.859375 \nL 15.1875 51.859375 \nL 15.1875 23.09375 \nQ 15.1875 16.21875 15.71875 13.8125 \nQ 16.546875 10.359375 19.234375 8.375 \nQ 21.921875 6.390625 25.875 6.390625 \nQ 29.828125 6.390625 33.296875 8.421875 \nQ 36.765625 10.453125 38.203125 13.9375 \nQ 39.65625 17.4375 39.65625 24.078125 \nL 39.65625 51.859375 \nL 48.4375 51.859375 \nL 48.4375 0 \nz\n\" id=\"ArialMT-117\"/>\n        <path d=\"M 6.640625 61.46875 \nL 6.640625 71.578125 \nL 15.4375 71.578125 \nL 15.4375 61.46875 \nz\nM 6.640625 0 \nL 6.640625 51.859375 \nL 15.4375 51.859375 \nL 15.4375 0 \nz\n\" id=\"ArialMT-105\"/>\n        <path d=\"M 21 0 \nL 1.265625 51.859375 \nL 10.546875 51.859375 \nL 21.6875 20.796875 \nQ 23.484375 15.765625 25 10.359375 \nQ 26.171875 14.453125 28.265625 20.21875 \nL 39.796875 51.859375 \nL 48.828125 51.859375 \nL 29.203125 0 \nz\n\" id=\"ArialMT-118\"/>\n        <path id=\"ArialMT-32\"/>\n        <path d=\"M 8.6875 0 \nL 8.6875 45.015625 \nL 0.921875 45.015625 \nL 0.921875 51.859375 \nL 8.6875 51.859375 \nL 8.6875 57.375 \nQ 8.6875 62.59375 9.625 65.140625 \nQ 10.890625 68.5625 14.078125 70.671875 \nQ 17.28125 72.796875 23.046875 72.796875 \nQ 26.765625 72.796875 31.25 71.921875 \nL 29.9375 64.265625 \nQ 27.203125 64.75 24.75 64.75 \nQ 20.75 64.75 19.09375 63.03125 \nQ 17.4375 61.328125 17.4375 56.640625 \nL 17.4375 51.859375 \nL 27.546875 51.859375 \nL 27.546875 45.015625 \nL 17.4375 45.015625 \nL 17.4375 0 \nz\n\" id=\"ArialMT-102\"/>\n        <path d=\"M 40.234375 0 \nL 40.234375 6.546875 \nQ 35.296875 -1.171875 25.734375 -1.171875 \nQ 19.53125 -1.171875 14.328125 2.25 \nQ 9.125 5.671875 6.265625 11.796875 \nQ 3.421875 17.921875 3.421875 25.875 \nQ 3.421875 33.640625 6 39.96875 \nQ 8.59375 46.296875 13.765625 49.65625 \nQ 18.953125 53.03125 25.34375 53.03125 \nQ 30.03125 53.03125 33.6875 51.046875 \nQ 37.359375 49.078125 39.65625 45.90625 \nL 39.65625 71.578125 \nL 48.390625 71.578125 \nL 48.390625 0 \nz\nM 12.453125 25.875 \nQ 12.453125 15.921875 16.640625 10.984375 \nQ 20.84375 6.0625 26.5625 6.0625 \nQ 32.328125 6.0625 36.34375 10.765625 \nQ 40.375 15.484375 40.375 25.140625 \nQ 40.375 35.796875 36.265625 40.765625 \nQ 32.171875 45.75 26.171875 45.75 \nQ 20.3125 45.75 16.375 40.96875 \nQ 12.453125 36.1875 12.453125 25.875 \nz\n\" id=\"ArialMT-100\"/>\n        <path d=\"M 14.703125 0 \nL 6.546875 0 \nL 6.546875 71.578125 \nL 15.328125 71.578125 \nL 15.328125 46.046875 \nQ 20.90625 53.03125 29.546875 53.03125 \nQ 34.328125 53.03125 38.59375 51.09375 \nQ 42.875 49.171875 45.625 45.671875 \nQ 48.390625 42.1875 49.953125 37.25 \nQ 51.515625 32.328125 51.515625 26.703125 \nQ 51.515625 13.375 44.921875 6.09375 \nQ 38.328125 -1.171875 29.109375 -1.171875 \nQ 19.921875 -1.171875 14.703125 6.5 \nz\nM 14.59375 26.3125 \nQ 14.59375 17 17.140625 12.84375 \nQ 21.296875 6.0625 28.375 6.0625 \nQ 34.125 6.0625 38.328125 11.0625 \nQ 42.53125 16.0625 42.53125 25.984375 \nQ 42.53125 36.140625 38.5 40.96875 \nQ 34.46875 45.796875 28.765625 45.796875 \nQ 23 45.796875 18.796875 40.796875 \nQ 14.59375 35.796875 14.59375 26.3125 \nz\n\" id=\"ArialMT-98\"/>\n        <path d=\"M 6.640625 0 \nL 6.640625 71.578125 \nL 15.4375 71.578125 \nL 15.4375 30.765625 \nL 36.234375 51.859375 \nL 47.609375 51.859375 \nL 27.78125 32.625 \nL 49.609375 0 \nL 38.765625 0 \nL 21.625 26.515625 \nL 15.4375 20.5625 \nL 15.4375 0 \nz\n\" id=\"ArialMT-107\"/>\n       </defs>\n       <use xlink:href=\"#ArialMT-99\"/>\n       <use x=\"50\" xlink:href=\"#ArialMT-111\"/>\n       <use x=\"105.615234\" xlink:href=\"#ArialMT-110\"/>\n       <use x=\"161.230469\" xlink:href=\"#ArialMT-115\"/>\n       <use x=\"211.230469\" xlink:href=\"#ArialMT-116\"/>\n       <use x=\"239.013672\" xlink:href=\"#ArialMT-114\"/>\n       <use x=\"272.314453\" xlink:href=\"#ArialMT-117\"/>\n       <use x=\"327.929688\" xlink:href=\"#ArialMT-99\"/>\n       <use x=\"377.929688\" xlink:href=\"#ArialMT-116\"/>\n       <use x=\"405.712891\" xlink:href=\"#ArialMT-105\"/>\n       <use x=\"427.929688\" xlink:href=\"#ArialMT-118\"/>\n       <use x=\"477.929688\" xlink:href=\"#ArialMT-101\"/>\n       <use x=\"533.544922\" xlink:href=\"#ArialMT-32\"/>\n       <use x=\"561.328125\" xlink:href=\"#ArialMT-102\"/>\n       <use x=\"589.111328\" xlink:href=\"#ArialMT-101\"/>\n       <use x=\"644.726562\" xlink:href=\"#ArialMT-101\"/>\n       <use x=\"700.341797\" xlink:href=\"#ArialMT-100\"/>\n       <use x=\"755.957031\" xlink:href=\"#ArialMT-98\"/>\n       <use x=\"811.572266\" xlink:href=\"#ArialMT-97\"/>\n       <use x=\"867.1875\" xlink:href=\"#ArialMT-99\"/>\n       <use x=\"917.1875\" xlink:href=\"#ArialMT-107\"/>\n      </g>\n     </g>\n    </g>\n    <g id=\"xtick_3\">\n     <g id=\"text_3\">\n      <!-- disgust -->\n      <g style=\"fill:#262626;\" transform=\"translate(268.033984 354.38525)scale(0.11 -0.11)\">\n       <use xlink:href=\"#ArialMT-100\"/>\n       <use x=\"55.615234\" xlink:href=\"#ArialMT-105\"/>\n       <use x=\"77.832031\" xlink:href=\"#ArialMT-115\"/>\n       <use x=\"127.832031\" xlink:href=\"#ArialMT-103\"/>\n       <use x=\"183.447266\" xlink:href=\"#ArialMT-117\"/>\n       <use x=\"239.0625\" xlink:href=\"#ArialMT-115\"/>\n       <use x=\"289.0625\" xlink:href=\"#ArialMT-116\"/>\n      </g>\n     </g>\n    </g>\n    <g id=\"xtick_4\">\n     <g id=\"text_4\">\n      <!-- joy -->\n      <g style=\"fill:#262626;\" transform=\"translate(367.708984 354.38525)scale(0.11 -0.11)\">\n       <defs>\n        <path d=\"M 6.546875 61.375 \nL 6.546875 71.578125 \nL 15.328125 71.578125 \nL 15.328125 61.375 \nz\nM -4.59375 -20.125 \nL -2.9375 -12.640625 \nQ -0.296875 -13.328125 1.21875 -13.328125 \nQ 3.90625 -13.328125 5.21875 -11.546875 \nQ 6.546875 -9.765625 6.546875 -2.640625 \nL 6.546875 51.859375 \nL 15.328125 51.859375 \nL 15.328125 -2.828125 \nQ 15.328125 -12.40625 12.84375 -16.15625 \nQ 9.671875 -21.046875 2.296875 -21.046875 \nQ -1.265625 -21.046875 -4.59375 -20.125 \nz\n\" id=\"ArialMT-106\"/>\n        <path d=\"M 6.203125 -19.96875 \nL 5.21875 -11.71875 \nQ 8.109375 -12.5 10.25 -12.5 \nQ 13.1875 -12.5 14.9375 -11.515625 \nQ 16.703125 -10.546875 17.828125 -8.796875 \nQ 18.65625 -7.46875 20.515625 -2.25 \nQ 20.75 -1.515625 21.296875 -0.09375 \nL 1.609375 51.859375 \nL 11.078125 51.859375 \nL 21.875 21.828125 \nQ 23.96875 16.109375 25.640625 9.8125 \nQ 27.15625 15.875 29.25 21.625 \nL 40.328125 51.859375 \nL 49.125 51.859375 \nL 29.390625 -0.875 \nQ 26.21875 -9.421875 24.46875 -12.640625 \nQ 22.125 -17 19.09375 -19.015625 \nQ 16.0625 -21.046875 11.859375 -21.046875 \nQ 9.328125 -21.046875 6.203125 -19.96875 \nz\n\" id=\"ArialMT-121\"/>\n       </defs>\n       <use xlink:href=\"#ArialMT-106\"/>\n       <use x=\"22.216797\" xlink:href=\"#ArialMT-111\"/>\n       <use x=\"77.832031\" xlink:href=\"#ArialMT-121\"/>\n      </g>\n     </g>\n    </g>\n    <g id=\"xtick_5\">\n     <g id=\"text_5\">\n      <!-- love -->\n      <g style=\"fill:#262626;\" transform=\"translate(453.930469 354.38525)scale(0.11 -0.11)\">\n       <defs>\n        <path d=\"M 6.390625 0 \nL 6.390625 71.578125 \nL 15.1875 71.578125 \nL 15.1875 0 \nz\n\" id=\"ArialMT-108\"/>\n       </defs>\n       <use xlink:href=\"#ArialMT-108\"/>\n       <use x=\"22.216797\" xlink:href=\"#ArialMT-111\"/>\n       <use x=\"77.832031\" xlink:href=\"#ArialMT-118\"/>\n       <use x=\"127.832031\" xlink:href=\"#ArialMT-101\"/>\n      </g>\n     </g>\n    </g>\n    <g id=\"text_6\">\n     <!-- emotion -->\n     <g style=\"fill:#262626;\" transform=\"translate(264.115469 369.423844)scale(0.12 -0.12)\">\n      <defs>\n       <path d=\"M 6.59375 0 \nL 6.59375 51.859375 \nL 14.453125 51.859375 \nL 14.453125 44.578125 \nQ 16.890625 48.390625 20.9375 50.703125 \nQ 25 53.03125 30.171875 53.03125 \nQ 35.9375 53.03125 39.625 50.640625 \nQ 43.3125 48.25 44.828125 43.953125 \nQ 50.984375 53.03125 60.84375 53.03125 \nQ 68.5625 53.03125 72.703125 48.75 \nQ 76.859375 44.484375 76.859375 35.59375 \nL 76.859375 0 \nL 68.109375 0 \nL 68.109375 32.671875 \nQ 68.109375 37.9375 67.25 40.25 \nQ 66.40625 42.578125 64.15625 43.984375 \nQ 61.921875 45.40625 58.890625 45.40625 \nQ 53.421875 45.40625 49.796875 41.765625 \nQ 46.1875 38.140625 46.1875 30.125 \nL 46.1875 0 \nL 37.40625 0 \nL 37.40625 33.6875 \nQ 37.40625 39.546875 35.25 42.46875 \nQ 33.109375 45.40625 28.21875 45.40625 \nQ 24.515625 45.40625 21.359375 43.453125 \nQ 18.21875 41.5 16.796875 37.734375 \nQ 15.375 33.984375 15.375 26.90625 \nL 15.375 0 \nz\n\" id=\"ArialMT-109\"/>\n      </defs>\n      <use xlink:href=\"#ArialMT-101\"/>\n      <use x=\"55.615234\" xlink:href=\"#ArialMT-109\"/>\n      <use x=\"138.916016\" xlink:href=\"#ArialMT-111\"/>\n      <use x=\"194.53125\" xlink:href=\"#ArialMT-116\"/>\n      <use x=\"222.314453\" xlink:href=\"#ArialMT-105\"/>\n      <use x=\"244.53125\" xlink:href=\"#ArialMT-111\"/>\n      <use x=\"300.146484\" xlink:href=\"#ArialMT-110\"/>\n     </g>\n    </g>\n   </g>\n   <g id=\"matplotlib.axis_2\">\n    <g id=\"ytick_1\">\n     <g id=\"line2d_1\">\n      <path clip-path=\"url(#p1f183975a9)\" d=\"M 62.259531 337.011656 \nL 508.659531 337.011656 \n\" style=\"fill:none;stroke:#ffffff;stroke-linecap:round;\"/>\n     </g>\n     <g id=\"text_7\">\n      <!-- 0 -->\n      <g style=\"fill:#262626;\" transform=\"translate(46.6425 340.948453)scale(0.11 -0.11)\">\n       <defs>\n        <path d=\"M 4.15625 35.296875 \nQ 4.15625 48 6.765625 55.734375 \nQ 9.375 63.484375 14.515625 67.671875 \nQ 19.671875 71.875 27.484375 71.875 \nQ 33.25 71.875 37.59375 69.546875 \nQ 41.9375 67.234375 44.765625 62.859375 \nQ 47.609375 58.5 49.21875 52.21875 \nQ 50.828125 45.953125 50.828125 35.296875 \nQ 50.828125 22.703125 48.234375 14.96875 \nQ 45.65625 7.234375 40.5 3 \nQ 35.359375 -1.21875 27.484375 -1.21875 \nQ 17.140625 -1.21875 11.234375 6.203125 \nQ 4.15625 15.140625 4.15625 35.296875 \nz\nM 13.1875 35.296875 \nQ 13.1875 17.671875 17.3125 11.828125 \nQ 21.4375 6 27.484375 6 \nQ 33.546875 6 37.671875 11.859375 \nQ 41.796875 17.71875 41.796875 35.296875 \nQ 41.796875 52.984375 37.671875 58.78125 \nQ 33.546875 64.59375 27.390625 64.59375 \nQ 21.34375 64.59375 17.71875 59.46875 \nQ 13.1875 52.9375 13.1875 35.296875 \nz\n\" id=\"ArialMT-48\"/>\n       </defs>\n       <use xlink:href=\"#ArialMT-48\"/>\n      </g>\n     </g>\n    </g>\n    <g id=\"ytick_2\">\n     <g id=\"line2d_2\">\n      <path clip-path=\"url(#p1f183975a9)\" d=\"M 62.259531 290.458105 \nL 508.659531 290.458105 \n\" style=\"fill:none;stroke:#ffffff;stroke-linecap:round;\"/>\n     </g>\n     <g id=\"text_8\">\n      <!-- 2000 -->\n      <g style=\"fill:#262626;\" transform=\"translate(28.291406 294.394902)scale(0.11 -0.11)\">\n       <defs>\n        <path d=\"M 50.34375 8.453125 \nL 50.34375 0 \nL 3.03125 0 \nQ 2.9375 3.171875 4.046875 6.109375 \nQ 5.859375 10.9375 9.828125 15.625 \nQ 13.8125 20.3125 21.34375 26.46875 \nQ 33.015625 36.03125 37.109375 41.625 \nQ 41.21875 47.21875 41.21875 52.203125 \nQ 41.21875 57.421875 37.46875 61 \nQ 33.734375 64.59375 27.734375 64.59375 \nQ 21.390625 64.59375 17.578125 60.78125 \nQ 13.765625 56.984375 13.71875 50.25 \nL 4.6875 51.171875 \nQ 5.609375 61.28125 11.65625 66.578125 \nQ 17.71875 71.875 27.9375 71.875 \nQ 38.234375 71.875 44.234375 66.15625 \nQ 50.25 60.453125 50.25 52 \nQ 50.25 47.703125 48.484375 43.546875 \nQ 46.734375 39.40625 42.65625 34.8125 \nQ 38.578125 30.21875 29.109375 22.21875 \nQ 21.1875 15.578125 18.9375 13.203125 \nQ 16.703125 10.84375 15.234375 8.453125 \nz\n\" id=\"ArialMT-50\"/>\n       </defs>\n       <use xlink:href=\"#ArialMT-50\"/>\n       <use x=\"55.615234\" xlink:href=\"#ArialMT-48\"/>\n       <use x=\"111.230469\" xlink:href=\"#ArialMT-48\"/>\n       <use x=\"166.845703\" xlink:href=\"#ArialMT-48\"/>\n      </g>\n     </g>\n    </g>\n    <g id=\"ytick_3\">\n     <g id=\"line2d_3\">\n      <path clip-path=\"url(#p1f183975a9)\" d=\"M 62.259531 243.904554 \nL 508.659531 243.904554 \n\" style=\"fill:none;stroke:#ffffff;stroke-linecap:round;\"/>\n     </g>\n     <g id=\"text_9\">\n      <!-- 4000 -->\n      <g style=\"fill:#262626;\" transform=\"translate(28.291406 247.841351)scale(0.11 -0.11)\">\n       <defs>\n        <path d=\"M 32.328125 0 \nL 32.328125 17.140625 \nL 1.265625 17.140625 \nL 1.265625 25.203125 \nL 33.9375 71.578125 \nL 41.109375 71.578125 \nL 41.109375 25.203125 \nL 50.78125 25.203125 \nL 50.78125 17.140625 \nL 41.109375 17.140625 \nL 41.109375 0 \nz\nM 32.328125 25.203125 \nL 32.328125 57.46875 \nL 9.90625 25.203125 \nz\n\" id=\"ArialMT-52\"/>\n       </defs>\n       <use xlink:href=\"#ArialMT-52\"/>\n       <use x=\"55.615234\" xlink:href=\"#ArialMT-48\"/>\n       <use x=\"111.230469\" xlink:href=\"#ArialMT-48\"/>\n       <use x=\"166.845703\" xlink:href=\"#ArialMT-48\"/>\n      </g>\n     </g>\n    </g>\n    <g id=\"ytick_4\">\n     <g id=\"line2d_4\">\n      <path clip-path=\"url(#p1f183975a9)\" d=\"M 62.259531 197.351002 \nL 508.659531 197.351002 \n\" style=\"fill:none;stroke:#ffffff;stroke-linecap:round;\"/>\n     </g>\n     <g id=\"text_10\">\n      <!-- 6000 -->\n      <g style=\"fill:#262626;\" transform=\"translate(28.291406 201.287799)scale(0.11 -0.11)\">\n       <defs>\n        <path d=\"M 49.75 54.046875 \nL 41.015625 53.375 \nQ 39.84375 58.546875 37.703125 60.890625 \nQ 34.125 64.65625 28.90625 64.65625 \nQ 24.703125 64.65625 21.53125 62.3125 \nQ 17.390625 59.28125 14.984375 53.46875 \nQ 12.59375 47.65625 12.5 36.921875 \nQ 15.671875 41.75 20.265625 44.09375 \nQ 24.859375 46.4375 29.890625 46.4375 \nQ 38.671875 46.4375 44.84375 39.96875 \nQ 51.03125 33.5 51.03125 23.25 \nQ 51.03125 16.5 48.125 10.71875 \nQ 45.21875 4.9375 40.140625 1.859375 \nQ 35.0625 -1.21875 28.609375 -1.21875 \nQ 17.625 -1.21875 10.6875 6.859375 \nQ 3.765625 14.9375 3.765625 33.5 \nQ 3.765625 54.25 11.421875 63.671875 \nQ 18.109375 71.875 29.4375 71.875 \nQ 37.890625 71.875 43.28125 67.140625 \nQ 48.6875 62.40625 49.75 54.046875 \nz\nM 13.875 23.1875 \nQ 13.875 18.65625 15.796875 14.5 \nQ 17.71875 10.359375 21.1875 8.171875 \nQ 24.65625 6 28.46875 6 \nQ 34.03125 6 38.03125 10.484375 \nQ 42.046875 14.984375 42.046875 22.703125 \nQ 42.046875 30.125 38.078125 34.390625 \nQ 34.125 38.671875 28.125 38.671875 \nQ 22.171875 38.671875 18.015625 34.390625 \nQ 13.875 30.125 13.875 23.1875 \nz\n\" id=\"ArialMT-54\"/>\n       </defs>\n       <use xlink:href=\"#ArialMT-54\"/>\n       <use x=\"55.615234\" xlink:href=\"#ArialMT-48\"/>\n       <use x=\"111.230469\" xlink:href=\"#ArialMT-48\"/>\n       <use x=\"166.845703\" xlink:href=\"#ArialMT-48\"/>\n      </g>\n     </g>\n    </g>\n    <g id=\"ytick_5\">\n     <g id=\"line2d_5\">\n      <path clip-path=\"url(#p1f183975a9)\" d=\"M 62.259531 150.797451 \nL 508.659531 150.797451 \n\" style=\"fill:none;stroke:#ffffff;stroke-linecap:round;\"/>\n     </g>\n     <g id=\"text_11\">\n      <!-- 8000 -->\n      <g style=\"fill:#262626;\" transform=\"translate(28.291406 154.734248)scale(0.11 -0.11)\">\n       <defs>\n        <path d=\"M 17.671875 38.8125 \nQ 12.203125 40.828125 9.5625 44.53125 \nQ 6.9375 48.25 6.9375 53.421875 \nQ 6.9375 61.234375 12.546875 66.546875 \nQ 18.171875 71.875 27.484375 71.875 \nQ 36.859375 71.875 42.578125 66.421875 \nQ 48.296875 60.984375 48.296875 53.171875 \nQ 48.296875 48.1875 45.671875 44.5 \nQ 43.0625 40.828125 37.75 38.8125 \nQ 44.34375 36.671875 47.78125 31.875 \nQ 51.21875 27.09375 51.21875 20.453125 \nQ 51.21875 11.28125 44.71875 5.03125 \nQ 38.234375 -1.21875 27.640625 -1.21875 \nQ 17.046875 -1.21875 10.546875 5.046875 \nQ 4.046875 11.328125 4.046875 20.703125 \nQ 4.046875 27.6875 7.59375 32.390625 \nQ 11.140625 37.109375 17.671875 38.8125 \nz\nM 15.921875 53.71875 \nQ 15.921875 48.640625 19.1875 45.40625 \nQ 22.46875 42.1875 27.6875 42.1875 \nQ 32.765625 42.1875 36.015625 45.375 \nQ 39.265625 48.578125 39.265625 53.21875 \nQ 39.265625 58.0625 35.90625 61.359375 \nQ 32.5625 64.65625 27.59375 64.65625 \nQ 22.5625 64.65625 19.234375 61.421875 \nQ 15.921875 58.203125 15.921875 53.71875 \nz\nM 13.09375 20.65625 \nQ 13.09375 16.890625 14.875 13.375 \nQ 16.65625 9.859375 20.171875 7.921875 \nQ 23.6875 6 27.734375 6 \nQ 34.03125 6 38.125 10.046875 \nQ 42.234375 14.109375 42.234375 20.359375 \nQ 42.234375 26.703125 38.015625 30.859375 \nQ 33.796875 35.015625 27.4375 35.015625 \nQ 21.234375 35.015625 17.15625 30.90625 \nQ 13.09375 26.8125 13.09375 20.65625 \nz\n\" id=\"ArialMT-56\"/>\n       </defs>\n       <use xlink:href=\"#ArialMT-56\"/>\n       <use x=\"55.615234\" xlink:href=\"#ArialMT-48\"/>\n       <use x=\"111.230469\" xlink:href=\"#ArialMT-48\"/>\n       <use x=\"166.845703\" xlink:href=\"#ArialMT-48\"/>\n      </g>\n     </g>\n    </g>\n    <g id=\"ytick_6\">\n     <g id=\"line2d_6\">\n      <path clip-path=\"url(#p1f183975a9)\" d=\"M 62.259531 104.2439 \nL 508.659531 104.2439 \n\" style=\"fill:none;stroke:#ffffff;stroke-linecap:round;\"/>\n     </g>\n     <g id=\"text_12\">\n      <!-- 10000 -->\n      <g style=\"fill:#262626;\" transform=\"translate(22.174375 108.180696)scale(0.11 -0.11)\">\n       <defs>\n        <path d=\"M 37.25 0 \nL 28.46875 0 \nL 28.46875 56 \nQ 25.296875 52.984375 20.140625 49.953125 \nQ 14.984375 46.921875 10.890625 45.40625 \nL 10.890625 53.90625 \nQ 18.265625 57.375 23.78125 62.296875 \nQ 29.296875 67.234375 31.59375 71.875 \nL 37.25 71.875 \nz\n\" id=\"ArialMT-49\"/>\n       </defs>\n       <use xlink:href=\"#ArialMT-49\"/>\n       <use x=\"55.615234\" xlink:href=\"#ArialMT-48\"/>\n       <use x=\"111.230469\" xlink:href=\"#ArialMT-48\"/>\n       <use x=\"166.845703\" xlink:href=\"#ArialMT-48\"/>\n       <use x=\"222.460938\" xlink:href=\"#ArialMT-48\"/>\n      </g>\n     </g>\n    </g>\n    <g id=\"ytick_7\">\n     <g id=\"line2d_7\">\n      <path clip-path=\"url(#p1f183975a9)\" d=\"M 62.259531 57.690348 \nL 508.659531 57.690348 \n\" style=\"fill:none;stroke:#ffffff;stroke-linecap:round;\"/>\n     </g>\n     <g id=\"text_13\">\n      <!-- 12000 -->\n      <g style=\"fill:#262626;\" transform=\"translate(22.174375 61.627145)scale(0.11 -0.11)\">\n       <use xlink:href=\"#ArialMT-49\"/>\n       <use x=\"55.615234\" xlink:href=\"#ArialMT-50\"/>\n       <use x=\"111.230469\" xlink:href=\"#ArialMT-48\"/>\n       <use x=\"166.845703\" xlink:href=\"#ArialMT-48\"/>\n       <use x=\"222.460938\" xlink:href=\"#ArialMT-48\"/>\n      </g>\n     </g>\n    </g>\n    <g id=\"ytick_8\">\n     <g id=\"line2d_8\">\n      <path clip-path=\"url(#p1f183975a9)\" d=\"M 62.259531 11.136797 \nL 508.659531 11.136797 \n\" style=\"fill:none;stroke:#ffffff;stroke-linecap:round;\"/>\n     </g>\n     <g id=\"text_14\">\n      <!-- 14000 -->\n      <g style=\"fill:#262626;\" transform=\"translate(22.174375 15.073594)scale(0.11 -0.11)\">\n       <use xlink:href=\"#ArialMT-49\"/>\n       <use x=\"55.615234\" xlink:href=\"#ArialMT-52\"/>\n       <use x=\"111.230469\" xlink:href=\"#ArialMT-48\"/>\n       <use x=\"166.845703\" xlink:href=\"#ArialMT-48\"/>\n       <use x=\"222.460938\" xlink:href=\"#ArialMT-48\"/>\n      </g>\n     </g>\n    </g>\n    <g id=\"text_15\">\n     <!-- count -->\n     <g style=\"fill:#262626;\" transform=\"translate(15.789375 188.608219)rotate(-90)scale(0.12 -0.12)\">\n      <use xlink:href=\"#ArialMT-99\"/>\n      <use x=\"50\" xlink:href=\"#ArialMT-111\"/>\n      <use x=\"105.615234\" xlink:href=\"#ArialMT-117\"/>\n      <use x=\"161.230469\" xlink:href=\"#ArialMT-110\"/>\n      <use x=\"216.845703\" xlink:href=\"#ArialMT-116\"/>\n     </g>\n    </g>\n   </g>\n   <g id=\"patch_3\">\n    <path clip-path=\"url(#p1f183975a9)\" d=\"M 71.187531 337.011656 \nL 142.611531 337.011656 \nL 142.611531 131.501004 \nL 71.187531 131.501004 \nz\n\" style=\"fill:#5875a4;stroke:#ffffff;stroke-linejoin:miter;\"/>\n   </g>\n   <g id=\"patch_4\">\n    <path clip-path=\"url(#p1f183975a9)\" d=\"M 160.467531 337.011656 \nL 231.891531 337.011656 \nL 231.891531 89.532977 \nL 160.467531 89.532977 \nz\n\" style=\"fill:#cc8963;stroke:#ffffff;stroke-linejoin:miter;\"/>\n   </g>\n   <g id=\"patch_5\">\n    <path clip-path=\"url(#p1f183975a9)\" d=\"M 249.747531 337.011656 \nL 321.171531 337.011656 \nL 321.171531 191.042996 \nL 249.747531 191.042996 \nz\n\" style=\"fill:#5f9e6e;stroke:#ffffff;stroke-linejoin:miter;\"/>\n   </g>\n   <g id=\"patch_6\">\n    <path clip-path=\"url(#p1f183975a9)\" d=\"M 339.027531 337.011656 \nL 410.451531 337.011656 \nL 410.451531 31.922958 \nL 339.027531 31.922958 \nz\n\" style=\"fill:#b55d60;stroke:#ffffff;stroke-linejoin:miter;\"/>\n   </g>\n   <g id=\"patch_7\">\n    <path clip-path=\"url(#p1f183975a9)\" d=\"M 428.307531 337.011656 \nL 499.731531 337.011656 \nL 499.731531 26.383085 \nL 428.307531 26.383085 \nz\n\" style=\"fill:#857aab;stroke:#ffffff;stroke-linejoin:miter;\"/>\n   </g>\n   <g id=\"patch_8\">\n    <path d=\"M 62.259531 337.011656 \nL 62.259531 10.851656 \n\" style=\"fill:none;stroke:#ffffff;stroke-linecap:square;stroke-linejoin:miter;stroke-width:1.25;\"/>\n   </g>\n   <g id=\"patch_9\">\n    <path d=\"M 508.659531 337.011656 \nL 508.659531 10.851656 \n\" style=\"fill:none;stroke:#ffffff;stroke-linecap:square;stroke-linejoin:miter;stroke-width:1.25;\"/>\n   </g>\n   <g id=\"patch_10\">\n    <path d=\"M 62.259531 337.011656 \nL 508.659531 337.011656 \n\" style=\"fill:none;stroke:#ffffff;stroke-linecap:square;stroke-linejoin:miter;stroke-width:1.25;\"/>\n   </g>\n   <g id=\"patch_11\">\n    <path d=\"M 62.259531 10.851656 \nL 508.659531 10.851656 \n\" style=\"fill:none;stroke:#ffffff;stroke-linecap:square;stroke-linejoin:miter;stroke-width:1.25;\"/>\n   </g>\n  </g>\n </g>\n <defs>\n  <clipPath id=\"p1f183975a9\">\n   <rect height=\"326.16\" width=\"446.4\" x=\"62.259531\" y=\"10.851656\"/>\n  </clipPath>\n </defs>\n</svg>\n",
      "image/png": "[encoded data removed]"
     },
     "metadata": {}
    }
   ],
   "source": [
    "plt.figure(figsize=(8, 6), dpi=100)\n",
    "sns.countplot(x='emotion', data=df)\n",
    "plt.show()"
   ]
  },
  {
   "cell_type": "code",
   "execution_count": 24,
   "metadata": {},
   "outputs": [
    {
     "output_type": "execute_result",
     "data": {
      "text/plain": [
       "emotion\n",
       "anger/hate                8829\n",
       "constructive feedback    10632\n",
       "disgust                   6271\n",
       "joy                      13107\n",
       "love                     13345\n",
       "Name: text, dtype: int64"
      ]
     },
     "metadata": {},
     "execution_count": 24
    }
   ],
   "source": [
    "df.groupby('emotion').count().text"
   ]
  },
  {
   "source": [
    "## Explore dataset"
   ],
   "cell_type": "markdown",
   "metadata": {}
  },
  {
   "cell_type": "code",
   "execution_count": 25,
   "metadata": {},
   "outputs": [
    {
     "output_type": "stream",
     "name": "stdout",
     "text": [
      "<class 'pandas.core.frame.DataFrame'>\nInt64Index: 52184 entries, 0 to 18344\nData columns (total 5 columns):\n #   Column   Non-Null Count  Dtype \n---  ------   --------------  ----- \n 0   id       52184 non-null  object\n 1   date     52184 non-null  object\n 2   user     52184 non-null  object\n 3   text     52184 non-null  object\n 4   emotion  52184 non-null  object\ndtypes: object(5)\nmemory usage: 3.6+ MB\n"
     ]
    }
   ],
   "source": [
    "df.info()"
   ]
  },
  {
   "cell_type": "code",
   "execution_count": 26,
   "metadata": {},
   "outputs": [
    {
     "output_type": "execute_result",
     "data": {
      "text/plain": [
       "id         0\n",
       "date       0\n",
       "user       0\n",
       "text       0\n",
       "emotion    0\n",
       "dtype: int64"
      ]
     },
     "metadata": {},
     "execution_count": 26
    }
   ],
   "source": [
    "df.isnull().sum()"
   ]
  },
  {
   "source": [
    "# Remove hashtags, mentions and links from text"
   ],
   "cell_type": "markdown",
   "metadata": {}
  },
  {
   "cell_type": "code",
   "execution_count": 27,
   "metadata": {},
   "outputs": [
    {
     "output_type": "execute_result",
     "data": {
      "text/plain": [
       "0        Me angrily drawing something (sorry it doesn’t...\n",
       "1        Sadguru Shree Aniruddha explains how one shoul...\n",
       "2        hayden stop looking at my social media i am #a...\n",
       "3        Damn, my gf calls me by name 😨😱\\n\\n#damn #mygi...\n",
       "4        It is not within everybody's power to be #angr...\n",
       "                               ...                        \n",
       "18340    #panama #pty #panamacity #507 #travel #venezue...\n",
       "18341    Chalk artist https://t.co/y6TgOMCf8s via @YouT...\n",
       "18342    @XXL Please subscribe to my @YouTube\\nfollow m...\n",
       "18343    I Love You 263-090 Latte Art Stencil now avail...\n",
       "18344    \"Jesus saith unto him, Thou hast said: neverth...\n",
       "Name: text, Length: 52184, dtype: object"
      ]
     },
     "metadata": {},
     "execution_count": 27
    }
   ],
   "source": [
    "df.text"
   ]
  },
  {
   "cell_type": "code",
   "execution_count": 28,
   "metadata": {},
   "outputs": [],
   "source": [
    "import re\n",
    "import string\n",
    "\n",
    "# Remove links\n",
    "def strip_links(text):\n",
    "    link_regex = re.compile('((https?):((//)|(\\\\\\\\))+([\\w\\d:#@%/;$()~_?\\+-=\\\\\\.&](#!)?)*)', re.DOTALL)\n",
    "    links = re.findall(link_regex, text)\n",
    "    for link in links:\n",
    "        text = text.replace(link[0], ', ')    \n",
    "    return text\n",
    "\n",
    "# Remove hashtags and mentions\n",
    "def strip_all_entities(text):\n",
    "    entity_prefixes = ['@','#']\n",
    "    for separator in  string.punctuation:\n",
    "        if separator not in entity_prefixes :\n",
    "            text = text.replace(separator,' ')\n",
    "    words = []\n",
    "    for word in text.split():\n",
    "        word = word.strip()\n",
    "        if word:\n",
    "            if word[0] not in entity_prefixes:\n",
    "                words.append(word)\n",
    "    return ' '.join(words)\n",
    "\n",
    "\n",
    "df['text'] = df['text'].apply(lambda t: strip_all_entities(strip_links(t)))"
   ]
  },
  {
   "cell_type": "code",
   "execution_count": 29,
   "metadata": {},
   "outputs": [
    {
     "output_type": "execute_result",
     "data": {
      "text/plain": [
       "0        Me angrily drawing something sorry it doesn’t ...\n",
       "1        Sadguru Shree Aniruddha explains how one shoul...\n",
       "2              hayden stop looking at my social media i am\n",
       "3                           Damn my gf calls me by name 😨😱\n",
       "4        It is not within everybody s power to be With ...\n",
       "                               ...                        \n",
       "18340                                              WEBSITE\n",
       "18341                                     Chalk artist via\n",
       "18342    Please subscribe to my follow my and enjoy thi...\n",
       "18343    I Love You 263 090 Latte Art Stencil now avail...\n",
       "18344    Jesus saith unto him Thou hast said neverthele...\n",
       "Name: text, Length: 52184, dtype: object"
      ]
     },
     "metadata": {},
     "execution_count": 29
    }
   ],
   "source": [
    "df.text"
   ]
  },
  {
   "source": [
    "### Remove row in which the field text is empty"
   ],
   "cell_type": "markdown",
   "metadata": {}
  },
  {
   "cell_type": "code",
   "execution_count": 30,
   "metadata": {},
   "outputs": [
    {
     "output_type": "execute_result",
     "data": {
      "text/plain": [
       "                        id                 date             user text  \\\n",
       "7163   1346456667865681920  2021-01-05 14:01:00     BREADHUNTER1        \n",
       "7150   1346456667865681920  2021-01-05 14:01:00     BREADHUNTER1        \n",
       "8130   1346456667865681920  2021-01-05 14:01:00     BREADHUNTER1        \n",
       "15194  1348380294332743680  2021-01-10 21:24:48  NaomiKilchhofer        \n",
       "15884  1346109259294105600  2021-01-04 15:00:31      the_bridge4        \n",
       "16191  1347852827373146115  2021-01-09 10:28:50         tore8673        \n",
       "18055  1346993009662046209  2021-01-07 01:32:14      RelatedBaby        \n",
       "18557  1347811443094253568  2021-01-09 07:44:23        441Grados        \n",
       "18991  1346516995047649284  2021-01-05 18:00:43      the_bridge4        \n",
       "18994  1347852827373146115  2021-01-09 10:28:50         tore8673        \n",
       "19485  1346960991032987649  2021-01-06 23:25:00         DebB1617        \n",
       "19643  1346381010179600384  2021-01-05 09:00:22      the_bridge4        \n",
       "19846  1346139513471557633  2021-01-04 17:00:44      the_bridge4        \n",
       "20188  1346154597799387145  2021-01-04 18:00:41      the_bridge4        \n",
       "20331  1346864269971910658  2021-01-06 17:00:40      the_bridge4        \n",
       "21237  1346437564031410176  2021-01-05 12:45:05         mrchosan        \n",
       "21424  1347951529127522307  2021-01-09 17:01:02     katrinaj7777        \n",
       "21869  1346109259109584897  2021-01-04 15:00:31      the_bridge4        \n",
       "22262  1348596379157897216  2021-01-11 11:43:27    flower2017sho        \n",
       "22356  1346532063764226052  2021-01-05 19:00:36      the_bridge4        \n",
       "22368  1346139532094283777  2021-01-04 17:00:49      the_bridge4        \n",
       "23588  1346532063764226052  2021-01-05 19:00:36      the_bridge4        \n",
       "23763  1346094117684707329  2021-01-04 14:00:21      the_bridge4        \n",
       "24003  1347935241495740416  2021-01-09 15:56:19          0o_JURI        \n",
       "24021  1348380294332743680  2021-01-10 21:24:48  NaomiKilchhofer        \n",
       "24321  1347951529127522307  2021-01-09 17:01:02     katrinaj7777        \n",
       "24498  1346094116803915776  2021-01-04 14:00:21      the_bridge4        \n",
       "25018  1346793284241383424  2021-01-06 12:18:35  NaomiKilchhofer        \n",
       "25076  1346199855060946945  2021-01-04 21:00:31      the_bridge4        \n",
       "26789  1347277191814410240  2021-01-07 20:21:28  BunnyBa62160238        \n",
       "27337  1347464147563384833  2021-01-08 08:44:22        inter_mkt        \n",
       "27426  1346381010179600384  2021-01-05 09:00:22      the_bridge4        \n",
       "27482  1346154597799387145  2021-01-04 18:00:41      the_bridge4        \n",
       "27547  1346109259294105600  2021-01-04 15:00:31      the_bridge4        \n",
       "28023  1347935241495740416  2021-01-09 15:56:19          0o_JURI        \n",
       "5666   1348586641640873989  2021-01-11 11:04:45    DeilEducation        \n",
       "6358   1348380294332743680  2021-01-10 21:24:48  NaomiKilchhofer        \n",
       "6758   1348448679875764225  2021-01-11 01:56:32   steph1official        \n",
       "6902   1348264453809328128  2021-01-10 13:44:29   PascalePlacide        \n",
       "8315   1347931618497982466  2021-01-09 15:41:55       calegashow        \n",
       "8656   1348095144176836609  2021-01-10 02:31:43      yungWolf904        \n",
       "10975  1348095444199608320  2021-01-10 02:32:54      yungWolf904        \n",
       "11528  1348166951768518657  2021-01-10 07:17:03   iam__karthickg        \n",
       "11768  1348591771480186880  2021-01-11 11:25:08   FHG_Ministries        \n",
       "12169  1348706938343874563  2021-01-11 19:02:46     VloggerSurya        \n",
       "13197  1348096805964230656  2021-01-10 02:38:19      yungWolf904        \n",
       "14797  1348546124769075201  2021-01-11 08:23:45  CarissimaEvents        \n",
       "16225  1347930035601219584  2021-01-09 15:35:38   FHG_Ministries        \n",
       "\n",
       "                     emotion  \n",
       "7163   constructive feedback  \n",
       "7150   constructive feedback  \n",
       "8130   constructive feedback  \n",
       "15194                    joy  \n",
       "15884                    joy  \n",
       "16191                    joy  \n",
       "18055                    joy  \n",
       "18557                    joy  \n",
       "18991                    joy  \n",
       "18994                    joy  \n",
       "19485                    joy  \n",
       "19643                    joy  \n",
       "19846                    joy  \n",
       "20188                    joy  \n",
       "20331                    joy  \n",
       "21237                    joy  \n",
       "21424                    joy  \n",
       "21869                    joy  \n",
       "22262                    joy  \n",
       "22356                    joy  \n",
       "22368                    joy  \n",
       "23588                    joy  \n",
       "23763                    joy  \n",
       "24003                    joy  \n",
       "24021                    joy  \n",
       "24321                    joy  \n",
       "24498                    joy  \n",
       "25018                    joy  \n",
       "25076                    joy  \n",
       "26789                    joy  \n",
       "27337                    joy  \n",
       "27426                    joy  \n",
       "27482                    joy  \n",
       "27547                    joy  \n",
       "28023                    joy  \n",
       "5666                    love  \n",
       "6358                    love  \n",
       "6758                    love  \n",
       "6902                    love  \n",
       "8315                    love  \n",
       "8656                    love  \n",
       "10975                   love  \n",
       "11528                   love  \n",
       "11768                   love  \n",
       "12169                   love  \n",
       "13197                   love  \n",
       "14797                   love  \n",
       "16225                   love  "
      ],
      "text/html": "<div>\n<style scoped>\n    .dataframe tbody tr th:only-of-type {\n        vertical-align: middle;\n    }\n\n    .dataframe tbody tr th {\n        vertical-align: top;\n    }\n\n    .dataframe thead th {\n        text-align: right;\n    }\n</style>\n<table border=\"1\" class=\"dataframe\">\n  <thead>\n    <tr style=\"text-align: right;\">\n      <th></th>\n      <th>id</th>\n      <th>date</th>\n      <th>user</th>\n      <th>text</th>\n      <th>emotion</th>\n    </tr>\n  </thead>\n  <tbody>\n    <tr>\n      <th>7163</th>\n      <td>1346456667865681920</td>\n      <td>2021-01-05 14:01:00</td>\n      <td>BREADHUNTER1</td>\n      <td></td>\n      <td>constructive feedback</td>\n    </tr>\n    <tr>\n      <th>7150</th>\n      <td>1346456667865681920</td>\n      <td>2021-01-05 14:01:00</td>\n      <td>BREADHUNTER1</td>\n      <td></td>\n      <td>constructive feedback</td>\n    </tr>\n    <tr>\n      <th>8130</th>\n      <td>1346456667865681920</td>\n      <td>2021-01-05 14:01:00</td>\n      <td>BREADHUNTER1</td>\n      <td></td>\n      <td>constructive feedback</td>\n    </tr>\n    <tr>\n      <th>15194</th>\n      <td>1348380294332743680</td>\n      <td>2021-01-10 21:24:48</td>\n      <td>NaomiKilchhofer</td>\n      <td></td>\n      <td>joy</td>\n    </tr>\n    <tr>\n      <th>15884</th>\n      <td>1346109259294105600</td>\n      <td>2021-01-04 15:00:31</td>\n      <td>the_bridge4</td>\n      <td></td>\n      <td>joy</td>\n    </tr>\n    <tr>\n      <th>16191</th>\n      <td>1347852827373146115</td>\n      <td>2021-01-09 10:28:50</td>\n      <td>tore8673</td>\n      <td></td>\n      <td>joy</td>\n    </tr>\n    <tr>\n      <th>18055</th>\n      <td>1346993009662046209</td>\n      <td>2021-01-07 01:32:14</td>\n      <td>RelatedBaby</td>\n      <td></td>\n      <td>joy</td>\n    </tr>\n    <tr>\n      <th>18557</th>\n      <td>1347811443094253568</td>\n      <td>2021-01-09 07:44:23</td>\n      <td>441Grados</td>\n      <td></td>\n      <td>joy</td>\n    </tr>\n    <tr>\n      <th>18991</th>\n      <td>1346516995047649284</td>\n      <td>2021-01-05 18:00:43</td>\n      <td>the_bridge4</td>\n      <td></td>\n      <td>joy</td>\n    </tr>\n    <tr>\n      <th>18994</th>\n      <td>1347852827373146115</td>\n      <td>2021-01-09 10:28:50</td>\n      <td>tore8673</td>\n      <td></td>\n      <td>joy</td>\n    </tr>\n    <tr>\n      <th>19485</th>\n      <td>1346960991032987649</td>\n      <td>2021-01-06 23:25:00</td>\n      <td>DebB1617</td>\n      <td></td>\n      <td>joy</td>\n    </tr>\n    <tr>\n      <th>19643</th>\n      <td>1346381010179600384</td>\n      <td>2021-01-05 09:00:22</td>\n      <td>the_bridge4</td>\n      <td></td>\n      <td>joy</td>\n    </tr>\n    <tr>\n      <th>19846</th>\n      <td>1346139513471557633</td>\n      <td>2021-01-04 17:00:44</td>\n      <td>the_bridge4</td>\n      <td></td>\n      <td>joy</td>\n    </tr>\n    <tr>\n      <th>20188</th>\n      <td>1346154597799387145</td>\n      <td>2021-01-04 18:00:41</td>\n      <td>the_bridge4</td>\n      <td></td>\n      <td>joy</td>\n    </tr>\n    <tr>\n      <th>20331</th>\n      <td>1346864269971910658</td>\n      <td>2021-01-06 17:00:40</td>\n      <td>the_bridge4</td>\n      <td></td>\n      <td>joy</td>\n    </tr>\n    <tr>\n      <th>21237</th>\n      <td>1346437564031410176</td>\n      <td>2021-01-05 12:45:05</td>\n      <td>mrchosan</td>\n      <td></td>\n      <td>joy</td>\n    </tr>\n    <tr>\n      <th>21424</th>\n      <td>1347951529127522307</td>\n      <td>2021-01-09 17:01:02</td>\n      <td>katrinaj7777</td>\n      <td></td>\n      <td>joy</td>\n    </tr>\n    <tr>\n      <th>21869</th>\n      <td>1346109259109584897</td>\n      <td>2021-01-04 15:00:31</td>\n      <td>the_bridge4</td>\n      <td></td>\n      <td>joy</td>\n    </tr>\n    <tr>\n      <th>22262</th>\n      <td>1348596379157897216</td>\n      <td>2021-01-11 11:43:27</td>\n      <td>flower2017sho</td>\n      <td></td>\n      <td>joy</td>\n    </tr>\n    <tr>\n      <th>22356</th>\n      <td>1346532063764226052</td>\n      <td>2021-01-05 19:00:36</td>\n      <td>the_bridge4</td>\n      <td></td>\n      <td>joy</td>\n    </tr>\n    <tr>\n      <th>22368</th>\n      <td>1346139532094283777</td>\n      <td>2021-01-04 17:00:49</td>\n      <td>the_bridge4</td>\n      <td></td>\n      <td>joy</td>\n    </tr>\n    <tr>\n      <th>23588</th>\n      <td>1346532063764226052</td>\n      <td>2021-01-05 19:00:36</td>\n      <td>the_bridge4</td>\n      <td></td>\n      <td>joy</td>\n    </tr>\n    <tr>\n      <th>23763</th>\n      <td>1346094117684707329</td>\n      <td>2021-01-04 14:00:21</td>\n      <td>the_bridge4</td>\n      <td></td>\n      <td>joy</td>\n    </tr>\n    <tr>\n      <th>24003</th>\n      <td>1347935241495740416</td>\n      <td>2021-01-09 15:56:19</td>\n      <td>0o_JURI</td>\n      <td></td>\n      <td>joy</td>\n    </tr>\n    <tr>\n      <th>24021</th>\n      <td>1348380294332743680</td>\n      <td>2021-01-10 21:24:48</td>\n      <td>NaomiKilchhofer</td>\n      <td></td>\n      <td>joy</td>\n    </tr>\n    <tr>\n      <th>24321</th>\n      <td>1347951529127522307</td>\n      <td>2021-01-09 17:01:02</td>\n      <td>katrinaj7777</td>\n      <td></td>\n      <td>joy</td>\n    </tr>\n    <tr>\n      <th>24498</th>\n      <td>1346094116803915776</td>\n      <td>2021-01-04 14:00:21</td>\n      <td>the_bridge4</td>\n      <td></td>\n      <td>joy</td>\n    </tr>\n    <tr>\n      <th>25018</th>\n      <td>1346793284241383424</td>\n      <td>2021-01-06 12:18:35</td>\n      <td>NaomiKilchhofer</td>\n      <td></td>\n      <td>joy</td>\n    </tr>\n    <tr>\n      <th>25076</th>\n      <td>1346199855060946945</td>\n      <td>2021-01-04 21:00:31</td>\n      <td>the_bridge4</td>\n      <td></td>\n      <td>joy</td>\n    </tr>\n    <tr>\n      <th>26789</th>\n      <td>1347277191814410240</td>\n      <td>2021-01-07 20:21:28</td>\n      <td>BunnyBa62160238</td>\n      <td></td>\n      <td>joy</td>\n    </tr>\n    <tr>\n      <th>27337</th>\n      <td>1347464147563384833</td>\n      <td>2021-01-08 08:44:22</td>\n      <td>inter_mkt</td>\n      <td></td>\n      <td>joy</td>\n    </tr>\n    <tr>\n      <th>27426</th>\n      <td>1346381010179600384</td>\n      <td>2021-01-05 09:00:22</td>\n      <td>the_bridge4</td>\n      <td></td>\n      <td>joy</td>\n    </tr>\n    <tr>\n      <th>27482</th>\n      <td>1346154597799387145</td>\n      <td>2021-01-04 18:00:41</td>\n      <td>the_bridge4</td>\n      <td></td>\n      <td>joy</td>\n    </tr>\n    <tr>\n      <th>27547</th>\n      <td>1346109259294105600</td>\n      <td>2021-01-04 15:00:31</td>\n      <td>the_bridge4</td>\n      <td></td>\n      <td>joy</td>\n    </tr>\n    <tr>\n      <th>28023</th>\n      <td>1347935241495740416</td>\n      <td>2021-01-09 15:56:19</td>\n      <td>0o_JURI</td>\n      <td></td>\n      <td>joy</td>\n    </tr>\n    <tr>\n      <th>5666</th>\n      <td>1348586641640873989</td>\n      <td>2021-01-11 11:04:45</td>\n      <td>DeilEducation</td>\n      <td></td>\n      <td>love</td>\n    </tr>\n    <tr>\n      <th>6358</th>\n      <td>1348380294332743680</td>\n      <td>2021-01-10 21:24:48</td>\n      <td>NaomiKilchhofer</td>\n      <td></td>\n      <td>love</td>\n    </tr>\n    <tr>\n      <th>6758</th>\n      <td>1348448679875764225</td>\n      <td>2021-01-11 01:56:32</td>\n      <td>steph1official</td>\n      <td></td>\n      <td>love</td>\n    </tr>\n    <tr>\n      <th>6902</th>\n      <td>1348264453809328128</td>\n      <td>2021-01-10 13:44:29</td>\n      <td>PascalePlacide</td>\n      <td></td>\n      <td>love</td>\n    </tr>\n    <tr>\n      <th>8315</th>\n      <td>1347931618497982466</td>\n      <td>2021-01-09 15:41:55</td>\n      <td>calegashow</td>\n      <td></td>\n      <td>love</td>\n    </tr>\n    <tr>\n      <th>8656</th>\n      <td>1348095144176836609</td>\n      <td>2021-01-10 02:31:43</td>\n      <td>yungWolf904</td>\n      <td></td>\n      <td>love</td>\n    </tr>\n    <tr>\n      <th>10975</th>\n      <td>1348095444199608320</td>\n      <td>2021-01-10 02:32:54</td>\n      <td>yungWolf904</td>\n      <td></td>\n      <td>love</td>\n    </tr>\n    <tr>\n      <th>11528</th>\n      <td>1348166951768518657</td>\n      <td>2021-01-10 07:17:03</td>\n      <td>iam__karthickg</td>\n      <td></td>\n      <td>love</td>\n    </tr>\n    <tr>\n      <th>11768</th>\n      <td>1348591771480186880</td>\n      <td>2021-01-11 11:25:08</td>\n      <td>FHG_Ministries</td>\n      <td></td>\n      <td>love</td>\n    </tr>\n    <tr>\n      <th>12169</th>\n      <td>1348706938343874563</td>\n      <td>2021-01-11 19:02:46</td>\n      <td>VloggerSurya</td>\n      <td></td>\n      <td>love</td>\n    </tr>\n    <tr>\n      <th>13197</th>\n      <td>1348096805964230656</td>\n      <td>2021-01-10 02:38:19</td>\n      <td>yungWolf904</td>\n      <td></td>\n      <td>love</td>\n    </tr>\n    <tr>\n      <th>14797</th>\n      <td>1348546124769075201</td>\n      <td>2021-01-11 08:23:45</td>\n      <td>CarissimaEvents</td>\n      <td></td>\n      <td>love</td>\n    </tr>\n    <tr>\n      <th>16225</th>\n      <td>1347930035601219584</td>\n      <td>2021-01-09 15:35:38</td>\n      <td>FHG_Ministries</td>\n      <td></td>\n      <td>love</td>\n    </tr>\n  </tbody>\n</table>\n</div>"
     },
     "metadata": {},
     "execution_count": 30
    }
   ],
   "source": [
    "df[df['text'] == '']"
   ]
  },
  {
   "cell_type": "code",
   "execution_count": 31,
   "metadata": {},
   "outputs": [
    {
     "output_type": "execute_result",
     "data": {
      "text/plain": [
       "Empty DataFrame\n",
       "Columns: [id, date, user, text, emotion]\n",
       "Index: []"
      ],
      "text/html": "<div>\n<style scoped>\n    .dataframe tbody tr th:only-of-type {\n        vertical-align: middle;\n    }\n\n    .dataframe tbody tr th {\n        vertical-align: top;\n    }\n\n    .dataframe thead th {\n        text-align: right;\n    }\n</style>\n<table border=\"1\" class=\"dataframe\">\n  <thead>\n    <tr style=\"text-align: right;\">\n      <th></th>\n      <th>id</th>\n      <th>date</th>\n      <th>user</th>\n      <th>text</th>\n      <th>emotion</th>\n    </tr>\n  </thead>\n  <tbody>\n  </tbody>\n</table>\n</div>"
     },
     "metadata": {},
     "execution_count": 31
    }
   ],
   "source": [
    "# Replace empty cells with NaN\n",
    "df['text'].replace('', np.nan, inplace=True)\n",
    "\n",
    "df[df['text'] == '']"
   ]
  },
  {
   "cell_type": "code",
   "execution_count": 32,
   "metadata": {},
   "outputs": [
    {
     "output_type": "execute_result",
     "data": {
      "text/plain": [
       "id          0\n",
       "date        0\n",
       "user        0\n",
       "text       48\n",
       "emotion     0\n",
       "dtype: int64"
      ]
     },
     "metadata": {},
     "execution_count": 32
    }
   ],
   "source": [
    "df.isnull().sum()"
   ]
  },
  {
   "cell_type": "code",
   "execution_count": 33,
   "metadata": {},
   "outputs": [
    {
     "output_type": "execute_result",
     "data": {
      "text/plain": [
       "id         0\n",
       "date       0\n",
       "user       0\n",
       "text       0\n",
       "emotion    0\n",
       "dtype: int64"
      ]
     },
     "metadata": {},
     "execution_count": 33
    }
   ],
   "source": [
    "# Drop those rows\n",
    "df.dropna(subset=['text'], inplace=True)\n",
    "\n",
    "df.isnull().sum()"
   ]
  },
  {
   "source": [
    "# Finalize dataframe and export"
   ],
   "cell_type": "markdown",
   "metadata": {}
  },
  {
   "cell_type": "code",
   "execution_count": 34,
   "metadata": {},
   "outputs": [
    {
     "output_type": "execute_result",
     "data": {
      "text/plain": [
       "                                                    text     emotion\n",
       "0      Y’all better get yours today You won’t be disa...        love\n",
       "1      It is absolutely DANGEROUS that 45 s supporter...     disgust\n",
       "2                              It s Monday Time to focus        love\n",
       "3                                             Prem Rawat         joy\n",
       "4              We re human We feel it but can control it  anger/hate\n",
       "...                                                  ...         ...\n",
       "52131  Healing requires we be fully aware of our feel...  anger/hate\n",
       "52132  provided an environment for the soul to increa...        love\n",
       "52133  Was waiting for the sun to rise 😁 favourite ❤🙏...        love\n",
       "52134  The rep in this week s countdown is student Ty...         joy\n",
       "52135  New article drop Taking a look at our system a...        love\n",
       "\n",
       "[52136 rows x 2 columns]"
      ],
      "text/html": "<div>\n<style scoped>\n    .dataframe tbody tr th:only-of-type {\n        vertical-align: middle;\n    }\n\n    .dataframe tbody tr th {\n        vertical-align: top;\n    }\n\n    .dataframe thead th {\n        text-align: right;\n    }\n</style>\n<table border=\"1\" class=\"dataframe\">\n  <thead>\n    <tr style=\"text-align: right;\">\n      <th></th>\n      <th>text</th>\n      <th>emotion</th>\n    </tr>\n  </thead>\n  <tbody>\n    <tr>\n      <th>0</th>\n      <td>Y’all better get yours today You won’t be disa...</td>\n      <td>love</td>\n    </tr>\n    <tr>\n      <th>1</th>\n      <td>It is absolutely DANGEROUS that 45 s supporter...</td>\n      <td>disgust</td>\n    </tr>\n    <tr>\n      <th>2</th>\n      <td>It s Monday Time to focus</td>\n      <td>love</td>\n    </tr>\n    <tr>\n      <th>3</th>\n      <td>Prem Rawat</td>\n      <td>joy</td>\n    </tr>\n    <tr>\n      <th>4</th>\n      <td>We re human We feel it but can control it</td>\n      <td>anger/hate</td>\n    </tr>\n    <tr>\n      <th>...</th>\n      <td>...</td>\n      <td>...</td>\n    </tr>\n    <tr>\n      <th>52131</th>\n      <td>Healing requires we be fully aware of our feel...</td>\n      <td>anger/hate</td>\n    </tr>\n    <tr>\n      <th>52132</th>\n      <td>provided an environment for the soul to increa...</td>\n      <td>love</td>\n    </tr>\n    <tr>\n      <th>52133</th>\n      <td>Was waiting for the sun to rise 😁 favourite ❤🙏...</td>\n      <td>love</td>\n    </tr>\n    <tr>\n      <th>52134</th>\n      <td>The rep in this week s countdown is student Ty...</td>\n      <td>joy</td>\n    </tr>\n    <tr>\n      <th>52135</th>\n      <td>New article drop Taking a look at our system a...</td>\n      <td>love</td>\n    </tr>\n  </tbody>\n</table>\n<p>52136 rows × 2 columns</p>\n</div>"
     },
     "metadata": {},
     "execution_count": 34
    }
   ],
   "source": [
    "# Shuffle dataframe\n",
    "df = df.sample(frac=1).reset_index(drop=True)\n",
    "\n",
    "# Get only text and emotion columns\n",
    "df = df[[ 'text', 'emotion' ]]\n",
    "\n",
    "df"
   ]
  },
  {
   "cell_type": "code",
   "execution_count": 35,
   "metadata": {},
   "outputs": [],
   "source": [
    "df.to_csv('./data/edited/emotions.csv')"
   ]
  },
  {
   "cell_type": "code",
   "execution_count": null,
   "metadata": {},
   "outputs": [],
   "source": []
  }
 ]
}
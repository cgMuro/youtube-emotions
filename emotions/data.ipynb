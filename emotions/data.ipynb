{
 "metadata": {
  "language_info": {
   "codemirror_mode": {
    "name": "ipython",
    "version": 3
   },
   "file_extension": ".py",
   "mimetype": "text/x-python",
   "name": "python",
   "nbconvert_exporter": "python",
   "pygments_lexer": "ipython3",
   "version": "3.8.5-final"
  },
  "orig_nbformat": 2,
  "kernelspec": {
   "name": "python3",
   "display_name": "Python 3",
   "language": "python"
  }
 },
 "nbformat": 4,
 "nbformat_minor": 2,
 "cells": [
  {
   "cell_type": "code",
   "execution_count": 1,
   "metadata": {},
   "outputs": [],
   "source": [
    "import numpy as np\n",
    "import pandas as pd"
   ]
  },
  {
   "cell_type": "code",
   "execution_count": 4,
   "metadata": {},
   "outputs": [
    {
     "output_type": "execute_result",
     "data": {
      "text/plain": [
       "   Sr No.                                          Utterance          Speaker  \\\n",
       "0       1  also I was the point person on my company’s tr...         Chandler   \n",
       "1       2                   You must’ve had your hands full.  The Interviewer   \n",
       "2       3                            That I did. That I did.         Chandler   \n",
       "3       4      So let’s talk a little bit about your duties.  The Interviewer   \n",
       "4       5                             My duties?  All right.         Chandler   \n",
       "\n",
       "    Emotion Sentiment  Dialogue_ID  Utterance_ID  Season  Episode  \\\n",
       "0   neutral   neutral            0             0       8       21   \n",
       "1   neutral   neutral            0             1       8       21   \n",
       "2   neutral   neutral            0             2       8       21   \n",
       "3   neutral   neutral            0             3       8       21   \n",
       "4  surprise  positive            0             4       8       21   \n",
       "\n",
       "      StartTime       EndTime  \n",
       "0  00:16:16,059  00:16:21,731  \n",
       "1  00:16:21,940  00:16:23,442  \n",
       "2  00:16:23,442  00:16:26,389  \n",
       "3  00:16:26,820  00:16:29,572  \n",
       "4  00:16:34,452  00:16:40,917  "
      ],
      "text/html": "<div>\n<style scoped>\n    .dataframe tbody tr th:only-of-type {\n        vertical-align: middle;\n    }\n\n    .dataframe tbody tr th {\n        vertical-align: top;\n    }\n\n    .dataframe thead th {\n        text-align: right;\n    }\n</style>\n<table border=\"1\" class=\"dataframe\">\n  <thead>\n    <tr style=\"text-align: right;\">\n      <th></th>\n      <th>Sr No.</th>\n      <th>Utterance</th>\n      <th>Speaker</th>\n      <th>Emotion</th>\n      <th>Sentiment</th>\n      <th>Dialogue_ID</th>\n      <th>Utterance_ID</th>\n      <th>Season</th>\n      <th>Episode</th>\n      <th>StartTime</th>\n      <th>EndTime</th>\n    </tr>\n  </thead>\n  <tbody>\n    <tr>\n      <th>0</th>\n      <td>1</td>\n      <td>also I was the point person on my company’s tr...</td>\n      <td>Chandler</td>\n      <td>neutral</td>\n      <td>neutral</td>\n      <td>0</td>\n      <td>0</td>\n      <td>8</td>\n      <td>21</td>\n      <td>00:16:16,059</td>\n      <td>00:16:21,731</td>\n    </tr>\n    <tr>\n      <th>1</th>\n      <td>2</td>\n      <td>You must’ve had your hands full.</td>\n      <td>The Interviewer</td>\n      <td>neutral</td>\n      <td>neutral</td>\n      <td>0</td>\n      <td>1</td>\n      <td>8</td>\n      <td>21</td>\n      <td>00:16:21,940</td>\n      <td>00:16:23,442</td>\n    </tr>\n    <tr>\n      <th>2</th>\n      <td>3</td>\n      <td>That I did. That I did.</td>\n      <td>Chandler</td>\n      <td>neutral</td>\n      <td>neutral</td>\n      <td>0</td>\n      <td>2</td>\n      <td>8</td>\n      <td>21</td>\n      <td>00:16:23,442</td>\n      <td>00:16:26,389</td>\n    </tr>\n    <tr>\n      <th>3</th>\n      <td>4</td>\n      <td>So let’s talk a little bit about your duties.</td>\n      <td>The Interviewer</td>\n      <td>neutral</td>\n      <td>neutral</td>\n      <td>0</td>\n      <td>3</td>\n      <td>8</td>\n      <td>21</td>\n      <td>00:16:26,820</td>\n      <td>00:16:29,572</td>\n    </tr>\n    <tr>\n      <th>4</th>\n      <td>5</td>\n      <td>My duties?  All right.</td>\n      <td>Chandler</td>\n      <td>surprise</td>\n      <td>positive</td>\n      <td>0</td>\n      <td>4</td>\n      <td>8</td>\n      <td>21</td>\n      <td>00:16:34,452</td>\n      <td>00:16:40,917</td>\n    </tr>\n  </tbody>\n</table>\n</div>"
     },
     "metadata": {},
     "execution_count": 4
    }
   ],
   "source": [
    "raw_df = pd.read_csv('./data/raw/data.csv')\n",
    "\n",
    "raw_df.head()"
   ]
  },
  {
   "cell_type": "code",
   "execution_count": 5,
   "metadata": {},
   "outputs": [
    {
     "output_type": "execute_result",
     "data": {
      "text/plain": [
       "                                                Sentence Sentiment   Emotion\n",
       "0      also I was the point person on my company’s tr...   neutral   neutral\n",
       "1                       You must’ve had your hands full.   neutral   neutral\n",
       "2                                That I did. That I did.   neutral   neutral\n",
       "3          So let’s talk a little bit about your duties.   neutral   neutral\n",
       "4                                 My duties?  All right.  positive  surprise\n",
       "...                                                  ...       ...       ...\n",
       "12594  Yeah, I mean, come on Ross, no one will even n...   neutral   neutral\n",
       "12595                      They’re not listening too me?  negative  surprise\n",
       "12596  Of course they’re listening to you! Everybody ...   neutral   neutral\n",
       "12597  Monica you really think I should try this phas...   neutral   neutral\n",
       "12598                             I think you look fine.   neutral   neutral\n",
       "\n",
       "[12599 rows x 3 columns]"
      ],
      "text/html": "<div>\n<style scoped>\n    .dataframe tbody tr th:only-of-type {\n        vertical-align: middle;\n    }\n\n    .dataframe tbody tr th {\n        vertical-align: top;\n    }\n\n    .dataframe thead th {\n        text-align: right;\n    }\n</style>\n<table border=\"1\" class=\"dataframe\">\n  <thead>\n    <tr style=\"text-align: right;\">\n      <th></th>\n      <th>Sentence</th>\n      <th>Sentiment</th>\n      <th>Emotion</th>\n    </tr>\n  </thead>\n  <tbody>\n    <tr>\n      <th>0</th>\n      <td>also I was the point person on my company’s tr...</td>\n      <td>neutral</td>\n      <td>neutral</td>\n    </tr>\n    <tr>\n      <th>1</th>\n      <td>You must’ve had your hands full.</td>\n      <td>neutral</td>\n      <td>neutral</td>\n    </tr>\n    <tr>\n      <th>2</th>\n      <td>That I did. That I did.</td>\n      <td>neutral</td>\n      <td>neutral</td>\n    </tr>\n    <tr>\n      <th>3</th>\n      <td>So let’s talk a little bit about your duties.</td>\n      <td>neutral</td>\n      <td>neutral</td>\n    </tr>\n    <tr>\n      <th>4</th>\n      <td>My duties?  All right.</td>\n      <td>positive</td>\n      <td>surprise</td>\n    </tr>\n    <tr>\n      <th>...</th>\n      <td>...</td>\n      <td>...</td>\n      <td>...</td>\n    </tr>\n    <tr>\n      <th>12594</th>\n      <td>Yeah, I mean, come on Ross, no one will even n...</td>\n      <td>neutral</td>\n      <td>neutral</td>\n    </tr>\n    <tr>\n      <th>12595</th>\n      <td>They’re not listening too me?</td>\n      <td>negative</td>\n      <td>surprise</td>\n    </tr>\n    <tr>\n      <th>12596</th>\n      <td>Of course they’re listening to you! Everybody ...</td>\n      <td>neutral</td>\n      <td>neutral</td>\n    </tr>\n    <tr>\n      <th>12597</th>\n      <td>Monica you really think I should try this phas...</td>\n      <td>neutral</td>\n      <td>neutral</td>\n    </tr>\n    <tr>\n      <th>12598</th>\n      <td>I think you look fine.</td>\n      <td>neutral</td>\n      <td>neutral</td>\n    </tr>\n  </tbody>\n</table>\n<p>12599 rows × 3 columns</p>\n</div>"
     },
     "metadata": {},
     "execution_count": 5
    }
   ],
   "source": [
    "# Get only needed columns\n",
    "df = raw_df[['Utterance', 'Sentiment', 'Emotion']]\n",
    "df.rename(columns={'Utterance': 'Sentence'}, inplace=True)\n",
    "\n",
    "df"
   ]
  },
  {
   "cell_type": "code",
   "execution_count": 6,
   "metadata": {},
   "outputs": [
    {
     "output_type": "stream",
     "name": "stdout",
     "text": [
      "<class 'pandas.core.frame.DataFrame'>\nRangeIndex: 12599 entries, 0 to 12598\nData columns (total 3 columns):\n #   Column     Non-Null Count  Dtype \n---  ------     --------------  ----- \n 0   Sentence   12599 non-null  object\n 1   Sentiment  12599 non-null  object\n 2   Emotion    12599 non-null  object\ndtypes: object(3)\nmemory usage: 295.4+ KB\n"
     ]
    }
   ],
   "source": [
    "df.info()"
   ]
  },
  {
   "cell_type": "code",
   "execution_count": 7,
   "metadata": {},
   "outputs": [
    {
     "output_type": "execute_result",
     "data": {
      "text/plain": [
       "Sentence     0\n",
       "Sentiment    0\n",
       "Emotion      0\n",
       "dtype: int64"
      ]
     },
     "metadata": {},
     "execution_count": 7
    }
   ],
   "source": [
    "df.isnull().sum()"
   ]
  },
  {
   "cell_type": "code",
   "execution_count": 8,
   "metadata": {},
   "outputs": [],
   "source": [
    "df.to_csv('./data/edited/data.csv')"
   ]
  },
  {
   "cell_type": "code",
   "execution_count": null,
   "metadata": {},
   "outputs": [],
   "source": []
  }
 ]
}
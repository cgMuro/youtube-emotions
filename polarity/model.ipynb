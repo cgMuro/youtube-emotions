{
 "metadata": {
  "language_info": {
   "codemirror_mode": {
    "name": "ipython",
    "version": 3
   },
   "file_extension": ".py",
   "mimetype": "text/x-python",
   "name": "python",
   "nbconvert_exporter": "python",
   "pygments_lexer": "ipython3",
   "version": "3.8.5-final"
  },
  "orig_nbformat": 2,
  "kernelspec": {
   "name": "python3",
   "display_name": "Python 3",
   "language": "python"
  }
 },
 "nbformat": 4,
 "nbformat_minor": 2,
 "cells": [
  {
   "cell_type": "code",
   "execution_count": null,
   "metadata": {},
   "outputs": [],
   "source": [
    "import pandas as pd\n",
    "import numpy as np\n",
    "import tensorflow as tf\n",
    "import tensorflow_hub as hub\n",
    "import tensorflow_text\n",
    "from tqdm import tqdm\n",
    "from sklearn.model_selection import train_test_split"
   ]
  },
  {
   "source": [
    "# Get Universal Sentence Encoder from TensorFlow Hub"
   ],
   "cell_type": "markdown",
   "metadata": {}
  },
  {
   "cell_type": "code",
   "execution_count": null,
   "metadata": {},
   "outputs": [],
   "source": [
    "USE = hub.load(\"https://tfhub.dev/google/universal-sentence-encoder-multilingual-large/3\")"
   ]
  },
  {
   "source": [
    "# Get Dataset"
   ],
   "cell_type": "markdown",
   "metadata": {}
  },
  {
   "cell_type": "code",
   "execution_count": null,
   "metadata": {},
   "outputs": [],
   "source": [
    "from sklearn.utils import shuffle\n",
    "\n",
    "df = pd.read_csv('./data/edited/data.csv')\n",
    "df = shuffle(df)\n",
    "df"
   ]
  },
  {
   "source": [
    "### Reduce dataset and transform labels"
   ],
   "cell_type": "markdown",
   "metadata": {}
  },
  {
   "cell_type": "code",
   "execution_count": null,
   "metadata": {},
   "outputs": [],
   "source": [
    "df = df[:100000]\n",
    "\n",
    "# Transform target from labels to numbers\n",
    "decode_map = {\"negative\": 0, \"positive\": 1}\n",
    "def decode_sentiment(label):\n",
    "    return decode_map[label]\n",
    "\n",
    "df['polarity'] = df['polarity'].apply(lambda x: decode_sentiment(x))\n",
    "\n",
    "x = df['text']\n",
    "y = df['polarity']"
   ]
  },
  {
   "source": [
    "### Split features and labels"
   ],
   "cell_type": "markdown",
   "metadata": {}
  },
  {
   "cell_type": "code",
   "execution_count": null,
   "metadata": {},
   "outputs": [],
   "source": [
    "x = df['text']\n",
    "y = df['polarity']"
   ]
  },
  {
   "source": [
    "# Process Dataset"
   ],
   "cell_type": "markdown",
   "metadata": {}
  },
  {
   "source": [
    "## Convert Sentence to Embedding Vector"
   ],
   "cell_type": "markdown",
   "metadata": {}
  },
  {
   "cell_type": "code",
   "execution_count": null,
   "metadata": {},
   "outputs": [],
   "source": [
    "x_emb = []\n",
    "\n",
    "for i in tqdm(x):\n",
    "    emb = USE(i)\n",
    "    sentence_emb = tf.reshape(emb, [-1]).numpy()\n",
    "    x_emb.append(sentence_emb)\n",
    "\n",
    "x_emb = np.array(x_emb)"
   ]
  },
  {
   "source": [
    "## Train and Test Split"
   ],
   "cell_type": "markdown",
   "metadata": {}
  },
  {
   "cell_type": "code",
   "execution_count": null,
   "metadata": {},
   "outputs": [],
   "source": [
    "X_train, X_test, y_train, y_test = train_test_split(\n",
    "    x_emb,\n",
    "    y,\n",
    "    test_size=0.2,\n",
    "    #random_state=42\n",
    ")"
   ]
  },
  {
   "source": [
    "## Process Labels"
   ],
   "cell_type": "markdown",
   "metadata": {}
  },
  {
   "cell_type": "code",
   "execution_count": null,
   "metadata": {},
   "outputs": [],
   "source": [
    "y_train = np.asarray(y_train).astype('float32').reshape((-1,1))\n",
    "y_test = np.asarray(y_test).astype('float32').reshape((-1,1))"
   ]
  },
  {
   "source": [
    "# Build the Model"
   ],
   "cell_type": "markdown",
   "metadata": {}
  },
  {
   "cell_type": "code",
   "execution_count": null,
   "metadata": {},
   "outputs": [],
   "source": [
    "# Build model\n",
    "model = tf.keras.models.Sequential([\n",
    "    tf.keras.layers.Dense(512, input_shape=(X_train.shape[1],), activation='relu'),\n",
    "    tf.keras.layers.Dropout(0.8),\n",
    "    tf.keras.layers.Dense(512, activation='relu'),\n",
    "    tf.keras.layers.Dropout(0.8),\n",
    "    tf.keras.layers.Dense(128, activation='relu'),\n",
    "    tf.keras.layers.Dense(1, activation='sigmoid')\n",
    "])\n",
    "\n",
    "model.compile(\n",
    "    loss='binary_crossentropy',\n",
    "    optimizer=tf.keras.optimizers.Adam(0.001),\n",
    "    metrics=['accuracy']\n",
    ")\n",
    "\n",
    "model.summary()"
   ]
  },
  {
   "source": [
    "### Train"
   ],
   "cell_type": "markdown",
   "metadata": {}
  },
  {
   "cell_type": "code",
   "execution_count": null,
   "metadata": {},
   "outputs": [],
   "source": [
    "results = model.fit(\n",
    "    X_train,\n",
    "    y_train,\n",
    "    epochs=20,\n",
    "    validation_split=0.2,\n",
    "    shuffle=True,\n",
    "    batch_size=128\n",
    ")"
   ]
  },
  {
   "source": [
    "### Evaluate"
   ],
   "cell_type": "markdown",
   "metadata": {}
  },
  {
   "cell_type": "code",
   "execution_count": null,
   "metadata": {},
   "outputs": [],
   "source": [
    "model.evaluate(X_test, y_test)"
   ]
  },
  {
   "source": [
    "### New Predictions"
   ],
   "cell_type": "markdown",
   "metadata": {}
  },
  {
   "cell_type": "code",
   "execution_count": null,
   "metadata": {},
   "outputs": [],
   "source": [
    "def decode_prediction(x):\n",
    "    if x >= 0.5:\n",
    "        return 'Positive'\n",
    "    elif x < 0.5:\n",
    "        return 'Negative'\n",
    "    else:\n",
    "        return 'Error'\n",
    "\n",
    "\n",
    "sentence =  'i think you are amazing keep up the great work'\n",
    "emb = USE(sentence)\n",
    "sentence_emb = tf.reshape(emb, [-1]).numpy()\n",
    "sentence_emb = np.array(sentence_emb).reshape(1,-1)\n",
    "\n",
    "prediction = model.predict(sentence_emb)\n",
    "prediction = decode_prediction(prediction)\n",
    "\n",
    "prediction"
   ]
  },
  {
   "source": [
    "# Save Model"
   ],
   "cell_type": "markdown",
   "metadata": {}
  },
  {
   "cell_type": "code",
   "execution_count": null,
   "metadata": {},
   "outputs": [],
   "source": [
    "model.save('model.h5')"
   ]
  }
 ]
}